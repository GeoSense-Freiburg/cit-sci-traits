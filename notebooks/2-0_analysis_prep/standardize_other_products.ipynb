{
 "cells": [
  {
   "cell_type": "markdown",
   "metadata": {},
   "source": [
    "# 2.1.3: Product benchmarking with sPlot"
   ]
  },
  {
   "cell_type": "markdown",
   "metadata": {},
   "source": [
    "These trait maps are certainly not the first to be made, and there are several other great attempts at the challenging task of producing global trait maps. This raises an important question for both trait map creators and consumers: which maps should be used and for which purposes?\n",
    "\n",
    "Here we propose the use of the global vegetation plot dataset sPlot as a benchmark against which existing trait products can be compared, as sPlot is the only global-scale dataset that contains plot-level trait estimates, generally avoiding the biases and pitfalls that come with crowd-sourced species observations.\n",
    "\n",
    "The trait maps we will be comparing against sPlot are:\n",
    "- Boonman et al., 2020\n",
    "- Butler et al., 2017\n",
    "- Dong et al., 2023\n",
    "- Schiller et all, 2021\n",
    "- Madani et al., 2018\n",
    "- Moreno et al. 2018\n",
    "- Vallicrosa et al., 2022\n",
    "- van Bodegom et al., 2014\n",
    "- Wolf et al., 2022"
   ]
  },
  {
   "cell_type": "markdown",
   "metadata": {},
   "source": [
    "## Imports and config"
   ]
  },
  {
   "cell_type": "code",
   "execution_count": 1,
   "metadata": {},
   "outputs": [],
   "source": [
    "import pandas as pd\n",
    "\n",
    "from src.conf.conf import get_config\n",
    "from src.conf.environment import log\n",
    "\n",
    "cfg = get_config()"
   ]
  },
  {
   "cell_type": "markdown",
   "metadata": {},
   "source": [
    "## Standardize all trait products"
   ]
  },
  {
   "cell_type": "markdown",
   "metadata": {},
   "source": [
    "Standardize the `all-prods_stacks` set of maps, which includes 0.5$\\textdegree$ maps of Leaf N (mass), Leaf N (area), and SLA."
   ]
  },
  {
   "cell_type": "code",
   "execution_count": 20,
   "metadata": {},
   "outputs": [
    {
     "name": "stderr",
     "output_type": "stream",
     "text": [
      "\u001b[94m2024-11-12 11:08:14 UTC - src.conf.environment - INFO - Writing data/interim/other_trait_maps/05/X14_butler.tif\u001b[0m\n"
     ]
    },
    {
     "name": "stderr",
     "output_type": "stream",
     "text": [
      "\u001b[94m2024-11-12 11:08:14 UTC - src.conf.environment - INFO - Writing data/interim/other_trait_maps/05/X14_boonman.tif\u001b[0m\n",
      "\u001b[94m2024-11-12 11:08:14 UTC - src.conf.environment - INFO - Writing data/interim/other_trait_maps/05/X14_schiller.tif\u001b[0m\n",
      "\u001b[94m2024-11-12 11:08:14 UTC - src.conf.environment - INFO - Writing data/interim/other_trait_maps/05/X14_vallicrosa.tif\u001b[0m\n",
      "\u001b[94m2024-11-12 11:08:14 UTC - src.conf.environment - INFO - Writing data/interim/other_trait_maps/05/X50_butler.tif\u001b[0m\n",
      "\u001b[94m2024-11-12 11:08:14 UTC - src.conf.environment - INFO - Writing data/interim/other_trait_maps/05/X50_boonman.tif\u001b[0m\n",
      "\u001b[94m2024-11-12 11:08:14 UTC - src.conf.environment - INFO - Writing data/interim/other_trait_maps/05/X50_schiller.tif\u001b[0m\n",
      "\u001b[94m2024-11-12 11:08:14 UTC - src.conf.environment - INFO - Writing data/interim/other_trait_maps/05/X50_vallicrosa.tif\u001b[0m\n",
      "\u001b[94m2024-11-12 11:08:14 UTC - src.conf.environment - INFO - Writing data/interim/other_trait_maps/05/X11_bodegom.tif\u001b[0m\n",
      "\u001b[94m2024-11-12 11:08:15 UTC - src.conf.environment - INFO - Writing data/interim/other_trait_maps/05/X11_butler.tif\u001b[0m\n",
      "\u001b[94m2024-11-12 11:08:15 UTC - src.conf.environment - INFO - Writing data/interim/other_trait_maps/05/X11_boonman.tif\u001b[0m\n",
      "\u001b[94m2024-11-12 11:08:15 UTC - src.conf.environment - INFO - Writing data/interim/other_trait_maps/05/X11_madani.tif\u001b[0m\n",
      "\u001b[94m2024-11-12 11:08:15 UTC - src.conf.environment - INFO - Writing data/interim/other_trait_maps/05/X11_schiller.tif\u001b[0m\n",
      "\u001b[94m2024-11-12 11:08:15 UTC - src.conf.environment - INFO - Writing data/interim/other_trait_maps/1/X14_butler.tif\u001b[0m\n",
      "\u001b[94m2024-11-12 11:08:15 UTC - src.conf.environment - INFO - Writing data/interim/other_trait_maps/1/X14_boonman.tif\u001b[0m\n",
      "\u001b[94m2024-11-12 11:08:15 UTC - src.conf.environment - INFO - Writing data/interim/other_trait_maps/1/X14_schiller.tif\u001b[0m\n",
      "\u001b[94m2024-11-12 11:08:15 UTC - src.conf.environment - INFO - Writing data/interim/other_trait_maps/1/X14_vallicrosa.tif\u001b[0m\n",
      "\u001b[94m2024-11-12 11:08:15 UTC - src.conf.environment - INFO - Writing data/interim/other_trait_maps/1/X50_butler.tif\u001b[0m\n",
      "\u001b[94m2024-11-12 11:08:15 UTC - src.conf.environment - INFO - Writing data/interim/other_trait_maps/1/X50_boonman.tif\u001b[0m\n",
      "\u001b[94m2024-11-12 11:08:15 UTC - src.conf.environment - INFO - Writing data/interim/other_trait_maps/1/X50_schiller.tif\u001b[0m\n",
      "\u001b[94m2024-11-12 11:08:15 UTC - src.conf.environment - INFO - Writing data/interim/other_trait_maps/1/X50_vallicrosa.tif\u001b[0m\n",
      "\u001b[94m2024-11-12 11:08:15 UTC - src.conf.environment - INFO - Writing data/interim/other_trait_maps/1/X11_bodegom.tif\u001b[0m\n",
      "\u001b[94m2024-11-12 11:08:15 UTC - src.conf.environment - INFO - Writing data/interim/other_trait_maps/1/X11_butler.tif\u001b[0m\n",
      "\u001b[94m2024-11-12 11:08:15 UTC - src.conf.environment - INFO - Writing data/interim/other_trait_maps/1/X11_boonman.tif\u001b[0m\n",
      "\u001b[94m2024-11-12 11:08:15 UTC - src.conf.environment - INFO - Writing data/interim/other_trait_maps/1/X11_madani.tif\u001b[0m\n",
      "\u001b[94m2024-11-12 11:08:15 UTC - src.conf.environment - INFO - Writing data/interim/other_trait_maps/1/X11_schiller.tif\u001b[0m\n",
      "\u001b[94m2024-11-12 11:08:15 UTC - src.conf.environment - INFO - Writing data/interim/other_trait_maps/2/X14_butler.tif\u001b[0m\n",
      "\u001b[94m2024-11-12 11:08:15 UTC - src.conf.environment - INFO - Writing data/interim/other_trait_maps/2/X14_boonman.tif\u001b[0m\n",
      "\u001b[94m2024-11-12 11:08:15 UTC - src.conf.environment - INFO - Writing data/interim/other_trait_maps/2/X14_schiller.tif\u001b[0m\n",
      "\u001b[94m2024-11-12 11:08:15 UTC - src.conf.environment - INFO - Writing data/interim/other_trait_maps/2/X14_vallicrosa.tif\u001b[0m\n",
      "\u001b[94m2024-11-12 11:08:15 UTC - src.conf.environment - INFO - Writing data/interim/other_trait_maps/2/X50_butler.tif\u001b[0m\n",
      "\u001b[94m2024-11-12 11:08:15 UTC - src.conf.environment - INFO - Writing data/interim/other_trait_maps/2/X50_boonman.tif\u001b[0m\n",
      "\u001b[94m2024-11-12 11:08:15 UTC - src.conf.environment - INFO - Writing data/interim/other_trait_maps/2/X50_schiller.tif\u001b[0m\n",
      "\u001b[94m2024-11-12 11:08:15 UTC - src.conf.environment - INFO - Writing data/interim/other_trait_maps/2/X50_vallicrosa.tif\u001b[0m\n",
      "\u001b[94m2024-11-12 11:08:15 UTC - src.conf.environment - INFO - Writing data/interim/other_trait_maps/2/X11_bodegom.tif\u001b[0m\n",
      "\u001b[94m2024-11-12 11:08:15 UTC - src.conf.environment - INFO - Writing data/interim/other_trait_maps/2/X11_butler.tif\u001b[0m\n",
      "\u001b[94m2024-11-12 11:08:15 UTC - src.conf.environment - INFO - Writing data/interim/other_trait_maps/2/X11_boonman.tif\u001b[0m\n",
      "\u001b[94m2024-11-12 11:08:15 UTC - src.conf.environment - INFO - Writing data/interim/other_trait_maps/2/X11_madani.tif\u001b[0m\n",
      "\u001b[94m2024-11-12 11:08:15 UTC - src.conf.environment - INFO - Writing data/interim/other_trait_maps/2/X11_schiller.tif\u001b[0m\n"
     ]
    }
   ],
   "source": [
    "from pathlib import Path\n",
    "from matplotlib.pylab import f\n",
    "from src.utils.raster_utils import create_sample_raster, open_raster, xr_to_raster\n",
    "\n",
    "mapping = {\"nit\": \"X14\", \"nita\": \"X50\", \"sla\": \"X11\"}\n",
    "\n",
    "src_dir = Path(\n",
    "    cfg.raw_dir, \"other-trait-maps\", \"all-prods_stacks_sla-nit-nita_05D_2022-02-14\"\n",
    ")\n",
    "\n",
    "resolutions = [0.5, 1, 2]\n",
    "\n",
    "for res in resolutions:\n",
    "    ref_r = create_sample_raster(resolution = res, crs=\"EPSG:4326\")\n",
    "\n",
    "    for trait, code in mapping.items():\n",
    "        all_prods_nitm = open_raster(\n",
    "            Path(src_dir, f\"all-prods_{trait}_stack_all-maps_05D_2022-02-14.grd\")\n",
    "        )\n",
    "        authors = all_prods_nitm.attrs[\"long_name\"]\n",
    "        names = [n.lower() for n in authors]\n",
    "\n",
    "        for i, band in enumerate(all_prods_nitm):\n",
    "            if names[i] == \"moreno\":\n",
    "                continue  # We received a separate file for this author\n",
    "\n",
    "            out_path = Path(\n",
    "                cfg.interim_dir,\n",
    "                \"other_trait_maps\",\n",
    "                str(res).replace(\".\", \"\"),\n",
    "                f\"{code}_{names[i]}.tif\",\n",
    "            )\n",
    "            out_path.parent.mkdir(parents=True, exist_ok=True)\n",
    "\n",
    "            log.info(f\"Writing {out_path}\")\n",
    "            r = all_prods_nitm.sel(band=i + 1)\n",
    "            r = r.rio.reproject_match(ref_r)\n",
    "            r.attrs[\"long_name\"] = names[i]\n",
    "            xr_to_raster(r, out_path)"
   ]
  },
  {
   "cell_type": "markdown",
   "metadata": {},
   "source": [
    "Standardize the maps provided from Moreno et al. (2018), which includes 1 km maps of Leaf N (mass), as well as LDMC and Leaf P (mass), which are not used in this comparison."
   ]
  },
  {
   "cell_type": "code",
   "execution_count": 24,
   "metadata": {},
   "outputs": [],
   "source": [
    "m = open_raster(\n",
    "    \"/home/dl1070/projects/cit-sci-traits/data/raw/other-trait-maps/AMM_Trait_maps_v3_2023/LNC_1km_v3.tif\"\n",
    ").sel(band=1)"
   ]
  },
  {
   "cell_type": "code",
   "execution_count": 27,
   "metadata": {},
   "outputs": [
    {
     "data": {
      "text/plain": [
       "array([[-2., -2., -2., ..., -2., -2., -2.],\n",
       "       [-2., -2., -2., ..., -2., -2., -2.],\n",
       "       [-2., -2., -2., ..., -2., -2., -2.],\n",
       "       ...,\n",
       "       [-2., -2., -2., ..., -2., -2., -2.],\n",
       "       [-2., -2., -2., ..., -2., -2., -2.],\n",
       "       [-2., -2., -2., ..., -2., -2., -2.]], dtype=float32)"
      ]
     },
     "execution_count": 27,
     "metadata": {},
     "output_type": "execute_result"
    }
   ],
   "source": [
    "m.values"
   ]
  },
  {
   "cell_type": "code",
   "execution_count": 28,
   "metadata": {},
   "outputs": [
    {
     "name": "stderr",
     "output_type": "stream",
     "text": [
      "\u001b[94m2024-11-12 11:16:04 UTC - src.conf.environment - INFO - Writing data/interim/other_trait_maps/001/X14_moreno.tif\u001b[0m\n",
      "\u001b[94m2024-11-12 11:16:27 UTC - src.conf.environment - INFO - Writing data/interim/other_trait_maps/02/X14_moreno.tif\u001b[0m\n",
      "\u001b[94m2024-11-12 11:16:27 UTC - src.conf.environment - INFO - Writing data/interim/other_trait_maps/05/X14_moreno.tif\u001b[0m\n",
      "\u001b[94m2024-11-12 11:16:27 UTC - src.conf.environment - INFO - Writing data/interim/other_trait_maps/1/X14_moreno.tif\u001b[0m\n",
      "\u001b[94m2024-11-12 11:16:27 UTC - src.conf.environment - INFO - Writing data/interim/other_trait_maps/2/X14_moreno.tif\u001b[0m\n"
     ]
    }
   ],
   "source": [
    "import numpy as np\n",
    "\n",
    "\n",
    "src_path = Path(\n",
    "    cfg.raw_dir, \"other-trait-maps\", \"AMM_Trait_maps_v3_2023\", \"LNC_1km_v3.tif\"\n",
    ")\n",
    "\n",
    "resolutions = [0.01, 0.2, 0.5, 1, 2]\n",
    "r = open_raster(src_path).sel(band=1)\n",
    "\n",
    "# The corresponding values should be masked (-2, -1, 100, 0)\n",
    "r = r.where(r > 0)\n",
    "r = r.rio.write_nodata(np.nan)\n",
    "\n",
    "for res in resolutions:\n",
    "    ref_r = create_sample_raster(resolution = res, crs=\"EPSG:4326\")\n",
    "    r = r.rio.reproject_match(ref_r)\n",
    "    out_path = Path(\n",
    "        cfg.interim_dir,\n",
    "        \"other_trait_maps\",\n",
    "        str(res).replace(\".\", \"\"),\n",
    "        f\"X14_moreno.tif\",\n",
    "    )\n",
    "    out_path.parent.mkdir(parents=True, exist_ok=True)\n",
    "    log.info(f\"Writing {out_path}\")\n",
    "    xr_to_raster(r, out_path)"
   ]
  },
  {
   "cell_type": "code",
   "execution_count": 29,
   "metadata": {},
   "outputs": [
    {
     "ename": "IndexError",
     "evalue": "list index out of range",
     "output_type": "error",
     "traceback": [
      "\u001b[0;31m---------------------------------------------------------------------------\u001b[0m",
      "\u001b[0;31mIndexError\u001b[0m                                Traceback (most recent call last)",
      "Cell \u001b[0;32mIn[29], line 16\u001b[0m\n\u001b[1;32m      9\u001b[0m     \u001b[38;5;28mprint\u001b[39m(splot_path)\n\u001b[1;32m     10\u001b[0m     \u001b[38;5;66;03m# splot = open_raster(splot_path)\u001b[39;00m\n\u001b[1;32m     11\u001b[0m \n\u001b[1;32m     12\u001b[0m     \u001b[38;5;66;03m# data = data.rio.reproject_match(splot)\u001b[39;00m\n\u001b[1;32m     13\u001b[0m \n\u001b[1;32m     14\u001b[0m     \u001b[38;5;66;03m# return data.corr(splot)\u001b[39;00m\n\u001b[0;32m---> 16\u001b[0m \u001b[43msplot_correlation\u001b[49m\u001b[43m(\u001b[49m\u001b[43mr\u001b[49m\u001b[43m,\u001b[49m\u001b[43m \u001b[49m\u001b[38;5;124;43m\"\u001b[39;49m\u001b[38;5;124;43mX14\u001b[39;49m\u001b[38;5;124;43m\"\u001b[39;49m\u001b[43m,\u001b[49m\u001b[43m \u001b[49m\u001b[38;5;241;43m0.5\u001b[39;49m\u001b[43m)\u001b[49m\n",
      "Cell \u001b[0;32mIn[29], line 8\u001b[0m, in \u001b[0;36msplot_correlation\u001b[0;34m(data, trait, res)\u001b[0m\n\u001b[1;32m      6\u001b[0m c \u001b[38;5;241m=\u001b[39m cfg\u001b[38;5;241m.\u001b[39mcopy()\n\u001b[1;32m      7\u001b[0m c[\u001b[38;5;124m\"\u001b[39m\u001b[38;5;124mmodel_res\u001b[39m\u001b[38;5;124m\"\u001b[39m] \u001b[38;5;241m=\u001b[39m \u001b[38;5;28mstr\u001b[39m(res)\u001b[38;5;241m.\u001b[39mreplace(\u001b[38;5;124m\"\u001b[39m\u001b[38;5;124m.\u001b[39m\u001b[38;5;124m\"\u001b[39m, \u001b[38;5;124m\"\u001b[39m\u001b[38;5;124m\"\u001b[39m)\n\u001b[0;32m----> 8\u001b[0m splot_path \u001b[38;5;241m=\u001b[39m \u001b[43m[\u001b[49m\u001b[43mfn\u001b[49m\u001b[43m \u001b[49m\u001b[38;5;28;43;01mfor\u001b[39;49;00m\u001b[43m \u001b[49m\u001b[43mfn\u001b[49m\u001b[43m \u001b[49m\u001b[38;5;129;43;01min\u001b[39;49;00m\u001b[43m \u001b[49m\u001b[43mget_trait_map_fns\u001b[49m\u001b[43m(\u001b[49m\u001b[38;5;124;43m\"\u001b[39;49m\u001b[38;5;124;43msplot\u001b[39;49m\u001b[38;5;124;43m\"\u001b[39;49m\u001b[43m,\u001b[49m\u001b[43m \u001b[49m\u001b[43mc\u001b[49m\u001b[43m)\u001b[49m\u001b[43m \u001b[49m\u001b[38;5;28;43;01mif\u001b[39;49;00m\u001b[43m \u001b[49m\u001b[43mtrait\u001b[49m\u001b[43m \u001b[49m\u001b[38;5;241;43m==\u001b[39;49m\u001b[43m \u001b[49m\u001b[43mfn\u001b[49m\u001b[38;5;241;43m.\u001b[39;49m\u001b[43mstem\u001b[49m\u001b[43m]\u001b[49m\u001b[43m[\u001b[49m\u001b[38;5;241;43m0\u001b[39;49m\u001b[43m]\u001b[49m\n\u001b[1;32m      9\u001b[0m \u001b[38;5;28mprint\u001b[39m(splot_path)\n",
      "\u001b[0;31mIndexError\u001b[0m: list index out of range"
     ]
    }
   ],
   "source": [
    "import xarray as xr\n",
    "\n",
    "from src.utils.dataset_utils import get_trait_map_fns\n",
    "\n",
    "def splot_correlation(data: xr.DataArray, trait: str, res: int | float) -> float:\n",
    "    c = cfg.copy()\n",
    "    c[\"model_res\"] = str(res).replace(\".\", \"\")\n",
    "    splot_path = [fn for fn in get_trait_map_fns(\"splot\", c) if trait == fn.stem][0]\n",
    "    print(splot_path)\n",
    "    # splot = open_raster(splot_path)\n",
    "\n",
    "    # data = data.rio.reproject_match(splot)\n",
    "\n",
    "    # return data.corr(splot)\n",
    "\n",
    "splot_correlation(r, \"X14\", 0.5)"
   ]
  }
 ],
 "metadata": {
  "kernelspec": {
   "display_name": "traits-py311",
   "language": "python",
   "name": "python3"
  },
  "language_info": {
   "codemirror_mode": {
    "name": "ipython",
    "version": 3
   },
   "file_extension": ".py",
   "mimetype": "text/x-python",
   "name": "python",
   "nbconvert_exporter": "python",
   "pygments_lexer": "ipython3",
   "version": "3.11.9"
  }
 },
 "nbformat": 4,
 "nbformat_minor": 2
}
