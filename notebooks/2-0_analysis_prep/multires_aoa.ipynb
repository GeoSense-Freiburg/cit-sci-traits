{
 "cells": [
  {
   "cell_type": "markdown",
   "metadata": {},
   "source": [
    "# 2.0.x: Add AOA fractional cover to multires stats"
   ]
  },
  {
   "cell_type": "markdown",
   "metadata": {},
   "source": [
    "Another useful metric is each model's fractional AOA, or 1 minus the fraction of pixels that are outside of the AOA. We can add this to the multires stats dataframe for each model as well."
   ]
  },
  {
   "cell_type": "markdown",
   "metadata": {},
   "source": [
    "## Imports and config"
   ]
  },
  {
   "cell_type": "code",
   "execution_count": 1,
   "metadata": {},
   "outputs": [],
   "source": [
    "from pathlib import Path\n",
    "\n",
    "import pandas as pd\n",
    "from dask import compute, delayed\n",
    "\n",
    "from src.conf.conf import get_config\n",
    "from src.conf.environment import log\n",
    "from src.utils.dask_utils import close_dask, init_dask\n",
    "from src.utils.dataset_utils import get_aoa_dir\n",
    "from src.utils.raster_utils import open_raster\n",
    "\n",
    "cfg = get_config()"
   ]
  },
  {
   "cell_type": "markdown",
   "metadata": {},
   "source": [
    "Gather filenames"
   ]
  },
  {
   "cell_type": "code",
   "execution_count": 2,
   "metadata": {},
   "outputs": [],
   "source": [
    "splot_fns = [\n",
    "    list(Path(d, \"splot\").glob(\"*.tif\"))[0]\n",
    "    for d in sorted(list(get_aoa_dir(cfg).glob(\"*\")))\n",
    "    if d.is_dir()\n",
    "]\n",
    "\n",
    "comb_fns = [\n",
    "    list(Path(d, \"splot_gbif\").glob(\"*.tif\"))[0]\n",
    "    for d in sorted(list(get_aoa_dir(cfg).glob(\"*\")))\n",
    "    if d.is_dir()\n",
    "]"
   ]
  },
  {
   "cell_type": "markdown",
   "metadata": {},
   "source": [
    "Compute the AOA fractions"
   ]
  },
  {
   "cell_type": "code",
   "execution_count": 3,
   "metadata": {},
   "outputs": [],
   "source": [
    "@delayed\n",
    "def aoa_frac(fn: Path) -> tuple[str, float]:\n",
    "    ds = open_raster(fn).sel(band=2)\n",
    "    frac = 1 - (ds == 1).sum().values / (ds == 0).sum().values\n",
    "    ds.close()\n",
    "    del ds\n",
    "    return fn.parents[1].stem, frac\n",
    "\n",
    "# Initalize dask\n",
    "client, cluster = init_dask(dashboard_address=cfg.dask_dashboard)\n",
    "\n",
    "splot_aoa_fracs = compute(*[aoa_frac(fn) for fn in splot_fns])\n",
    "comb_aoa_fracs = compute(*[aoa_frac(fn) for fn in comb_fns])\n",
    "\n",
    "# Close dask\n",
    "close_dask(client, cluster)"
   ]
  },
  {
   "cell_type": "markdown",
   "metadata": {},
   "source": [
    "Append them to the multires stats dataframe"
   ]
  },
  {
   "cell_type": "code",
   "execution_count": 7,
   "metadata": {},
   "outputs": [],
   "source": [
    "all_results = pd.read_parquet(\"results/all_results.parquet\")\n",
    "\n",
    "# splot_aoa = pd.DataFrame(splot_aoa_fracs, columns=[\"trait_id\", \"aoa\"])\n",
    "# comb_aoa = pd.DataFrame(comb_aoa_fracs, columns=[\"trait_id\", \"aoa\"])\n",
    "\n",
    "for trait_id, aoa in splot_aoa_fracs:\n",
    "    rows = all_results.query(\n",
    "        f\"trait_id == '{trait_id}' and \"\n",
    "        \"trait_set == 'splot' and \"\n",
    "        f\"resolution == '{cfg.model_res}'\"\n",
    "    )\n",
    "    all_results.loc[rows.index, \"aoa\"] = aoa\n",
    "\n",
    "for trait_id, aoa in comb_aoa_fracs:\n",
    "    rows = all_results.query(\n",
    "        f\"trait_id == '{trait_id}' and \"\n",
    "        \"trait_set == 'splot_gbif' and \"\n",
    "        f\"resolution == '{cfg.model_res}'\"\n",
    "    )\n",
    "    all_results.loc[rows.index, \"aoa\"] = aoa"
   ]
  },
  {
   "cell_type": "code",
   "execution_count": 12,
   "metadata": {},
   "outputs": [
    {
     "data": {
      "text/html": [
       "<div>\n",
       "<style scoped>\n",
       "    .dataframe tbody tr th:only-of-type {\n",
       "        vertical-align: middle;\n",
       "    }\n",
       "\n",
       "    .dataframe tbody tr th {\n",
       "        vertical-align: top;\n",
       "    }\n",
       "\n",
       "    .dataframe thead th {\n",
       "        text-align: right;\n",
       "    }\n",
       "</style>\n",
       "<table border=\"1\" class=\"dataframe\">\n",
       "  <thead>\n",
       "    <tr style=\"text-align: right;\">\n",
       "      <th></th>\n",
       "      <th>trait_id</th>\n",
       "      <th>trait_set</th>\n",
       "      <th>aoa</th>\n",
       "    </tr>\n",
       "  </thead>\n",
       "  <tbody>\n",
       "    <tr>\n",
       "      <th>0</th>\n",
       "      <td>X163_mean</td>\n",
       "      <td>splot</td>\n",
       "      <td>0.905965</td>\n",
       "    </tr>\n",
       "    <tr>\n",
       "      <th>1</th>\n",
       "      <td>X163_mean</td>\n",
       "      <td>splot</td>\n",
       "      <td>0.905965</td>\n",
       "    </tr>\n",
       "    <tr>\n",
       "      <th>2</th>\n",
       "      <td>X163_mean</td>\n",
       "      <td>gbif</td>\n",
       "      <td>NaN</td>\n",
       "    </tr>\n",
       "    <tr>\n",
       "      <th>3</th>\n",
       "      <td>X163_mean</td>\n",
       "      <td>gbif</td>\n",
       "      <td>NaN</td>\n",
       "    </tr>\n",
       "    <tr>\n",
       "      <th>4</th>\n",
       "      <td>X163_mean</td>\n",
       "      <td>splot_gbif</td>\n",
       "      <td>0.993581</td>\n",
       "    </tr>\n",
       "    <tr>\n",
       "      <th>...</th>\n",
       "      <td>...</td>\n",
       "      <td>...</td>\n",
       "      <td>...</td>\n",
       "    </tr>\n",
       "    <tr>\n",
       "      <th>193</th>\n",
       "      <td>X144_mean</td>\n",
       "      <td>splot</td>\n",
       "      <td>0.977485</td>\n",
       "    </tr>\n",
       "    <tr>\n",
       "      <th>194</th>\n",
       "      <td>X144_mean</td>\n",
       "      <td>gbif</td>\n",
       "      <td>NaN</td>\n",
       "    </tr>\n",
       "    <tr>\n",
       "      <th>195</th>\n",
       "      <td>X144_mean</td>\n",
       "      <td>gbif</td>\n",
       "      <td>NaN</td>\n",
       "    </tr>\n",
       "    <tr>\n",
       "      <th>196</th>\n",
       "      <td>X144_mean</td>\n",
       "      <td>splot_gbif</td>\n",
       "      <td>0.995805</td>\n",
       "    </tr>\n",
       "    <tr>\n",
       "      <th>197</th>\n",
       "      <td>X144_mean</td>\n",
       "      <td>splot_gbif</td>\n",
       "      <td>0.995805</td>\n",
       "    </tr>\n",
       "  </tbody>\n",
       "</table>\n",
       "<p>198 rows × 3 columns</p>\n",
       "</div>"
      ],
      "text/plain": [
       "      trait_id   trait_set       aoa\n",
       "0    X163_mean       splot  0.905965\n",
       "1    X163_mean       splot  0.905965\n",
       "2    X163_mean        gbif       NaN\n",
       "3    X163_mean        gbif       NaN\n",
       "4    X163_mean  splot_gbif  0.993581\n",
       "..         ...         ...       ...\n",
       "193  X144_mean       splot  0.977485\n",
       "194  X144_mean        gbif       NaN\n",
       "195  X144_mean        gbif       NaN\n",
       "196  X144_mean  splot_gbif  0.995805\n",
       "197  X144_mean  splot_gbif  0.995805\n",
       "\n",
       "[198 rows x 3 columns]"
      ]
     },
     "execution_count": 12,
     "metadata": {},
     "output_type": "execute_result"
    }
   ],
   "source": [
    "all_results.query(f\"resolution == '{cfg.model_res}'\")[[\"trait_id\", \"trait_set\", \"aoa\"]]"
   ]
  }
 ],
 "metadata": {
  "kernelspec": {
   "display_name": "traits-py311",
   "language": "python",
   "name": "python3"
  },
  "language_info": {
   "codemirror_mode": {
    "name": "ipython",
    "version": 3
   },
   "file_extension": ".py",
   "mimetype": "text/x-python",
   "name": "python",
   "nbconvert_exporter": "python",
   "pygments_lexer": "ipython3",
   "version": "3.11.9"
  }
 },
 "nbformat": 4,
 "nbformat_minor": 2
}
