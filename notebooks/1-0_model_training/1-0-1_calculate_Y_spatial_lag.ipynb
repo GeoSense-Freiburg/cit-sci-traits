{
 "cells": [
  {
   "cell_type": "markdown",
   "metadata": {},
   "source": [
    "# 1.0.1: Calculate spatial lag of trait data (Y)"
   ]
  },
  {
   "cell_type": "markdown",
   "metadata": {},
   "source": [
    "A common issue when training models on geospatial data is the problem of spatial autocorrelation. If the labels for your data are spatially autocorrelated, then traditional cross-validation (CV) approaches such as randomized K-Fold CV may indicate overly-optimistic model performance. This is because, when points are randomly selected for fold assignment, it is very likely that some points that are spatially correlated with each other may be assigned to different folds. As a result, spatially correlated (i.e. dependently similar) may exist in both the train and the test folds, confounding the generalizability assessement of the model (see [Meyer and Pebesma, 2022](https://www.nature.com/articles/s41467-022-29838-9) and [Kattenborn *et al*., 2022](https://www.sciencedirect.com/science/article/pii/S2667393222000072)).\n",
    "\n",
    "To overcome this, we can use **Spatial K-Fold cross-validation** (SKCV) ([Pohjankukka *et al*., 2017](http://arxiv.org/abs/2005.14263)). SKCV first requires one to calculate the spatial lag, or spatial autocorrelation range of the response variable. Next, we create a hex grid with side length equal to that range, and then bin the data by the hex cells. Finally, we assign fold IDs to *entire hex cells* instead of to individual points. This, in turn, gives us confidence that we are never testing a model against data that may be spatially correlated to its training data."
   ]
  },
  {
   "cell_type": "markdown",
   "metadata": {},
   "source": [
    "## Imports and config"
   ]
  },
  {
   "cell_type": "code",
   "execution_count": 1,
   "metadata": {},
   "outputs": [],
   "source": [
    "from pathlib import Path\n",
    "\n",
    "from dask import compute, delayed\n",
    "from dask.distributed import Client\n",
    "import numpy as np\n",
    "import pandas as pd\n",
    "from pykrige.ok import OrdinaryKriging\n",
    "import utm\n",
    "\n",
    "from src.conf.conf import get_config\n",
    "from src.conf.environment import log\n",
    "\n",
    "pd.set_option('display.max_columns', None)\n",
    "\n",
    "%load_ext autoreload\n",
    "%autoreload 2\n",
    "\n",
    "cfg = get_config()"
   ]
  },
  {
   "cell_type": "markdown",
   "metadata": {},
   "source": [
    "## Calculate variograms of each trait"
   ]
  },
  {
   "cell_type": "markdown",
   "metadata": {},
   "source": [
    "Since we just featurized the EO data together with the combined sPlot and GBIF data, we can simply load the newly generated features and fit a variogram model to the data. We don't know by default which type of variogram is best, however (e.g. isotropic vs. anisotropic). To determine this, we can fit both types of models (one assuming directional independence and another directional dependence), calculate the Akaike Information Criterion (AIC) of both models, and then we can use the range of the model with the lowest AIC.\n",
    "\n",
    "Keep in mind that this is not at all an exhaustive approach to selecting the best variogram model, but since we have so many variables to compare, it's at least a step in the right direction while remaining relatively automated."
   ]
  },
  {
   "cell_type": "markdown",
   "metadata": {},
   "source": [
    "### Convert geographic coordinates to Cartesian coordinates using UTM zones"
   ]
  },
  {
   "cell_type": "markdown",
   "metadata": {},
   "source": [
    "Before we can move directly into fitting variograms, we need to be able to calculate Euclidean distances in order to fit a variogram model. The problem is, there is no Euclidean space where To do this, we can calculate the UTM coordinates and zone for each point. We can then group our dataframe by UTM zones and calculate the spatial autocorrelation range for each zone. Afterward, we can take the mean autocorrelation range of all the zones."
   ]
  },
  {
   "cell_type": "markdown",
   "metadata": {},
   "source": [
    "Load the features,select the x, y, and one trait (Y) columns for example purposes, and downcast the types slightly to help a little with memory management."
   ]
  },
  {
   "cell_type": "code",
   "execution_count": 4,
   "metadata": {},
   "outputs": [
    {
     "data": {
      "text/html": [
       "<div>\n",
       "<style scoped>\n",
       "    .dataframe tbody tr th:only-of-type {\n",
       "        vertical-align: middle;\n",
       "    }\n",
       "\n",
       "    .dataframe tbody tr th {\n",
       "        vertical-align: top;\n",
       "    }\n",
       "\n",
       "    .dataframe thead th {\n",
       "        text-align: right;\n",
       "    }\n",
       "</style>\n",
       "<table border=\"1\" class=\"dataframe\">\n",
       "  <thead>\n",
       "    <tr style=\"text-align: right;\">\n",
       "      <th></th>\n",
       "      <th>x</th>\n",
       "      <th>y</th>\n",
       "      <th>X50_mean</th>\n",
       "    </tr>\n",
       "  </thead>\n",
       "  <tbody>\n",
       "    <tr>\n",
       "      <th>0</th>\n",
       "      <td>-179.895004</td>\n",
       "      <td>68.394997</td>\n",
       "      <td>1.447954</td>\n",
       "    </tr>\n",
       "    <tr>\n",
       "      <th>1</th>\n",
       "      <td>-179.895004</td>\n",
       "      <td>68.254997</td>\n",
       "      <td>1.063078</td>\n",
       "    </tr>\n",
       "  </tbody>\n",
       "</table>\n",
       "</div>"
      ],
      "text/plain": [
       "            x          y  X50_mean\n",
       "0 -179.895004  68.394997  1.447954\n",
       "1 -179.895004  68.254997  1.063078"
      ]
     },
     "execution_count": 4,
     "metadata": {},
     "output_type": "execute_result"
    }
   ],
   "source": [
    "feats = (\n",
    "    pd.read_parquet(\n",
    "        Path(cfg.train.dir)\n",
    "        / cfg.PFT\n",
    "        / cfg.model_res\n",
    "        / cfg.datasets.Y.use\n",
    "        / cfg.train.features\n",
    "    )[[\"x\", \"y\", \"X50_mean\"]]\n",
    "    .dropna()\n",
    "    .astype({\"x\": np.float32, \"y\": np.float32, \"X50_mean\": np.float32})\n",
    ")\n",
    "\n",
    "feats.head(2)"
   ]
  },
  {
   "cell_type": "markdown",
   "metadata": {},
   "source": [
    "Let's set up some helper functions to add easting, northing, and UTM zone information to our `DataFrame`. Due to the size of the data, we're going to add some parallelization with Dask."
   ]
  },
  {
   "cell_type": "code",
   "execution_count": 5,
   "metadata": {},
   "outputs": [],
   "source": [
    "@delayed\n",
    "def get_utm_zones(x: np.ndarray, y: np.ndarray) -> tuple[list, list, list]:\n",
    "    eastings, northings, zones = [], [], []\n",
    "\n",
    "    for x_, y_ in zip(x, y):\n",
    "        easting, northing, zone, letter = utm.from_latlon(y_, x_)\n",
    "        eastings.append(easting)\n",
    "        northings.append(northing)\n",
    "        zones.append(f\"{zone}{letter}\")\n",
    "\n",
    "    return eastings, northings, zones\n",
    "\n",
    "\n",
    "def add_utm(df: pd.DataFrame, chunksize: int = 10000) -> pd.DataFrame:\n",
    "    x = df.x.to_numpy()\n",
    "    y = df.y.to_numpy()\n",
    "\n",
    "    # Split x and y into chunks\n",
    "    x_chunks = [x[i : i + chunksize] for i in range(0, len(x), chunksize)]\n",
    "    y_chunks = [y[i : i + chunksize] for i in range(0, len(y), chunksize)]\n",
    "\n",
    "    # Compute the UTM zones for each chunk in parallel\n",
    "    results = [\n",
    "        get_utm_zones(x_chunk, y_chunk) for x_chunk, y_chunk in zip(x_chunks, y_chunks)\n",
    "    ]\n",
    "\n",
    "    results = compute(*results)\n",
    "\n",
    "    # Assign the results to new columns in df\n",
    "    df[\"easting\"] = [e for result in results for e in result[0]]\n",
    "    df[\"northing\"] = [n for result in results for n in result[1]]\n",
    "    df[\"zone\"] = [z for result in results for z in result[2]]\n",
    "\n",
    "    return df"
   ]
  },
  {
   "cell_type": "markdown",
   "metadata": {},
   "source": [
    "Now we can add the UTM info to the `feats` `DataFrame`."
   ]
  },
  {
   "cell_type": "code",
   "execution_count": 6,
   "metadata": {},
   "outputs": [
    {
     "name": "stderr",
     "output_type": "stream",
     "text": [
      "/home/dl1070/micromamba/envs/traits/lib/python3.12/site-packages/distributed/client.py:3161: UserWarning: Sending large graph of size 36.91 MiB.\n",
      "This may cause some slowdown.\n",
      "Consider scattering data ahead of time and using futures.\n",
      "  warnings.warn(\n"
     ]
    },
    {
     "data": {
      "text/html": [
       "<div>\n",
       "<style scoped>\n",
       "    .dataframe tbody tr th:only-of-type {\n",
       "        vertical-align: middle;\n",
       "    }\n",
       "\n",
       "    .dataframe tbody tr th {\n",
       "        vertical-align: top;\n",
       "    }\n",
       "\n",
       "    .dataframe thead th {\n",
       "        text-align: right;\n",
       "    }\n",
       "</style>\n",
       "<table border=\"1\" class=\"dataframe\">\n",
       "  <thead>\n",
       "    <tr style=\"text-align: right;\">\n",
       "      <th></th>\n",
       "      <th>x</th>\n",
       "      <th>y</th>\n",
       "      <th>X50_mean</th>\n",
       "      <th>easting</th>\n",
       "      <th>northing</th>\n",
       "      <th>zone</th>\n",
       "    </tr>\n",
       "  </thead>\n",
       "  <tbody>\n",
       "    <tr>\n",
       "      <th>0</th>\n",
       "      <td>-179.895004</td>\n",
       "      <td>68.394997</td>\n",
       "      <td>1.447954</td>\n",
       "      <td>381078.108646</td>\n",
       "      <td>7.589698e+06</td>\n",
       "      <td>1W</td>\n",
       "    </tr>\n",
       "    <tr>\n",
       "      <th>1</th>\n",
       "      <td>-179.895004</td>\n",
       "      <td>68.254997</td>\n",
       "      <td>1.063078</td>\n",
       "      <td>380345.240365</td>\n",
       "      <td>7.574103e+06</td>\n",
       "      <td>1W</td>\n",
       "    </tr>\n",
       "    <tr>\n",
       "      <th>2</th>\n",
       "      <td>-179.884995</td>\n",
       "      <td>67.364998</td>\n",
       "      <td>1.369326</td>\n",
       "      <td>376132.402265</td>\n",
       "      <td>7.474949e+06</td>\n",
       "      <td>1W</td>\n",
       "    </tr>\n",
       "    <tr>\n",
       "      <th>3</th>\n",
       "      <td>-179.875000</td>\n",
       "      <td>68.705002</td>\n",
       "      <td>1.630068</td>\n",
       "      <td>383513.280606</td>\n",
       "      <td>7.624193e+06</td>\n",
       "      <td>1W</td>\n",
       "    </tr>\n",
       "    <tr>\n",
       "      <th>4</th>\n",
       "      <td>-179.854996</td>\n",
       "      <td>68.735001</td>\n",
       "      <td>2.958496</td>\n",
       "      <td>384478.378837</td>\n",
       "      <td>7.627497e+06</td>\n",
       "      <td>1W</td>\n",
       "    </tr>\n",
       "  </tbody>\n",
       "</table>\n",
       "</div>"
      ],
      "text/plain": [
       "            x          y  X50_mean        easting      northing zone\n",
       "0 -179.895004  68.394997  1.447954  381078.108646  7.589698e+06   1W\n",
       "1 -179.895004  68.254997  1.063078  380345.240365  7.574103e+06   1W\n",
       "2 -179.884995  67.364998  1.369326  376132.402265  7.474949e+06   1W\n",
       "3 -179.875000  68.705002  1.630068  383513.280606  7.624193e+06   1W\n",
       "4 -179.854996  68.735001  2.958496  384478.378837  7.627497e+06   1W"
      ]
     },
     "execution_count": 6,
     "metadata": {},
     "output_type": "execute_result"
    }
   ],
   "source": [
    "with Client(dashboard_address=cfg.dask_dashboard, n_workers=60) as client:\n",
    "    feats = add_utm(feats)\n",
    "    client.close()\n",
    "feats.head()"
   ]
  },
  {
   "cell_type": "markdown",
   "metadata": {},
   "source": [
    "Lastly, we can group `feats` by UTM zone and then calculate the autocorrelation range for each zone. While we are not able to compare points separated by zones, this approach does have the double benefit of ensuring our points are always in Euclidean space and making the code nicely parallelizable without exceeding our memory constraints."
   ]
  },
  {
   "cell_type": "code",
   "execution_count": 34,
   "metadata": {},
   "outputs": [],
   "source": [
    "@delayed\n",
    "def calculate_variogram(\n",
    "    group: pd.DataFrame, data_col: str, **kwargs\n",
    ") -> float | None:\n",
    "    if not isinstance(group, pd.DataFrame) or len(group) < 200:\n",
    "        return 0\n",
    "    \n",
    "    n_max = 20_000\n",
    "    \n",
    "    if \"n_max\" in kwargs:\n",
    "        n_max = kwargs.pop(\"n_max\")\n",
    "\n",
    "    if len(group) > n_max:\n",
    "        group = group.sample(n_max)\n",
    "\n",
    "    OK = OrdinaryKriging(group[\"easting\"], group[\"northing\"], group[data_col], **kwargs)\n",
    "\n",
    "    return OK.variogram_model_parameters[1]"
   ]
  },
  {
   "cell_type": "code",
   "execution_count": 38,
   "metadata": {},
   "outputs": [
    {
     "name": "stderr",
     "output_type": "stream",
     "text": [
      "/home/dl1070/micromamba/envs/traits/lib/python3.12/site-packages/distributed/client.py:3161: UserWarning: Sending large graph of size 156.77 MiB.\n",
      "This may cause some slowdown.\n",
      "Consider scattering data ahead of time and using futures.\n",
      "  warnings.warn(\n",
      "2024-05-17 15:31:17,540 - distributed.worker.memory - WARNING - Unmanaged memory use is high. This may indicate a memory leak or the memory may not be released to the OS; see https://distributed.dask.org/en/latest/worker-memory.html#memory-not-released-back-to-the-os for more information. -- Unmanaged memory: 59.70 GiB -- Worker memory limit: 83.84 GiB\n",
      "2024-05-17 15:31:27,548 - distributed.worker.memory - WARNING - Unmanaged memory use is high. This may indicate a memory leak or the memory may not be released to the OS; see https://distributed.dask.org/en/latest/worker-memory.html#memory-not-released-back-to-the-os for more information. -- Unmanaged memory: 59.16 GiB -- Worker memory limit: 83.84 GiB\n",
      "2024-05-17 15:31:33,036 - distributed.worker.memory - WARNING - Unmanaged memory use is high. This may indicate a memory leak or the memory may not be released to the OS; see https://distributed.dask.org/en/latest/worker-memory.html#memory-not-released-back-to-the-os for more information. -- Unmanaged memory: 58.30 GiB -- Worker memory limit: 83.84 GiB\n",
      "2024-05-17 15:31:37,615 - distributed.worker.memory - WARNING - Unmanaged memory use is high. This may indicate a memory leak or the memory may not be released to the OS; see https://distributed.dask.org/en/latest/worker-memory.html#memory-not-released-back-to-the-os for more information. -- Unmanaged memory: 60.00 GiB -- Worker memory limit: 83.84 GiB\n",
      "2024-05-17 15:31:47,616 - distributed.worker.memory - WARNING - Unmanaged memory use is high. This may indicate a memory leak or the memory may not be released to the OS; see https://distributed.dask.org/en/latest/worker-memory.html#memory-not-released-back-to-the-os for more information. -- Unmanaged memory: 62.23 GiB -- Worker memory limit: 83.84 GiB\n",
      "2024-05-17 15:31:50,415 - distributed.worker.memory - WARNING - Unmanaged memory use is high. This may indicate a memory leak or the memory may not be released to the OS; see https://distributed.dask.org/en/latest/worker-memory.html#memory-not-released-back-to-the-os for more information. -- Unmanaged memory: 59.70 GiB -- Worker memory limit: 83.84 GiB\n",
      "2024-05-17 15:31:56,977 - distributed.worker.memory - WARNING - Unmanaged memory use is high. This may indicate a memory leak or the memory may not be released to the OS; see https://distributed.dask.org/en/latest/worker-memory.html#memory-not-released-back-to-the-os for more information. -- Unmanaged memory: 58.93 GiB -- Worker memory limit: 83.84 GiB\n",
      "2024-05-17 15:31:57,716 - distributed.worker.memory - WARNING - Unmanaged memory use is high. This may indicate a memory leak or the memory may not be released to the OS; see https://distributed.dask.org/en/latest/worker-memory.html#memory-not-released-back-to-the-os for more information. -- Unmanaged memory: 62.57 GiB -- Worker memory limit: 83.84 GiB\n",
      "2024-05-17 15:32:00,419 - distributed.worker.memory - WARNING - Unmanaged memory use is high. This may indicate a memory leak or the memory may not be released to the OS; see https://distributed.dask.org/en/latest/worker-memory.html#memory-not-released-back-to-the-os for more information. -- Unmanaged memory: 62.76 GiB -- Worker memory limit: 83.84 GiB\n",
      "2024-05-17 15:32:07,823 - distributed.worker.memory - WARNING - Unmanaged memory use is high. This may indicate a memory leak or the memory may not be released to the OS; see https://distributed.dask.org/en/latest/worker-memory.html#memory-not-released-back-to-the-os for more information. -- Unmanaged memory: 60.49 GiB -- Worker memory limit: 83.84 GiB\n",
      "2024-05-17 15:32:10,533 - distributed.worker.memory - WARNING - Unmanaged memory use is high. This may indicate a memory leak or the memory may not be released to the OS; see https://distributed.dask.org/en/latest/worker-memory.html#memory-not-released-back-to-the-os for more information. -- Unmanaged memory: 62.94 GiB -- Worker memory limit: 83.84 GiB\n",
      "2024-05-17 15:32:14,204 - distributed.worker.memory - WARNING - Unmanaged memory use is high. This may indicate a memory leak or the memory may not be released to the OS; see https://distributed.dask.org/en/latest/worker-memory.html#memory-not-released-back-to-the-os for more information. -- Unmanaged memory: 58.68 GiB -- Worker memory limit: 83.84 GiB\n",
      "2024-05-17 15:32:17,913 - distributed.worker.memory - WARNING - Unmanaged memory use is high. This may indicate a memory leak or the memory may not be released to the OS; see https://distributed.dask.org/en/latest/worker-memory.html#memory-not-released-back-to-the-os for more information. -- Unmanaged memory: 60.56 GiB -- Worker memory limit: 83.84 GiB\n",
      "2024-05-17 15:32:20,543 - distributed.worker.memory - WARNING - Unmanaged memory use is high. This may indicate a memory leak or the memory may not be released to the OS; see https://distributed.dask.org/en/latest/worker-memory.html#memory-not-released-back-to-the-os for more information. -- Unmanaged memory: 63.75 GiB -- Worker memory limit: 83.84 GiB\n",
      "2024-05-17 15:32:24,230 - distributed.worker.memory - WARNING - Unmanaged memory use is high. This may indicate a memory leak or the memory may not be released to the OS; see https://distributed.dask.org/en/latest/worker-memory.html#memory-not-released-back-to-the-os for more information. -- Unmanaged memory: 59.30 GiB -- Worker memory limit: 83.84 GiB\n",
      "2024-05-17 15:32:27,918 - distributed.worker.memory - WARNING - Unmanaged memory use is high. This may indicate a memory leak or the memory may not be released to the OS; see https://distributed.dask.org/en/latest/worker-memory.html#memory-not-released-back-to-the-os for more information. -- Unmanaged memory: 61.06 GiB -- Worker memory limit: 83.84 GiB\n",
      "2024-05-17 15:32:30,618 - distributed.worker.memory - WARNING - Unmanaged memory use is high. This may indicate a memory leak or the memory may not be released to the OS; see https://distributed.dask.org/en/latest/worker-memory.html#memory-not-released-back-to-the-os for more information. -- Unmanaged memory: 64.15 GiB -- Worker memory limit: 83.84 GiB\n",
      "2024-05-17 15:32:32,812 - distributed.worker.memory - WARNING - Worker is at 80% memory usage. Pausing worker.  Process memory: 67.09 GiB -- Worker memory limit: 83.84 GiB\n",
      "2024-05-17 15:32:33,216 - distributed.worker.memory - WARNING - Worker is at 79% memory usage. Resuming worker. Process memory: 66.46 GiB -- Worker memory limit: 83.84 GiB\n",
      "2024-05-17 15:32:33,520 - distributed.worker.memory - WARNING - Worker is at 80% memory usage. Pausing worker.  Process memory: 67.11 GiB -- Worker memory limit: 83.84 GiB\n",
      "2024-05-17 15:32:34,018 - distributed.worker.memory - WARNING - Worker is at 79% memory usage. Resuming worker. Process memory: 66.73 GiB -- Worker memory limit: 83.84 GiB\n",
      "2024-05-17 15:32:34,230 - distributed.worker.memory - WARNING - Unmanaged memory use is high. This may indicate a memory leak or the memory may not be released to the OS; see https://distributed.dask.org/en/latest/worker-memory.html#memory-not-released-back-to-the-os for more information. -- Unmanaged memory: 61.29 GiB -- Worker memory limit: 83.84 GiB\n",
      "2024-05-17 15:32:35,017 - distributed.worker.memory - WARNING - Worker is at 80% memory usage. Pausing worker.  Process memory: 67.25 GiB -- Worker memory limit: 83.84 GiB\n",
      "2024-05-17 15:32:35,120 - distributed.worker.memory - WARNING - Worker is at 79% memory usage. Resuming worker. Process memory: 66.98 GiB -- Worker memory limit: 83.84 GiB\n",
      "2024-05-17 15:32:35,221 - distributed.worker.memory - WARNING - Worker is at 80% memory usage. Pausing worker.  Process memory: 67.17 GiB -- Worker memory limit: 83.84 GiB\n",
      "2024-05-17 15:32:35,319 - distributed.worker.memory - WARNING - Worker is at 79% memory usage. Resuming worker. Process memory: 66.51 GiB -- Worker memory limit: 83.84 GiB\n",
      "2024-05-17 15:32:36,318 - distributed.worker.memory - WARNING - Worker is at 80% memory usage. Pausing worker.  Process memory: 67.10 GiB -- Worker memory limit: 83.84 GiB\n",
      "2024-05-17 15:32:36,920 - distributed.worker.memory - WARNING - Worker is at 79% memory usage. Resuming worker. Process memory: 66.80 GiB -- Worker memory limit: 83.84 GiB\n",
      "2024-05-17 15:32:37,018 - distributed.worker.memory - WARNING - Worker is at 80% memory usage. Pausing worker.  Process memory: 67.23 GiB -- Worker memory limit: 83.84 GiB\n",
      "2024-05-17 15:32:37,123 - distributed.worker.memory - WARNING - Worker is at 79% memory usage. Resuming worker. Process memory: 66.29 GiB -- Worker memory limit: 83.84 GiB\n",
      "2024-05-17 15:32:37,816 - distributed.worker.memory - WARNING - Worker is at 80% memory usage. Pausing worker.  Process memory: 67.11 GiB -- Worker memory limit: 83.84 GiB\n",
      "2024-05-17 15:32:37,917 - distributed.worker.memory - WARNING - Worker is at 79% memory usage. Resuming worker. Process memory: 66.53 GiB -- Worker memory limit: 83.84 GiB\n",
      "2024-05-17 15:32:38,047 - distributed.worker.memory - WARNING - Unmanaged memory use is high. This may indicate a memory leak or the memory may not be released to the OS; see https://distributed.dask.org/en/latest/worker-memory.html#memory-not-released-back-to-the-os for more information. -- Unmanaged memory: 59.98 GiB -- Worker memory limit: 83.84 GiB\n",
      "2024-05-17 15:32:38,118 - distributed.worker.memory - WARNING - Worker is at 80% memory usage. Pausing worker.  Process memory: 67.34 GiB -- Worker memory limit: 83.84 GiB\n",
      "2024-05-17 15:32:38,318 - distributed.worker.memory - WARNING - Worker is at 79% memory usage. Resuming worker. Process memory: 66.81 GiB -- Worker memory limit: 83.84 GiB\n",
      "2024-05-17 15:32:38,916 - distributed.worker.memory - WARNING - Worker is at 80% memory usage. Pausing worker.  Process memory: 67.15 GiB -- Worker memory limit: 83.84 GiB\n",
      "2024-05-17 15:32:39,017 - distributed.worker.memory - WARNING - Worker is at 79% memory usage. Resuming worker. Process memory: 66.98 GiB -- Worker memory limit: 83.84 GiB\n",
      "2024-05-17 15:32:39,117 - distributed.worker.memory - WARNING - Worker is at 80% memory usage. Pausing worker.  Process memory: 67.55 GiB -- Worker memory limit: 83.84 GiB\n",
      "2024-05-17 15:32:39,218 - distributed.worker.memory - WARNING - Worker is at 79% memory usage. Resuming worker. Process memory: 66.81 GiB -- Worker memory limit: 83.84 GiB\n",
      "2024-05-17 15:32:39,617 - distributed.worker.memory - WARNING - Worker is at 80% memory usage. Pausing worker.  Process memory: 67.09 GiB -- Worker memory limit: 83.84 GiB\n",
      "2024-05-17 15:32:39,921 - distributed.worker.memory - WARNING - Worker is at 79% memory usage. Resuming worker. Process memory: 66.83 GiB -- Worker memory limit: 83.84 GiB\n",
      "2024-05-17 15:32:40,623 - distributed.worker.memory - WARNING - Unmanaged memory use is high. This may indicate a memory leak or the memory may not be released to the OS; see https://distributed.dask.org/en/latest/worker-memory.html#memory-not-released-back-to-the-os for more information. -- Unmanaged memory: 66.23 GiB -- Worker memory limit: 83.84 GiB\n",
      "2024-05-17 15:32:41,319 - distributed.worker.memory - WARNING - Worker is at 80% memory usage. Pausing worker.  Process memory: 67.08 GiB -- Worker memory limit: 83.84 GiB\n",
      "2024-05-17 15:32:42,134 - distributed.worker.memory - WARNING - Worker is at 78% memory usage. Resuming worker. Process memory: 66.07 GiB -- Worker memory limit: 83.84 GiB\n",
      "2024-05-17 15:32:43,316 - distributed.worker.memory - WARNING - Worker is at 80% memory usage. Pausing worker.  Process memory: 67.50 GiB -- Worker memory limit: 83.84 GiB\n",
      "2024-05-17 15:32:44,027 - distributed.worker.memory - WARNING - Worker is at 79% memory usage. Resuming worker. Process memory: 66.69 GiB -- Worker memory limit: 83.84 GiB\n",
      "2024-05-17 15:32:44,230 - distributed.worker.memory - WARNING - Unmanaged memory use is high. This may indicate a memory leak or the memory may not be released to the OS; see https://distributed.dask.org/en/latest/worker-memory.html#memory-not-released-back-to-the-os for more information. -- Unmanaged memory: 64.18 GiB -- Worker memory limit: 83.84 GiB\n",
      "2024-05-17 15:32:45,117 - distributed.worker.memory - WARNING - Worker is at 80% memory usage. Pausing worker.  Process memory: 67.37 GiB -- Worker memory limit: 83.84 GiB\n",
      "2024-05-17 15:32:45,818 - distributed.worker.memory - WARNING - Worker is at 79% memory usage. Resuming worker. Process memory: 66.32 GiB -- Worker memory limit: 83.84 GiB\n",
      "2024-05-17 15:32:47,316 - distributed.worker.memory - WARNING - Worker is at 80% memory usage. Pausing worker.  Process memory: 67.07 GiB -- Worker memory limit: 83.84 GiB\n",
      "2024-05-17 15:32:47,419 - distributed.worker.memory - WARNING - Worker is at 79% memory usage. Resuming worker. Process memory: 66.85 GiB -- Worker memory limit: 83.84 GiB\n",
      "2024-05-17 15:32:47,818 - distributed.worker.memory - WARNING - Worker is at 80% memory usage. Pausing worker.  Process memory: 67.17 GiB -- Worker memory limit: 83.84 GiB\n",
      "2024-05-17 15:32:47,922 - distributed.worker.memory - WARNING - Worker is at 79% memory usage. Resuming worker. Process memory: 66.91 GiB -- Worker memory limit: 83.84 GiB\n",
      "2024-05-17 15:32:48,115 - distributed.worker.memory - WARNING - Unmanaged memory use is high. This may indicate a memory leak or the memory may not be released to the OS; see https://distributed.dask.org/en/latest/worker-memory.html#memory-not-released-back-to-the-os for more information. -- Unmanaged memory: 59.50 GiB -- Worker memory limit: 83.84 GiB\n",
      "2024-05-17 15:32:48,418 - distributed.worker.memory - WARNING - Worker is at 80% memory usage. Pausing worker.  Process memory: 67.18 GiB -- Worker memory limit: 83.84 GiB\n",
      "2024-05-17 15:32:49,021 - distributed.worker.memory - WARNING - Worker is at 79% memory usage. Resuming worker. Process memory: 66.93 GiB -- Worker memory limit: 83.84 GiB\n",
      "2024-05-17 15:32:49,916 - distributed.worker.memory - WARNING - Worker is at 80% memory usage. Pausing worker.  Process memory: 67.28 GiB -- Worker memory limit: 83.84 GiB\n",
      "2024-05-17 15:32:50,030 - distributed.worker.memory - WARNING - Worker is at 79% memory usage. Resuming worker. Process memory: 66.80 GiB -- Worker memory limit: 83.84 GiB\n",
      "2024-05-17 15:32:50,320 - distributed.worker.memory - WARNING - Worker is at 80% memory usage. Pausing worker.  Process memory: 67.15 GiB -- Worker memory limit: 83.84 GiB\n",
      "2024-05-17 15:32:50,516 - distributed.worker.memory - WARNING - Worker is at 79% memory usage. Resuming worker. Process memory: 66.98 GiB -- Worker memory limit: 83.84 GiB\n",
      "2024-05-17 15:32:50,720 - distributed.worker.memory - WARNING - Unmanaged memory use is high. This may indicate a memory leak or the memory may not be released to the OS; see https://distributed.dask.org/en/latest/worker-memory.html#memory-not-released-back-to-the-os for more information. -- Unmanaged memory: 66.72 GiB -- Worker memory limit: 83.84 GiB\n",
      "2024-05-17 15:32:54,330 - distributed.worker.memory - WARNING - Unmanaged memory use is high. This may indicate a memory leak or the memory may not be released to the OS; see https://distributed.dask.org/en/latest/worker-memory.html#memory-not-released-back-to-the-os for more information. -- Unmanaged memory: 64.26 GiB -- Worker memory limit: 83.84 GiB\n",
      "2024-05-17 15:32:58,555 - distributed.worker.memory - WARNING - Unmanaged memory use is high. This may indicate a memory leak or the memory may not be released to the OS; see https://distributed.dask.org/en/latest/worker-memory.html#memory-not-released-back-to-the-os for more information. -- Unmanaged memory: 58.54 GiB -- Worker memory limit: 83.84 GiB\n",
      "2024-05-17 15:33:00,826 - distributed.worker.memory - WARNING - Unmanaged memory use is high. This may indicate a memory leak or the memory may not be released to the OS; see https://distributed.dask.org/en/latest/worker-memory.html#memory-not-released-back-to-the-os for more information. -- Unmanaged memory: 65.25 GiB -- Worker memory limit: 83.84 GiB\n",
      "2024-05-17 15:33:04,331 - distributed.worker.memory - WARNING - Unmanaged memory use is high. This may indicate a memory leak or the memory may not be released to the OS; see https://distributed.dask.org/en/latest/worker-memory.html#memory-not-released-back-to-the-os for more information. -- Unmanaged memory: 64.71 GiB -- Worker memory limit: 83.84 GiB\n",
      "2024-05-17 15:33:07,817 - distributed.worker.memory - WARNING - Worker is at 80% memory usage. Pausing worker.  Process memory: 67.65 GiB -- Worker memory limit: 83.84 GiB\n",
      "2024-05-17 15:33:08,589 - distributed.worker.memory - WARNING - Unmanaged memory use is high. This may indicate a memory leak or the memory may not be released to the OS; see https://distributed.dask.org/en/latest/worker-memory.html#memory-not-released-back-to-the-os for more information. -- Unmanaged memory: 61.79 GiB -- Worker memory limit: 83.84 GiB\n",
      "2024-05-17 15:33:10,919 - distributed.worker.memory - WARNING - Unmanaged memory use is high. This may indicate a memory leak or the memory may not be released to the OS; see https://distributed.dask.org/en/latest/worker-memory.html#memory-not-released-back-to-the-os for more information. -- Unmanaged memory: 68.52 GiB -- Worker memory limit: 83.84 GiB\n",
      "2024-05-17 15:33:14,338 - distributed.worker.memory - WARNING - Unmanaged memory use is high. This may indicate a memory leak or the memory may not be released to the OS; see https://distributed.dask.org/en/latest/worker-memory.html#memory-not-released-back-to-the-os for more information. -- Unmanaged memory: 61.87 GiB -- Worker memory limit: 83.84 GiB\n",
      "2024-05-17 15:33:18,623 - distributed.worker.memory - WARNING - Unmanaged memory use is high. This may indicate a memory leak or the memory may not be released to the OS; see https://distributed.dask.org/en/latest/worker-memory.html#memory-not-released-back-to-the-os for more information. -- Unmanaged memory: 61.59 GiB -- Worker memory limit: 83.84 GiB\n",
      "2024-05-17 15:33:20,928 - distributed.worker.memory - WARNING - Unmanaged memory use is high. This may indicate a memory leak or the memory may not be released to the OS; see https://distributed.dask.org/en/latest/worker-memory.html#memory-not-released-back-to-the-os for more information. -- Unmanaged memory: 68.63 GiB -- Worker memory limit: 83.84 GiB\n",
      "2024-05-17 15:33:24,439 - distributed.worker.memory - WARNING - Unmanaged memory use is high. This may indicate a memory leak or the memory may not be released to the OS; see https://distributed.dask.org/en/latest/worker-memory.html#memory-not-released-back-to-the-os for more information. -- Unmanaged memory: 62.60 GiB -- Worker memory limit: 83.84 GiB\n",
      "2024-05-17 15:33:30,019 - distributed.worker.memory - WARNING - Worker is at 78% memory usage. Resuming worker. Process memory: 66.05 GiB -- Worker memory limit: 83.84 GiB\n",
      "2024-05-17 15:33:30,221 - distributed.worker.memory - WARNING - Unmanaged memory use is high. This may indicate a memory leak or the memory may not be released to the OS; see https://distributed.dask.org/en/latest/worker-memory.html#memory-not-released-back-to-the-os for more information. -- Unmanaged memory: 58.71 GiB -- Worker memory limit: 83.84 GiB\n",
      "2024-05-17 15:33:31,027 - distributed.worker.memory - WARNING - Worker is at 80% memory usage. Pausing worker.  Process memory: 67.12 GiB -- Worker memory limit: 83.84 GiB\n",
      "2024-05-17 15:33:31,082 - distributed.worker.memory - WARNING - Unmanaged memory use is high. This may indicate a memory leak or the memory may not be released to the OS; see https://distributed.dask.org/en/latest/worker-memory.html#memory-not-released-back-to-the-os for more information. -- Unmanaged memory: 67.12 GiB -- Worker memory limit: 83.84 GiB\n",
      "2024-05-17 15:33:31,120 - distributed.worker.memory - WARNING - Worker is at 79% memory usage. Resuming worker. Process memory: 66.45 GiB -- Worker memory limit: 83.84 GiB\n",
      "2024-05-17 15:33:32,220 - distributed.worker.memory - WARNING - Worker is at 80% memory usage. Pausing worker.  Process memory: 67.13 GiB -- Worker memory limit: 83.84 GiB\n",
      "2024-05-17 15:33:32,618 - distributed.worker.memory - WARNING - Worker is at 79% memory usage. Resuming worker. Process memory: 67.05 GiB -- Worker memory limit: 83.84 GiB\n",
      "2024-05-17 15:33:32,718 - distributed.worker.memory - WARNING - Worker is at 80% memory usage. Pausing worker.  Process memory: 67.12 GiB -- Worker memory limit: 83.84 GiB\n",
      "2024-05-17 15:33:34,623 - distributed.worker.memory - WARNING - Unmanaged memory use is high. This may indicate a memory leak or the memory may not be released to the OS; see https://distributed.dask.org/en/latest/worker-memory.html#memory-not-released-back-to-the-os for more information. -- Unmanaged memory: 64.19 GiB -- Worker memory limit: 83.84 GiB\n",
      "2024-05-17 15:33:36,620 - distributed.worker.memory - WARNING - Worker is at 79% memory usage. Resuming worker. Process memory: 66.99 GiB -- Worker memory limit: 83.84 GiB\n",
      "2024-05-17 15:33:36,819 - distributed.worker.memory - WARNING - Worker is at 80% memory usage. Pausing worker.  Process memory: 67.13 GiB -- Worker memory limit: 83.84 GiB\n",
      "2024-05-17 15:33:36,917 - distributed.worker.memory - WARNING - Worker is at 78% memory usage. Resuming worker. Process memory: 65.89 GiB -- Worker memory limit: 83.84 GiB\n",
      "2024-05-17 15:33:41,122 - distributed.worker.memory - WARNING - Unmanaged memory use is high. This may indicate a memory leak or the memory may not be released to the OS; see https://distributed.dask.org/en/latest/worker-memory.html#memory-not-released-back-to-the-os for more information. -- Unmanaged memory: 66.04 GiB -- Worker memory limit: 83.84 GiB\n",
      "2024-05-17 15:33:42,196 - distributed.worker.memory - WARNING - Unmanaged memory use is high. This may indicate a memory leak or the memory may not be released to the OS; see https://distributed.dask.org/en/latest/worker-memory.html#memory-not-released-back-to-the-os for more information. -- Unmanaged memory: 59.17 GiB -- Worker memory limit: 83.84 GiB\n",
      "2024-05-17 15:33:42,446 - distributed.worker.memory - WARNING - Worker is at 80% memory usage. Pausing worker.  Process memory: 67.22 GiB -- Worker memory limit: 83.84 GiB\n",
      "2024-05-17 15:33:42,619 - distributed.worker.memory - WARNING - Worker is at 78% memory usage. Resuming worker. Process memory: 65.79 GiB -- Worker memory limit: 83.84 GiB\n",
      "2024-05-17 15:33:44,661 - distributed.worker.memory - WARNING - Unmanaged memory use is high. This may indicate a memory leak or the memory may not be released to the OS; see https://distributed.dask.org/en/latest/worker-memory.html#memory-not-released-back-to-the-os for more information. -- Unmanaged memory: 61.59 GiB -- Worker memory limit: 83.84 GiB\n",
      "2024-05-17 15:33:45,217 - distributed.worker.memory - WARNING - Worker is at 80% memory usage. Pausing worker.  Process memory: 67.22 GiB -- Worker memory limit: 83.84 GiB\n",
      "2024-05-17 15:33:45,319 - distributed.worker.memory - WARNING - Worker is at 79% memory usage. Resuming worker. Process memory: 66.56 GiB -- Worker memory limit: 83.84 GiB\n",
      "2024-05-17 15:33:45,518 - distributed.worker.memory - WARNING - Worker is at 80% memory usage. Pausing worker.  Process memory: 67.20 GiB -- Worker memory limit: 83.84 GiB\n",
      "2024-05-17 15:33:45,624 - distributed.worker.memory - WARNING - Worker is at 79% memory usage. Resuming worker. Process memory: 66.62 GiB -- Worker memory limit: 83.84 GiB\n",
      "2024-05-17 15:33:45,718 - distributed.worker.memory - WARNING - Worker is at 80% memory usage. Pausing worker.  Process memory: 67.10 GiB -- Worker memory limit: 83.84 GiB\n",
      "2024-05-17 15:33:45,819 - distributed.worker.memory - WARNING - Worker is at 79% memory usage. Resuming worker. Process memory: 66.78 GiB -- Worker memory limit: 83.84 GiB\n",
      "2024-05-17 15:33:46,017 - distributed.worker.memory - WARNING - Worker is at 80% memory usage. Pausing worker.  Process memory: 67.28 GiB -- Worker memory limit: 83.84 GiB\n",
      "2024-05-17 15:33:46,116 - distributed.worker.memory - WARNING - Worker is at 79% memory usage. Resuming worker. Process memory: 66.84 GiB -- Worker memory limit: 83.84 GiB\n",
      "2024-05-17 15:33:48,918 - distributed.worker.memory - WARNING - Worker is at 80% memory usage. Pausing worker.  Process memory: 67.10 GiB -- Worker memory limit: 83.84 GiB\n",
      "2024-05-17 15:33:49,017 - distributed.worker.memory - WARNING - Worker is at 79% memory usage. Resuming worker. Process memory: 66.97 GiB -- Worker memory limit: 83.84 GiB\n",
      "2024-05-17 15:33:49,120 - distributed.worker.memory - WARNING - Worker is at 80% memory usage. Pausing worker.  Process memory: 67.10 GiB -- Worker memory limit: 83.84 GiB\n",
      "2024-05-17 15:33:49,217 - distributed.worker.memory - WARNING - Worker is at 79% memory usage. Resuming worker. Process memory: 66.77 GiB -- Worker memory limit: 83.84 GiB\n",
      "2024-05-17 15:33:51,226 - distributed.worker.memory - WARNING - Unmanaged memory use is high. This may indicate a memory leak or the memory may not be released to the OS; see https://distributed.dask.org/en/latest/worker-memory.html#memory-not-released-back-to-the-os for more information. -- Unmanaged memory: 66.33 GiB -- Worker memory limit: 83.84 GiB\n",
      "2024-05-17 15:33:51,518 - distributed.worker.memory - WARNING - Worker is at 80% memory usage. Pausing worker.  Process memory: 67.34 GiB -- Worker memory limit: 83.84 GiB\n",
      "2024-05-17 15:33:51,755 - distributed.worker.memory - WARNING - Worker is at 79% memory usage. Resuming worker. Process memory: 66.88 GiB -- Worker memory limit: 83.84 GiB\n",
      "2024-05-17 15:33:52,214 - distributed.worker.memory - WARNING - Unmanaged memory use is high. This may indicate a memory leak or the memory may not be released to the OS; see https://distributed.dask.org/en/latest/worker-memory.html#memory-not-released-back-to-the-os for more information. -- Unmanaged memory: 61.35 GiB -- Worker memory limit: 83.84 GiB\n",
      "2024-05-17 15:33:53,617 - distributed.worker.memory - WARNING - Worker is at 80% memory usage. Pausing worker.  Process memory: 67.27 GiB -- Worker memory limit: 83.84 GiB\n",
      "2024-05-17 15:33:53,719 - distributed.worker.memory - WARNING - Worker is at 79% memory usage. Resuming worker. Process memory: 66.60 GiB -- Worker memory limit: 83.84 GiB\n",
      "2024-05-17 15:33:54,754 - distributed.worker.memory - WARNING - Unmanaged memory use is high. This may indicate a memory leak or the memory may not be released to the OS; see https://distributed.dask.org/en/latest/worker-memory.html#memory-not-released-back-to-the-os for more information. -- Unmanaged memory: 62.37 GiB -- Worker memory limit: 83.84 GiB\n",
      "2024-05-17 15:34:01,800 - distributed.worker.memory - WARNING - Worker is at 80% memory usage. Pausing worker.  Process memory: 67.30 GiB -- Worker memory limit: 83.84 GiB\n",
      "2024-05-17 15:34:01,812 - distributed.worker.memory - WARNING - Unmanaged memory use is high. This may indicate a memory leak or the memory may not be released to the OS; see https://distributed.dask.org/en/latest/worker-memory.html#memory-not-released-back-to-the-os for more information. -- Unmanaged memory: 67.30 GiB -- Worker memory limit: 83.84 GiB\n",
      "2024-05-17 15:34:02,033 - distributed.worker.memory - WARNING - Worker is at 79% memory usage. Resuming worker. Process memory: 66.36 GiB -- Worker memory limit: 83.84 GiB\n",
      "2024-05-17 15:34:02,216 - distributed.worker.memory - WARNING - Unmanaged memory use is high. This may indicate a memory leak or the memory may not be released to the OS; see https://distributed.dask.org/en/latest/worker-memory.html#memory-not-released-back-to-the-os for more information. -- Unmanaged memory: 61.39 GiB -- Worker memory limit: 83.84 GiB\n",
      "2024-05-17 15:34:03,034 - distributed.worker.memory - WARNING - Worker is at 80% memory usage. Pausing worker.  Process memory: 67.20 GiB -- Worker memory limit: 83.84 GiB\n",
      "2024-05-17 15:34:03,162 - distributed.worker.memory - WARNING - Worker is at 78% memory usage. Resuming worker. Process memory: 66.19 GiB -- Worker memory limit: 83.84 GiB\n",
      "2024-05-17 15:34:04,844 - distributed.worker.memory - WARNING - Unmanaged memory use is high. This may indicate a memory leak or the memory may not be released to the OS; see https://distributed.dask.org/en/latest/worker-memory.html#memory-not-released-back-to-the-os for more information. -- Unmanaged memory: 63.53 GiB -- Worker memory limit: 83.84 GiB\n",
      "2024-05-17 15:34:06,220 - distributed.worker.memory - WARNING - Worker is at 80% memory usage. Pausing worker.  Process memory: 67.29 GiB -- Worker memory limit: 83.84 GiB\n",
      "2024-05-17 15:34:06,439 - distributed.worker.memory - WARNING - Worker is at 79% memory usage. Resuming worker. Process memory: 66.96 GiB -- Worker memory limit: 83.84 GiB\n",
      "2024-05-17 15:34:10,716 - distributed.worker.memory - WARNING - Worker is at 80% memory usage. Pausing worker.  Process memory: 67.15 GiB -- Worker memory limit: 83.84 GiB\n",
      "2024-05-17 15:34:11,218 - distributed.worker.memory - WARNING - Worker is at 79% memory usage. Resuming worker. Process memory: 66.94 GiB -- Worker memory limit: 83.84 GiB\n",
      "2024-05-17 15:34:11,829 - distributed.worker.memory - WARNING - Unmanaged memory use is high. This may indicate a memory leak or the memory may not be released to the OS; see https://distributed.dask.org/en/latest/worker-memory.html#memory-not-released-back-to-the-os for more information. -- Unmanaged memory: 66.66 GiB -- Worker memory limit: 83.84 GiB\n",
      "2024-05-17 15:34:12,016 - distributed.worker.memory - WARNING - Worker is at 80% memory usage. Pausing worker.  Process memory: 67.23 GiB -- Worker memory limit: 83.84 GiB\n",
      "2024-05-17 15:34:12,220 - distributed.worker.memory - WARNING - Unmanaged memory use is high. This may indicate a memory leak or the memory may not be released to the OS; see https://distributed.dask.org/en/latest/worker-memory.html#memory-not-released-back-to-the-os for more information. -- Unmanaged memory: 61.51 GiB -- Worker memory limit: 83.84 GiB\n",
      "2024-05-17 15:34:12,222 - distributed.worker.memory - WARNING - Worker is at 79% memory usage. Resuming worker. Process memory: 66.92 GiB -- Worker memory limit: 83.84 GiB\n",
      "2024-05-17 15:34:12,318 - distributed.worker.memory - WARNING - Worker is at 80% memory usage. Pausing worker.  Process memory: 67.13 GiB -- Worker memory limit: 83.84 GiB\n",
      "2024-05-17 15:34:14,839 - distributed.worker.memory - WARNING - Worker is at 77% memory usage. Resuming worker. Process memory: 65.05 GiB -- Worker memory limit: 83.84 GiB\n",
      "2024-05-17 15:34:14,945 - distributed.worker.memory - WARNING - Unmanaged memory use is high. This may indicate a memory leak or the memory may not be released to the OS; see https://distributed.dask.org/en/latest/worker-memory.html#memory-not-released-back-to-the-os for more information. -- Unmanaged memory: 63.22 GiB -- Worker memory limit: 83.84 GiB\n",
      "2024-05-17 15:34:21,919 - distributed.worker.memory - WARNING - Unmanaged memory use is high. This may indicate a memory leak or the memory may not be released to the OS; see https://distributed.dask.org/en/latest/worker-memory.html#memory-not-released-back-to-the-os for more information. -- Unmanaged memory: 61.75 GiB -- Worker memory limit: 83.84 GiB\n",
      "2024-05-17 15:34:26,125 - distributed.worker.memory - WARNING - Unmanaged memory use is high. This may indicate a memory leak or the memory may not be released to the OS; see https://distributed.dask.org/en/latest/worker-memory.html#memory-not-released-back-to-the-os for more information. -- Unmanaged memory: 58.87 GiB -- Worker memory limit: 83.84 GiB\n",
      "2024-05-17 15:34:27,430 - distributed.worker.memory - WARNING - Unmanaged memory use is high. This may indicate a memory leak or the memory may not be released to the OS; see https://distributed.dask.org/en/latest/worker-memory.html#memory-not-released-back-to-the-os for more information. -- Unmanaged memory: 58.58 GiB -- Worker memory limit: 83.84 GiB\n",
      "2024-05-17 15:34:51,439 - distributed.worker.memory - WARNING - Unmanaged memory use is high. This may indicate a memory leak or the memory may not be released to the OS; see https://distributed.dask.org/en/latest/worker-memory.html#memory-not-released-back-to-the-os for more information. -- Unmanaged memory: 58.87 GiB -- Worker memory limit: 83.84 GiB\n"
     ]
    },
    {
     "name": "stdout",
     "output_type": "stream",
     "text": [
      "{'n_max': 20000, 'variogram_model': 'spherical', 'nlags': 30, 'anisotropy_scaling': 1, 'anisotropy_angle': 0}\n",
      "Mean range: 3.535415466870557 deg\n",
      "Median range: 2.300591841183184 deg\n",
      "5th percentile range: 0.07223058805334966 deg\n",
      "95th percentile range: 9.045320496182633 deg\n"
     ]
    }
   ],
   "source": [
    "with Client(dashboard_address=cfg.dask_dashboard, n_workers=3) as client:\n",
    "    grouped = feats[[\"X50_mean\", \"easting\", \"northing\", \"zone\"]].groupby(\"zone\")\n",
    "\n",
    "    kwargs = {\n",
    "        \"n_max\": 20000,\n",
    "        \"variogram_model\": \"spherical\",\n",
    "        \"nlags\": 30,\n",
    "        \"anisotropy_scaling\": 1,\n",
    "        \"anisotropy_angle\": 0,\n",
    "    }\n",
    "\n",
    "    results = [\n",
    "        calculate_variogram(group, \"X50_mean\", **kwargs)\n",
    "        for _, group in grouped\n",
    "    ]\n",
    "\n",
    "    # Apply the function to each group\n",
    "    autocorr_ranges = list(compute(*results))\n",
    "\n",
    "    # Print the autocorrelation ranges\n",
    "    filt_ranges = [r for r in autocorr_ranges if r != 0]\n",
    "\n",
    "    print(kwargs)\n",
    "    print(f\"Mean range: {np.mean(filt_ranges) / 111325} deg\")\n",
    "    print(f\"Median range: {np.median(filt_ranges) / 111325} deg\")\n",
    "    print(f\"5th percentile range: {np.quantile(filt_ranges, 0.05) / 111325} deg\")\n",
    "    print(f\"95th percentile range: {np.quantile(filt_ranges, 0.95) / 111325} deg\")"
   ]
  },
  {
   "cell_type": "markdown",
   "metadata": {},
   "source": [
    "```python\n",
    "{\n",
    "    \"n_max\": 20000,\n",
    "    \"variogram_model\": \"spherical\",\n",
    "    \"nlags\": 30,\n",
    "    \"anisotropy_scaling\": 1,\n",
    "    \"anisotropy_angle\": 0,\n",
    "}\n",
    "# Mean range: 3.535415466870557 deg\n",
    "# Median range: 2.300591841183184 deg\n",
    "# 5th percentile range: 0.07223058805334966 deg\n",
    "# 95th percentile range: 9.045320496182633 deg\n",
    "```"
   ]
  },
  {
   "cell_type": "markdown",
   "metadata": {},
   "source": [
    "```python\n",
    "{\n",
    "    \"n_max\": 20000,\n",
    "    \"variogram_model\": \"spherical\",\n",
    "    \"nlags\": 20,\n",
    "    \"anisotropy_scaling\": 1,\n",
    "    \"anisotropy_angle\": 0,\n",
    "}\n",
    "# Mean range: 3.5283237814004558 deg\n",
    "# Median range: 2.511821835038483 deg\n",
    "# 5th percentile range: 0.0710157956836979 deg\n",
    "# 95th percentile range: 8.96835642780179 deg\n",
    "```"
   ]
  },
  {
   "cell_type": "markdown",
   "metadata": {},
   "source": [
    "```python\n",
    "{\n",
    "    \"n_max\": 20000,\n",
    "    \"variogram_model\": \"spherical\",\n",
    "    \"nlags\": 10,\n",
    "    \"anisotropy_scaling\": 1,\n",
    "    \"anisotropy_angle\": 0,\n",
    "}\n",
    "# Mean range: 3.3299486856787843 deg\n",
    "# Median range: 2.2360914720180007 deg\n",
    "# 5th percentile range: 0.07918879354605478 deg\n",
    "# 95th percentile range: 8.604451120028585 deg\n",
    "```"
   ]
  },
  {
   "cell_type": "markdown",
   "metadata": {},
   "source": [
    "```python\n",
    "n_max = 20_000\n",
    "model = \"spherical\"\n",
    "anistropy_angle = 90\n",
    "anisotropy_scaling = 1.5\n",
    "\n",
    "# Mean range: 3.5017888367085375 deg\n",
    "# Median range: 2.056769300783017 deg\n",
    "# 5th percentile range: 0.13736201609716384 deg\n",
    "# 95th percentile range: 9.450227873471638 deg\n",
    "```"
   ]
  },
  {
   "cell_type": "markdown",
   "metadata": {},
   "source": [
    "```python\n",
    "n_max = 20_000\n",
    "model = \"spherical\"\n",
    "anistropy_angle = 0\n",
    "anisotropy_scaling = 1\n",
    "\n",
    "# Mean range: 2.9805928835492264 deg\n",
    "# Median range: 1.8259634833926948 deg\n",
    "# 5th percentile range: 0.09173615524985357 deg\n",
    "# 95th percentile range: 7.991990058407153 deg\n",
    "```"
   ]
  },
  {
   "cell_type": "markdown",
   "metadata": {},
   "source": [
    "```python\n",
    "n_max = 10_000\n",
    "model = \"spherical\"\n",
    "anistropy_angle = 0\n",
    "anisotropy_scaling = 1\n",
    "\n",
    "# Mean range: 2.90236212377645 deg\n",
    "# Median range: 1.7994449513764208 deg\n",
    "# 5th percentile range: 0.09173615524985357 deg\n",
    "# 95th percentile range: 7.980099791529539 deg\n",
    "```"
   ]
  },
  {
   "cell_type": "markdown",
   "metadata": {},
   "source": [
    "```python\n",
    "n_max = 20_000\n",
    "model = \"linear\"\n",
    "anistropy_angle = 0\n",
    "anisotropy_scaling = 1\n",
    "\n",
    "# Mean range: 2.170098969135144e-06 deg\n",
    "# Median range: 1.8805479230810616e-06 deg\n",
    "# 5th percentile range: 1.0384935296796446e-06 deg\n",
    "# 95th percentile range: 4.388690590407629e-06 deg\n",
    "```"
   ]
  },
  {
   "cell_type": "markdown",
   "metadata": {},
   "source": [
    "After looking through a few different runs, it seems like choosing a spherical variogram with no anisotropy and around 15 lags is probably a robust enough solution to handle the many different distributions of trait data.\n",
    "\n",
    "The last thing to do is to calculate these mean ranges for all traits and save them in a file."
   ]
  }
 ],
 "metadata": {
  "kernelspec": {
   "display_name": "Python 3",
   "language": "python",
   "name": "python3"
  },
  "language_info": {
   "codemirror_mode": {
    "name": "ipython",
    "version": 3
   },
   "file_extension": ".py",
   "mimetype": "text/x-python",
   "name": "python",
   "nbconvert_exporter": "python",
   "pygments_lexer": "ipython3",
   "version": "3.12.2"
  }
 },
 "nbformat": 4,
 "nbformat_minor": 2
}
