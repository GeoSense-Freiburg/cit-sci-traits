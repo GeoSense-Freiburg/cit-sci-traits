{
 "cells": [
  {
   "cell_type": "markdown",
   "metadata": {},
   "source": [
    "# 0.1.4: Build GBIF trait maps"
   ]
  },
  {
   "cell_type": "markdown",
   "metadata": {},
   "source": [
    "The final step before training models using Earth observation (EO) data is to link the TRY trait data with the GBIF species observations and then grid them. In this way, we can have matching trait rasters to be paired with our EO data."
   ]
  },
  {
   "cell_type": "markdown",
   "metadata": {},
   "source": [
    "## Imports and config"
   ]
  },
  {
   "cell_type": "code",
   "execution_count": 1,
   "metadata": {},
   "outputs": [
    {
     "name": "stdout",
     "output_type": "stream",
     "text": [
      "The autoreload extension is already loaded. To reload it, use:\n",
      "  %reload_ext autoreload\n"
     ]
    }
   ],
   "source": [
    "from pathlib import Path\n",
    "\n",
    "import dask.dataframe as dd\n",
    "import numpy as np\n",
    "import pandas as pd\n",
    "import rioxarray as riox\n",
    "from src.conf.conf import get_config\n",
    "from src.conf.environment import log\n",
    "from src.utils.raster_utils import create_sample_raster\n",
    "\n",
    "%load_ext autoreload\n",
    "%autoreload 2\n",
    "\n",
    "# Display all columns when printing a pandas DataFrame\n",
    "pd.set_option(\"display.max_columns\", None)\n",
    "\n",
    "cfg = get_config()"
   ]
  },
  {
   "cell_type": "markdown",
   "metadata": {},
   "source": [
    "Due to the size of the GBIF data, we're going to need to use Dask in order to keep memory usage low as well as to parallelize the merging and spatial gridding operations. The settings below (`n_workers` and `memory_limit`, in particular) are specific to the machine being used during this exercise."
   ]
  },
  {
   "cell_type": "code",
   "execution_count": 2,
   "metadata": {},
   "outputs": [],
   "source": [
    "from src.utils.dask_utils import init_dask\n",
    "\n",
    "client, cluster = init_dask(\n",
    "    dashboard_address=cfg.dask_dashboard,\n",
    "    n_workers=40,\n",
    "    threads_per_worker=5,\n",
    ")"
   ]
  },
  {
   "cell_type": "markdown",
   "metadata": {},
   "source": [
    "## Load GBIF and filter by PFT"
   ]
  },
  {
   "cell_type": "markdown",
   "metadata": {},
   "source": [
    "Let's load the GBIF data, select all three PFTs, and set species name as the index to make merging with the TRY data faster.\n",
    "\n",
    "**Note:** Processing the entire GBIF dataset, as done below, may be infeasible for some machines. If this is the case, simply select a single PFT for the `filter_pft` call, and also consider using `DataFrame.sample(frac=<fraction of the data>)` to use only a subsample of the data."
   ]
  },
  {
   "cell_type": "code",
   "execution_count": 3,
   "metadata": {},
   "outputs": [],
   "source": [
    "from src.utils.trait_utils import filter_pft\n",
    "\n",
    "gbif = (\n",
    "    dd.read_parquet(\n",
    "        Path(cfg.interim_dir, cfg.gbif.interim.dir, cfg.gbif.interim.subsampled)\n",
    "    )\n",
    "    .pipe(filter_pft, \"Shrub_Tree_Grass\")\n",
    "    .set_index(\"speciesname\")\n",
    ")"
   ]
  },
  {
   "cell_type": "markdown",
   "metadata": {},
   "source": [
    "## Load TRY filtered mean trait data"
   ]
  },
  {
   "cell_type": "code",
   "execution_count": 4,
   "metadata": {},
   "outputs": [],
   "source": [
    "mn_traits = dd.read_parquet(\n",
    "    Path(cfg.interim_dir, cfg.trydb.interim.dir, cfg.trydb.interim.filtered)\n",
    ").set_index(\"speciesname\")"
   ]
  },
  {
   "cell_type": "markdown",
   "metadata": {},
   "source": [
    "## Link mean trait values with GBIF data"
   ]
  },
  {
   "cell_type": "markdown",
   "metadata": {},
   "source": [
    "Because we set species name as the index on both DataFrames, we can simply perform an inner join, called by the GBIF data, to merge the traits and cit-sci species occurrences."
   ]
  },
  {
   "cell_type": "code",
   "execution_count": 5,
   "metadata": {},
   "outputs": [],
   "source": [
    "merged = gbif.join(mn_traits, how=\"inner\")"
   ]
  },
  {
   "cell_type": "code",
   "execution_count": 6,
   "metadata": {},
   "outputs": [],
   "source": [
    "# compute the number of unique indices\n",
    "print(\n",
    "    f\"Pct matched species: {merged.index.nunique().compute() / gbif.index.nunique().compute():.2%}\"\n",
    ")"
   ]
  },
  {
   "cell_type": "markdown",
   "metadata": {},
   "source": [
    "## Rasterize merged trait values"
   ]
  },
  {
   "cell_type": "markdown",
   "metadata": {},
   "source": [
    "### Grid the matched trait data"
   ]
  },
  {
   "cell_type": "markdown",
   "metadata": {},
   "source": [
    "Now let's grid the data for the first trait, \"X4\" or \"stem specific density\". \n",
    "\n",
    "`global_grid_df` grids the data to the centroids of each point observations corresponding grid cell (at the desired resolution), and then calculates the mean, standard deviation, median, and 5th and 95th quantiles of each grid cell."
   ]
  },
  {
   "cell_type": "markdown",
   "metadata": {},
   "source": [
    "First reproject the merged data to NSIDC Equal-Area Scalable Earth 2.0 (EPSG: 6933) coordinates."
   ]
  },
  {
   "cell_type": "code",
   "execution_count": 8,
   "metadata": {},
   "outputs": [],
   "source": [
    "from src.utils.df_utils import reproject_geo_to_xy\n",
    "\n",
    "\n",
    "merged_6933 = (\n",
    "    merged.reset_index(drop=True)\n",
    "    .map_partitions(\n",
    "        reproject_geo_to_xy,\n",
    "        x_col=\"decimallongitude\",\n",
    "        y_col=\"decimallatitude\",\n",
    "    )\n",
    "    .drop(columns=[\"decimallongitude\", \"decimallatitude\", \"pft\"])\n",
    ")"
   ]
  },
  {
   "cell_type": "code",
   "execution_count": 9,
   "metadata": {},
   "outputs": [],
   "source": [
    "from src.utils.df_utils import agg_df, xy_to_rowcol_df\n",
    "\n",
    "transform = create_sample_raster(resolution=1000, crs=\"EPSG:6933\").rio.transform()\n",
    "\n",
    "# Convert the Affine object to a tuple for serialization across Dask workers\n",
    "transform_tuple = transform.to_gdal()\n",
    "\n",
    "cols = [col for col in merged_6933.columns if col.startswith(\"X\")]\n",
    "df = xy_to_rowcol_df(merged_6933[[\"x\", \"y\", cols[0]]], transform_tuple).drop(\n",
    "    columns=[\"x\", \"y\"]\n",
    ")\n",
    "\n",
    "df = agg_df(df, [\"row\", \"col\"], \"X4\")"
   ]
  },
  {
   "cell_type": "code",
   "execution_count": 25,
   "metadata": {},
   "outputs": [],
   "source": [
    "agg = df.compute()"
   ]
  },
  {
   "cell_type": "code",
   "execution_count": 26,
   "metadata": {},
   "outputs": [
    {
     "data": {
      "text/html": [
       "<div>\n",
       "<style scoped>\n",
       "    .dataframe tbody tr th:only-of-type {\n",
       "        vertical-align: middle;\n",
       "    }\n",
       "\n",
       "    .dataframe tbody tr th {\n",
       "        vertical-align: top;\n",
       "    }\n",
       "\n",
       "    .dataframe thead th {\n",
       "        text-align: right;\n",
       "    }\n",
       "</style>\n",
       "<table border=\"1\" class=\"dataframe\">\n",
       "  <thead>\n",
       "    <tr style=\"text-align: right;\">\n",
       "      <th></th>\n",
       "      <th></th>\n",
       "      <th>mean</th>\n",
       "      <th>std</th>\n",
       "      <th>median</th>\n",
       "      <th>q05</th>\n",
       "      <th>q95</th>\n",
       "      <th>count</th>\n",
       "    </tr>\n",
       "    <tr>\n",
       "      <th>row</th>\n",
       "      <th>col</th>\n",
       "      <th></th>\n",
       "      <th></th>\n",
       "      <th></th>\n",
       "      <th></th>\n",
       "      <th></th>\n",
       "      <th></th>\n",
       "    </tr>\n",
       "  </thead>\n",
       "  <tbody>\n",
       "    <tr>\n",
       "      <th>6536</th>\n",
       "      <th>10064</th>\n",
       "      <td>0.535843</td>\n",
       "      <td>0.085337</td>\n",
       "      <td>0.578245</td>\n",
       "      <td>0.386043</td>\n",
       "      <td>0.662060</td>\n",
       "      <td>84</td>\n",
       "    </tr>\n",
       "    <tr>\n",
       "      <th>7131</th>\n",
       "      <th>9959</th>\n",
       "      <td>0.517509</td>\n",
       "      <td>NaN</td>\n",
       "      <td>0.517509</td>\n",
       "      <td>0.517509</td>\n",
       "      <td>0.517509</td>\n",
       "      <td>1</td>\n",
       "    </tr>\n",
       "    <tr>\n",
       "      <th>7298</th>\n",
       "      <th>9785</th>\n",
       "      <td>0.498631</td>\n",
       "      <td>0.088076</td>\n",
       "      <td>0.502703</td>\n",
       "      <td>0.407313</td>\n",
       "      <td>0.632198</td>\n",
       "      <td>89</td>\n",
       "    </tr>\n",
       "    <tr>\n",
       "      <th>7338</th>\n",
       "      <th>9805</th>\n",
       "      <td>0.467158</td>\n",
       "      <td>0.043992</td>\n",
       "      <td>0.460785</td>\n",
       "      <td>0.431581</td>\n",
       "      <td>0.517509</td>\n",
       "      <td>12</td>\n",
       "    </tr>\n",
       "    <tr>\n",
       "      <th>6750</th>\n",
       "      <th>10219</th>\n",
       "      <td>0.516574</td>\n",
       "      <td>0.151766</td>\n",
       "      <td>0.470725</td>\n",
       "      <td>0.344335</td>\n",
       "      <td>0.792989</td>\n",
       "      <td>52</td>\n",
       "    </tr>\n",
       "  </tbody>\n",
       "</table>\n",
       "</div>"
      ],
      "text/plain": [
       "                mean       std    median       q05       q95  count\n",
       "row  col                                                           \n",
       "6536 10064  0.535843  0.085337  0.578245  0.386043  0.662060     84\n",
       "7131 9959   0.517509       NaN  0.517509  0.517509  0.517509      1\n",
       "7298 9785   0.498631  0.088076  0.502703  0.407313  0.632198     89\n",
       "7338 9805   0.467158  0.043992  0.460785  0.431581  0.517509     12\n",
       "6750 10219  0.516574  0.151766  0.470725  0.344335  0.792989     52"
      ]
     },
     "execution_count": 26,
     "metadata": {},
     "output_type": "execute_result"
    }
   ],
   "source": [
    "agg.head()"
   ]
  },
  {
   "cell_type": "code",
   "execution_count": 29,
   "metadata": {},
   "outputs": [],
   "source": [
    "agg5 = agg[agg[\"count\"] >= 5]\n",
    "agg10 = agg[agg[\"count\"] >= 10]\n",
    "agg20 = agg[agg[\"count\"] >= 20]\n",
    "agg50 = agg[agg[\"count\"] >= 50]"
   ]
  },
  {
   "cell_type": "code",
   "execution_count": 32,
   "metadata": {},
   "outputs": [],
   "source": [
    "from src.utils.df_utils import rasterize_points\n",
    "\n",
    "\n",
    "rast = rasterize_points(\n",
    "    merged_6933[[\"x\", \"y\", cols[0]]], data=cols[0], res=1000, crs=\"EPSG:6933\"\n",
    ")"
   ]
  },
  {
   "cell_type": "code",
   "execution_count": 54,
   "metadata": {},
   "outputs": [
    {
     "name": "stdout",
     "output_type": "stream",
     "text": [
      "5696032\n",
      "2519843\n",
      "1537416\n",
      "824647\n",
      "301354\n"
     ]
    }
   ],
   "source": [
    "from matplotlib.colors import LogNorm\n",
    "import matplotlib.pyplot as plt\n",
    "import cartopy.crs as ccrs\n",
    "\n",
    "# fig, axes = plt.subplots(\n",
    "#     5, 1, subplot_kw=dict(projection=ccrs.EqualEarth()), figsize=(22 * 5, 10 * 5)\n",
    "# )\n",
    "\n",
    "# axes = axes.ravel()\n",
    "\n",
    "min_counts = [1, 5, 10, 20, 50]\n",
    "\n",
    "for min_count in min_counts:\n",
    "    r = rast[\"count\"].where(rast[\"count\"] >= min_count)\n",
    "    print(r.notnull().sum().values)\n",
    "    # r.coarsen(\n",
    "    #     x=10, y=10, boundary=\"trim\"\n",
    "    # ).mean().plot(\n",
    "    #     ax=ax,\n",
    "    #     transform=ccrs.EqualEarth(),\n",
    "    #     norm=LogNorm(),\n",
    "    # )\n",
    "\n",
    "    # xr_to_raster(r, Path(\"scratch\", f\"X4_min_{min_count}.tif\"))\n",
    "    "
   ]
  },
  {
   "cell_type": "markdown",
   "metadata": {},
   "source": [
    "Rasterize the the points and calculate various gridding statistics (e.g. mean, median, std) along the way."
   ]
  },
  {
   "cell_type": "code",
   "execution_count": null,
   "metadata": {},
   "outputs": [
    {
     "name": "stderr",
     "output_type": "stream",
     "text": [
      "2024-10-29 12:17:48,653 - distributed.shuffle._scheduler_plugin - WARNING - Shuffle 7d2bf835c31571c142f21b5b77d50c7d initialized by task ('shuffle-transfer-7d2bf835c31571c142f21b5b77d50c7d', 19) executed on worker tcp://127.0.0.1:46017\n",
      "2024-10-29 12:18:05,406 - distributed.shuffle._scheduler_plugin - WARNING - Shuffle 7d2bf835c31571c142f21b5b77d50c7d deactivated due to stimulus 'task-finished-1730200685.2587514'\n",
      "2024-10-29 12:18:08,850 - distributed.shuffle._scheduler_plugin - WARNING - Shuffle 7d2bf835c31571c142f21b5b77d50c7d initialized by task ('shuffle-transfer-7d2bf835c31571c142f21b5b77d50c7d', 19) executed on worker tcp://127.0.0.1:36273\n",
      "2024-10-29 12:18:24,413 - distributed.shuffle._scheduler_plugin - WARNING - Shuffle 7d2bf835c31571c142f21b5b77d50c7d deactivated due to stimulus 'task-finished-1730200704.4123383'\n",
      "2024-10-29 12:18:28,841 - distributed.shuffle._scheduler_plugin - WARNING - Shuffle 7d2bf835c31571c142f21b5b77d50c7d initialized by task ('shuffle-transfer-7d2bf835c31571c142f21b5b77d50c7d', 19) executed on worker tcp://127.0.0.1:46815\n",
      "2024-10-29 12:18:43,990 - distributed.shuffle._scheduler_plugin - WARNING - Shuffle 7d2bf835c31571c142f21b5b77d50c7d deactivated due to stimulus 'task-finished-1730200723.978753'\n",
      "2024-10-29 12:18:49,029 - distributed.shuffle._scheduler_plugin - WARNING - Shuffle 7d2bf835c31571c142f21b5b77d50c7d initialized by task ('shuffle-transfer-7d2bf835c31571c142f21b5b77d50c7d', 19) executed on worker tcp://127.0.0.1:39957\n",
      "2024-10-29 12:19:06,455 - distributed.shuffle._scheduler_plugin - WARNING - Shuffle 7d2bf835c31571c142f21b5b77d50c7d deactivated due to stimulus 'task-finished-1730200746.4538608'\n",
      "2024-10-29 12:19:15,590 - distributed.shuffle._scheduler_plugin - WARNING - Shuffle 7d2bf835c31571c142f21b5b77d50c7d initialized by task ('shuffle-transfer-7d2bf835c31571c142f21b5b77d50c7d', 19) executed on worker tcp://127.0.0.1:38557\n",
      "2024-10-29 12:19:30,683 - distributed.shuffle._scheduler_plugin - WARNING - Shuffle 7d2bf835c31571c142f21b5b77d50c7d deactivated due to stimulus 'task-finished-1730200770.6817644'\n",
      "2024-10-29 12:19:41,420 - distributed.shuffle._scheduler_plugin - WARNING - Shuffle 7d2bf835c31571c142f21b5b77d50c7d initialized by task ('shuffle-transfer-7d2bf835c31571c142f21b5b77d50c7d', 19) executed on worker tcp://127.0.0.1:36273\n",
      "2024-10-29 12:19:56,661 - distributed.shuffle._scheduler_plugin - WARNING - Shuffle 7d2bf835c31571c142f21b5b77d50c7d deactivated due to stimulus 'task-finished-1730200796.65987'\n"
     ]
    }
   ],
   "source": [
    "from src.utils.df_utils import rasterize_points\n",
    "\n",
    "cols = [col for col in merged_6933.columns if col.startswith(\"X\")]\n",
    "raster = rasterize_points(\n",
    "    merged_6933.x, merged_6933.y, merged_6933[cols[0]], res=1000, crs=\"EPSG:6933\"\n",
    ")"
   ]
  },
  {
   "cell_type": "code",
   "execution_count": 14,
   "metadata": {},
   "outputs": [
    {
     "data": {
      "text/plain": [
       "([<matplotlib.patches.Wedge at 0x7f2194459b50>,\n",
       "  <matplotlib.patches.Wedge at 0x7f21944f25d0>],\n",
       " [Text(-1.0039901998501504, 0.44944819346044274, '1'),\n",
       "  Text(1.0039902208903377, -0.44944814646026865, '0')],\n",
       " [Text(-0.547631018100082, 0.24515356006933237, '86.6%'),\n",
       "  Text(0.5476310295765477, -0.24515353443287377, '13.4%')])"
      ]
     },
     "execution_count": 14,
     "metadata": {},
     "output_type": "execute_result"
    },
    {
     "data": {
      "image/png": "[encoded data removed]",
      "text/plain": [
       "<Figure size 640x480 with 1 Axes>"
      ]
     },
     "metadata": {},
     "output_type": "display_data"
    }
   ],
   "source": [
    "import matplotlib.pyplot as plt\n",
    "\n",
    "fig, ax = plt.subplots()\n",
    "\n",
    "ax.pie(\n",
    "    grid_data[\"count\"].where(grid_data[\"count\"] == 1, 0).value_counts(),\n",
    "    labels=[1, 0],\n",
    "    autopct=\"%1.1f%%\",\n",
    ")"
   ]
  },
  {
   "cell_type": "markdown",
   "metadata": {},
   "source": [
    "And finally let's fill a raster with the gridded data and save it to file.\n",
    "\n",
    "Note that in `grid_df_to_raster` we first generate a reference raster at the desired resolution and then match the `xarray.Dataset` we created from our gridded DataFrame to the reference raster. This is important, because, due to minor differences in floating point accuracy, the rasterized DataFrame's coordinates may be subtly different than those of our EO predictor data. If we first match all training data to a reference raster, however, we can ensure that all coordinates will match perfectly."
   ]
  },
  {
   "cell_type": "code",
   "execution_count": 1,
   "metadata": {},
   "outputs": [
    {
     "ename": "NameError",
     "evalue": "name 'grid_data' is not defined",
     "output_type": "error",
     "traceback": [
      "\u001b[0;31m---------------------------------------------------------------------------\u001b[0m",
      "\u001b[0;31mNameError\u001b[0m                                 Traceback (most recent call last)",
      "Cell \u001b[0;32mIn[1], line 5\u001b[0m\n\u001b[1;32m      1\u001b[0m \u001b[38;5;28;01mfrom\u001b[39;00m \u001b[38;5;21;01msrc\u001b[39;00m\u001b[38;5;21;01m.\u001b[39;00m\u001b[38;5;21;01mutils\u001b[39;00m\u001b[38;5;21;01m.\u001b[39;00m\u001b[38;5;21;01mdf_utils\u001b[39;00m \u001b[38;5;28;01mimport\u001b[39;00m grid_df_to_raster\n\u001b[1;32m      4\u001b[0m rast \u001b[38;5;241m=\u001b[39m grid_df_to_raster(\n\u001b[0;32m----> 5\u001b[0m     \u001b[43mgrid_data\u001b[49m, \u001b[38;5;241m1000\u001b[39m, crs\u001b[38;5;241m=\u001b[39m\u001b[38;5;124m\"\u001b[39m\u001b[38;5;124mEPSG:6933\u001b[39m\u001b[38;5;124m\"\u001b[39m, name\u001b[38;5;241m=\u001b[39mcols[\u001b[38;5;241m0\u001b[39m], pack\u001b[38;5;241m=\u001b[39m\u001b[38;5;28;01mFalse\u001b[39;00m\n\u001b[1;32m      6\u001b[0m )\n",
      "\u001b[0;31mNameError\u001b[0m: name 'grid_data' is not defined"
     ]
    }
   ],
   "source": [
    "from src.utils.df_utils import grid_df_to_raster\n",
    "\n",
    "\n",
    "rast = grid_df_to_raster(\n",
    "    grid_data, 1000, crs=\"EPSG:6933\", name=cols[0], pack=False\n",
    ")"
   ]
  },
  {
   "cell_type": "markdown",
   "metadata": {},
   "source": [
    "And lastly, let's shut down our Dask cluster."
   ]
  },
  {
   "cell_type": "code",
   "execution_count": 41,
   "metadata": {},
   "outputs": [],
   "source": [
    "client.close()\n",
    "cluster.close()"
   ]
  }
 ],
 "metadata": {
  "kernelspec": {
   "display_name": "traits-py311",
   "language": "python",
   "name": "python3"
  },
  "language_info": {
   "codemirror_mode": {
    "name": "ipython",
    "version": 3
   },
   "file_extension": ".py",
   "mimetype": "text/x-python",
   "name": "python",
   "nbconvert_exporter": "python",
   "pygments_lexer": "ipython3",
   "version": "3.11.9"
  }
 },
 "nbformat": 4,
 "nbformat_minor": 2
}
