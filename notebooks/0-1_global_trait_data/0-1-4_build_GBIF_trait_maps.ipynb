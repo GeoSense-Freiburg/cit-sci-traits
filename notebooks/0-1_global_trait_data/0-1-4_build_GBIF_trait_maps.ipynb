{
 "cells": [
  {
   "cell_type": "markdown",
   "metadata": {},
   "source": [
    "# 0.1.4: Build GBIF trait maps"
   ]
  },
  {
   "cell_type": "markdown",
   "metadata": {},
   "source": [
    "The final step before training models using Earth observation (EO) data is to link the TRY trait data with the GBIF species observations and then grid them. In this way, we can have matching trait rasters to be paired with our EO data."
   ]
  },
  {
   "cell_type": "markdown",
   "metadata": {},
   "source": [
    "## Imports and config"
   ]
  },
  {
   "cell_type": "code",
   "execution_count": 6,
   "metadata": {},
   "outputs": [
    {
     "name": "stdout",
     "output_type": "stream",
     "text": [
      "The autoreload extension is already loaded. To reload it, use:\n",
      "  %reload_ext autoreload\n"
     ]
    },
    {
     "name": "stderr",
     "output_type": "stream",
     "text": [
      "/home/dl1070/micromamba/envs/traits/lib/python3.12/site-packages/distributed/node.py:182: UserWarning: Port 39143 is already in use.\n",
      "Perhaps you already have a cluster running?\n",
      "Hosting the HTTP server on port 33039 instead\n",
      "  warnings.warn(\n"
     ]
    }
   ],
   "source": [
    "from pathlib import Path\n",
    "\n",
    "import dask.dataframe as dd\n",
    "from dask.distributed import Client, LocalCluster\n",
    "import dask_geopandas as dgpd\n",
    "import geopandas as gpd\n",
    "import numpy as np\n",
    "import pandas as pd\n",
    "from src.conf.conf import get_config\n",
    "from src.conf.environment import log\n",
    "\n",
    "%load_ext autoreload\n",
    "%autoreload 2\n",
    "\n",
    "# Display all columns when printing a pandas DataFrame\n",
    "pd.set_option(\"display.max_columns\", None)\n",
    "\n",
    "cfg = get_config()\n",
    "\n",
    "cluster = LocalCluster(dashboard_address=\":39143\")\n",
    "client = Client(cluster)"
   ]
  },
  {
   "cell_type": "markdown",
   "metadata": {},
   "source": [
    "## Load GBIF and filter by PFT"
   ]
  },
  {
   "cell_type": "markdown",
   "metadata": {},
   "source": [
    "Let's load the GBIF data and select only the \"Tree\" PFT."
   ]
  },
  {
   "cell_type": "code",
   "execution_count": 2,
   "metadata": {},
   "outputs": [],
   "source": [
    "def filter_pft(df: pd.DataFrame, pft_set: str, pft_col: str = \"pft\") -> pd.DataFrame:\n",
    "    pfts = pft_set.split(\"_\")\n",
    "    if not any(pft in [\"Shrub\", \"Tree\", \"Grass\"] for pft in pfts):\n",
    "        raise ValueError(f\"Invalid PFT designation: {pft_set}\")\n",
    "\n",
    "    return df[df[pft_col].isin(pfts)]\n",
    "\n",
    "\n",
    "gbif = (\n",
    "    dd.read_parquet(Path(cfg.gbif.interim.dir, cfg.gbif.interim.subsampled))\n",
    "    .pipe(filter_pft, \"Tree\")\n",
    "    .repartition(npartitions=60)\n",
    "    .sample(frac=0.01)\n",
    "    .set_index(\"speciesname\")\n",
    ")"
   ]
  },
  {
   "cell_type": "markdown",
   "metadata": {},
   "source": [
    "## Load TRY filtered mean trait data"
   ]
  },
  {
   "cell_type": "code",
   "execution_count": 3,
   "metadata": {},
   "outputs": [],
   "source": [
    "mn_traits = (\n",
    "    dd.read_parquet(Path(cfg.trydb.interim.dir, cfg.trydb.interim.filtered))\n",
    "    .repartition(npartitions=60)\n",
    "    .set_index(\"speciesname\")\n",
    ")"
   ]
  },
  {
   "cell_type": "markdown",
   "metadata": {},
   "source": [
    "## Link mean trait values with GBIF data"
   ]
  },
  {
   "cell_type": "code",
   "execution_count": 5,
   "metadata": {},
   "outputs": [],
   "source": [
    "merged = gbif.join(mn_traits, how=\"inner\").reset_index()"
   ]
  },
  {
   "cell_type": "code",
   "execution_count": 14,
   "metadata": {},
   "outputs": [
    {
     "name": "stdout",
     "output_type": "stream",
     "text": [
      "Pct matched species: 61.89%\n"
     ]
    }
   ],
   "source": [
    "# compute the number of unique indices\n",
    "print(\n",
    "    f\"Pct matched species: {merged.index.nunique().compute() / gbif.index.nunique():.2%}\"\n",
    ")"
   ]
  },
  {
   "cell_type": "markdown",
   "metadata": {},
   "source": [
    "## Rasterize merged trait values"
   ]
  },
  {
   "cell_type": "code",
   "execution_count": null,
   "metadata": {},
   "outputs": [],
   "source": [
    "def global_grid_data(df, long, lat, deg, variables):\n",
    "    \"\"\"\n",
    "    Source: https://sojwolf.github.io/iNaturalist_traits/Chapter_6_Compare_trait_maps_sPlot_iNat.html#grid-mean-trait-values-at-different-resolutions\n",
    "    \"\"\"\n",
    "    # create new dataframe to save the average value of each grid cell and variable\n",
    "    grouped_df = dd.from_pandas(pd.DataFrame(), npartitions=df.npartitions)\n",
    "\n",
    "    # convert degree into step size\n",
    "    step = int((360 / deg) + 1)\n",
    "\n",
    "    bins_x = np.linspace(-180, 180, step)\n",
    "    bins_y = np.linspace(-90, 90, int(((step - 1) / 2) + 1))\n",
    "\n",
    "    # group latitude and longitude coordinates into bins\n",
    "    # create new columns 'x_bin' and 'y_bin'\n",
    "    df[\"x_bin\"] = df.map_partitions(pd.cut, long, bins=bins_x)\n",
    "    df[\"y_bin\"] = df.map_partitions(pd.cut, lat, bins=bins_y)\n",
    "\n",
    "    # raster coordinates are in center of raster cell\n",
    "    df[\"x_bin\"] = df[\"x_bin\"].map(lambda x: ((x.left + x.right) / 2))\n",
    "    df[\"y_bin\"] = df[\"y_bin\"].map(lambda x: ((x.left + x.right) / 2))\n",
    "\n",
    "    grouped_df = df.drop_duplicates(subset=[\"x_bin\", \"y_bin\"]).persist()\n",
    "\n",
    "    for v in variables:\n",
    "\n",
    "        sub_df = df[[\"y_bin\", \"x_bin\", v]]\n",
    "        grouped_v = sub_df.groupby([\"x_bin\", \"y_bin\"])[v].mean().reset_index()\n",
    "\n",
    "        grouped_df = dd.merge(grouped_df, grouped_v, on=[\"x_bin\", \"y_bin\"], how=\"left\")\n",
    "\n",
    "    return grouped_df.compute()"
   ]
  },
  {
   "cell_type": "code",
   "execution_count": 7,
   "metadata": {},
   "outputs": [],
   "source": [
    "client.close()\n",
    "cluster.close()"
   ]
  }
 ],
 "metadata": {
  "kernelspec": {
   "display_name": "Python 3",
   "language": "python",
   "name": "python3"
  },
  "language_info": {
   "codemirror_mode": {
    "name": "ipython",
    "version": 3
   },
   "file_extension": ".py",
   "mimetype": "text/x-python",
   "name": "python",
   "nbconvert_exporter": "python",
   "pygments_lexer": "ipython3",
   "version": "3.12.2"
  }
 },
 "nbformat": 4,
 "nbformat_minor": 2
}
