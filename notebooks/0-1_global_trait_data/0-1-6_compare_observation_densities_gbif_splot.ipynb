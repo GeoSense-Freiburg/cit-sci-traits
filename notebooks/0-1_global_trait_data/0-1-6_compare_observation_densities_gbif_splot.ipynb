{
 "cells": [
  {
   "cell_type": "markdown",
   "metadata": {},
   "source": [
    "# 0.1.6: Comparing observation densities of GBIF and sPlot after matching with TRY\n"
   ]
  },
  {
   "cell_type": "markdown",
   "metadata": {},
   "source": [
    "## Imports and config\n"
   ]
  },
  {
   "cell_type": "code",
   "execution_count": 1,
   "metadata": {},
   "outputs": [],
   "source": [
    "from src.conf.conf import get_config\n",
    "\n",
    "cfg = get_config()"
   ]
  },
  {
   "cell_type": "markdown",
   "metadata": {},
   "source": [
    "To compare the observation densities after matching with TRY, we can simply explore the `count` layer of the GBIF and sPlot versions of a single trait.\n"
   ]
  },
  {
   "cell_type": "code",
   "execution_count": 81,
   "metadata": {},
   "outputs": [],
   "source": [
    "from src.utils.dataset_utils import get_trait_stat_number, read_trait_map\n",
    "\n",
    "TRAIT_ID = \"X14\"  # Leaf N (by mass)\n",
    "splot = read_trait_map(TRAIT_ID, \"splot\", band=get_trait_stat_number(\"count\", \"splot\"))\n",
    "gbif = read_trait_map(TRAIT_ID, \"gbif\", band=get_trait_stat_number(\"count\", \"gbif\"))"
   ]
  },
  {
   "cell_type": "markdown",
   "metadata": {},
   "source": [
    "Plot both sPlot and GBIF count layers side by side.\n"
   ]
  },
  {
   "cell_type": "code",
   "execution_count": 148,
   "metadata": {},
   "outputs": [],
   "source": [
    "REDUCE_FACTOR: int = 55\n",
    "splot_coarsened = splot.coarsen(x=REDUCE_FACTOR, y=REDUCE_FACTOR, boundary=\"trim\").sum()\n",
    "gbif_coarsened = gbif.coarsen(x=REDUCE_FACTOR, y=REDUCE_FACTOR, boundary=\"trim\").sum()"
   ]
  },
  {
   "cell_type": "code",
   "execution_count": null,
   "metadata": {},
   "outputs": [],
   "source": [
    "from matplotlib import gridspec\n",
    "from matplotlib.colors import LogNorm\n",
    "\n",
    "import matplotlib.pyplot as plt\n",
    "import cartopy.crs as ccrs\n",
    "import numpy as np\n",
    "import seaborn as sns\n",
    "\n",
    "from src.utils.plotting_utils import set_font\n",
    "\n",
    "SAVE = True\n",
    "\n",
    "set_font(\"FreeSans\")\n",
    "\n",
    "sns.set_theme(context=\"paper\", style=\"ticks\", font=\"FreeSans\", font_scale=1.5)\n",
    "fig = plt.figure(figsize=(20, 10), dpi=300)\n",
    "gs = gridspec.GridSpec(1, 2, figure=fig, width_ratios=[1, 1], wspace=0.05)\n",
    "\n",
    "ax0 = fig.add_subplot(gs[0, 0], projection=ccrs.EqualEarth())\n",
    "ax1 = fig.add_subplot(gs[0, 1], projection=ccrs.EqualEarth())\n",
    "\n",
    "for ax, data, title in zip(\n",
    "    [ax0, ax1], [gbif_coarsened, splot_coarsened], [\"CIT\", \"SCI\"]\n",
    "):\n",
    "    ax.set_title(title, fontsize=20, y=1.05)\n",
    "    ax.coastlines()\n",
    "    xx, yy = data.x, data.y\n",
    "    data.values[data.values == 0] = np.nan\n",
    "    im = ax.pcolormesh(\n",
    "        xx,\n",
    "        yy,\n",
    "        data.values,\n",
    "        shading=\"auto\",\n",
    "        rasterized=True,\n",
    "        # origin=\"upper\",\n",
    "        norm=LogNorm(vmin=1), #, vmax=splot_coarsened.max()),\n",
    "        # extent=data.extent,\n",
    "        cmap=\"cool\",\n",
    "        transform=ccrs.epsg(\"6933\"),\n",
    "    )\n",
    "    obs_type = \"observations\" if title == \"CIT\" else \"vegetation surveys\"\n",
    "    extend = \"max\" if title == \"CIT\" else None\n",
    "    cbar = plt.colorbar(\n",
    "        im,\n",
    "        ax=ax,\n",
    "        orientation=\"horizontal\",\n",
    "        shrink=0.7,\n",
    "        pad=0.03,\n",
    "        label=f\"Number of {obs_type}\",\n",
    "        # extend=extend\n",
    "    )\n",
    "\n",
    "if SAVE:\n",
    "    plt.savefig(\"results/figures/obs_density.png\", bbox_inches=\"tight\", dpi=300)"
   ]
  },
  {
   "cell_type": "code",
   "execution_count": null,
   "metadata": {},
   "outputs": [],
   "source": []
  }
 ],
 "metadata": {
  "kernelspec": {
   "display_name": "traits-py311",
   "language": "python",
   "name": "python3"
  },
  "language_info": {
   "codemirror_mode": {
    "name": "ipython",
    "version": 3
   },
   "file_extension": ".py",
   "mimetype": "text/x-python",
   "name": "python",
   "nbconvert_exporter": "python",
   "pygments_lexer": "ipython3",
   "version": "3.11.9"
  }
 },
 "nbformat": 4,
 "nbformat_minor": 2
}
