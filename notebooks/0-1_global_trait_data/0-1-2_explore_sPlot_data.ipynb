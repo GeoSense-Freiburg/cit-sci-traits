{
 "cells": [
  {
   "cell_type": "markdown",
   "metadata": {},
   "source": [
    "# 0.1.2: Explore sPlot Data\n"
   ]
  },
  {
   "cell_type": "markdown",
   "metadata": {},
   "source": [
    "## Imports and config\n"
   ]
  },
  {
   "cell_type": "code",
   "execution_count": 3,
   "metadata": {},
   "outputs": [
    {
     "name": "stdout",
     "output_type": "stream",
     "text": [
      "The autoreload extension is already loaded. To reload it, use:\n",
      "  %reload_ext autoreload\n"
     ]
    }
   ],
   "source": [
    "from pathlib import Path\n",
    "\n",
    "import pandas as pd\n",
    "\n",
    "from src.conf.conf import get_config\n",
    "from src.conf.environment import log\n",
    "\n",
    "cfg = get_config()\n",
    "\n",
    "%load_ext autoreload\n",
    "%autoreload 2\n",
    "\n",
    "splot_prep_dir = Path(cfg.interim_dir, cfg.splot.interim.dir, cfg.splot.interim.extracted)"
   ]
  },
  {
   "cell_type": "markdown",
   "metadata": {},
   "source": [
    "## Explore the extracted data\n"
   ]
  },
  {
   "cell_type": "code",
   "execution_count": 4,
   "metadata": {},
   "outputs": [],
   "source": [
    "header_df = pd.read_parquet(splot_prep_dir / \"header.parquet\")\n",
    "vegetation_df = pd.read_parquet(splot_prep_dir / \"vegetation.parquet\")\n",
    "trait_df = pd.read_parquet(splot_prep_dir / \"trait.parquet\")"
   ]
  },
  {
   "cell_type": "markdown",
   "metadata": {},
   "source": [
    "### `header`\n"
   ]
  },
  {
   "cell_type": "markdown",
   "metadata": {},
   "source": [
    "The `header` `DataFrame` contains plot-level metadata, the most important of which will likely be:\n",
    "\n",
    "- `PlotObservationID`\n",
    "- `Latitude` and `Longitude`\n"
   ]
  },
  {
   "cell_type": "code",
   "execution_count": 3,
   "metadata": {},
   "outputs": [
    {
     "data": {
      "text/html": [
       "<div>\n",
       "<style scoped>\n",
       "    .dataframe tbody tr th:only-of-type {\n",
       "        vertical-align: middle;\n",
       "    }\n",
       "\n",
       "    .dataframe tbody tr th {\n",
       "        vertical-align: top;\n",
       "    }\n",
       "\n",
       "    .dataframe thead th {\n",
       "        text-align: right;\n",
       "    }\n",
       "</style>\n",
       "<table border=\"1\" class=\"dataframe\">\n",
       "  <thead>\n",
       "    <tr style=\"text-align: right;\">\n",
       "      <th></th>\n",
       "      <th>PlotObservationID</th>\n",
       "      <th>Dataset</th>\n",
       "      <th>GIVD_NU</th>\n",
       "      <th>RESURVEY</th>\n",
       "      <th>RS_PLOT</th>\n",
       "      <th>RS_OBSERV</th>\n",
       "      <th>Nested_in</th>\n",
       "      <th>Longitude</th>\n",
       "      <th>Latitude</th>\n",
       "      <th>Location_uncertainty</th>\n",
       "      <th>...</th>\n",
       "      <th>MANIPTYP</th>\n",
       "      <th>Original_field_number</th>\n",
       "      <th>Original_number_database</th>\n",
       "      <th>Original_table</th>\n",
       "      <th>Original_number_table</th>\n",
       "      <th>Biblioreference</th>\n",
       "      <th>Author</th>\n",
       "      <th>Project</th>\n",
       "      <th>Publication_date</th>\n",
       "      <th>Remarks</th>\n",
       "    </tr>\n",
       "  </thead>\n",
       "  <tbody>\n",
       "    <tr>\n",
       "      <th>1</th>\n",
       "      <td>1</td>\n",
       "      <td>Aava</td>\n",
       "      <td>NA-US-014</td>\n",
       "      <td>False</td>\n",
       "      <td>NaN</td>\n",
       "      <td>NaN</td>\n",
       "      <td>&lt;NA&gt;</td>\n",
       "      <td>-149.593200</td>\n",
       "      <td>68.624900</td>\n",
       "      <td>-12.5</td>\n",
       "      <td>...</td>\n",
       "      <td>&lt;NA&gt;</td>\n",
       "      <td>SWT-1</td>\n",
       "      <td>&lt;NA&gt;</td>\n",
       "      <td>6</td>\n",
       "      <td>SWT-1</td>\n",
       "      <td>&lt;NA&gt;</td>\n",
       "      <td>Donald \"Skip\" A. Walker</td>\n",
       "      <td>&lt;NA&gt;</td>\n",
       "      <td>NaN</td>\n",
       "      <td>Moist Carpod, Salcha, Potfru sedge, forb tundr...</td>\n",
       "    </tr>\n",
       "    <tr>\n",
       "      <th>2</th>\n",
       "      <td>2</td>\n",
       "      <td>Aava</td>\n",
       "      <td>NA-US-014</td>\n",
       "      <td>False</td>\n",
       "      <td>NaN</td>\n",
       "      <td>NaN</td>\n",
       "      <td>&lt;NA&gt;</td>\n",
       "      <td>-149.591996</td>\n",
       "      <td>68.625311</td>\n",
       "      <td>-12.5</td>\n",
       "      <td>...</td>\n",
       "      <td>&lt;NA&gt;</td>\n",
       "      <td>SWT-2</td>\n",
       "      <td>&lt;NA&gt;</td>\n",
       "      <td>6</td>\n",
       "      <td>SWT-2</td>\n",
       "      <td>&lt;NA&gt;</td>\n",
       "      <td>Donald \"Skip\" A. Walker</td>\n",
       "      <td>&lt;NA&gt;</td>\n",
       "      <td>NaN</td>\n",
       "      <td>Moist Salala, Calcan, Astsib tall shrubland, T...</td>\n",
       "    </tr>\n",
       "    <tr>\n",
       "      <th>3</th>\n",
       "      <td>3</td>\n",
       "      <td>Aava</td>\n",
       "      <td>NA-US-014</td>\n",
       "      <td>False</td>\n",
       "      <td>NaN</td>\n",
       "      <td>NaN</td>\n",
       "      <td>&lt;NA&gt;</td>\n",
       "      <td>-149.595261</td>\n",
       "      <td>68.624417</td>\n",
       "      <td>-12.5</td>\n",
       "      <td>...</td>\n",
       "      <td>&lt;NA&gt;</td>\n",
       "      <td>SWT-3</td>\n",
       "      <td>&lt;NA&gt;</td>\n",
       "      <td>6</td>\n",
       "      <td>SWT-3</td>\n",
       "      <td>&lt;NA&gt;</td>\n",
       "      <td>Donald \"Skip\" A. Walker</td>\n",
       "      <td>&lt;NA&gt;</td>\n",
       "      <td>NaN</td>\n",
       "      <td>Dry Betnan, Leddec, Claarb, dwarf-shrub, liche...</td>\n",
       "    </tr>\n",
       "    <tr>\n",
       "      <th>4</th>\n",
       "      <td>4</td>\n",
       "      <td>Aava</td>\n",
       "      <td>NA-US-014</td>\n",
       "      <td>False</td>\n",
       "      <td>NaN</td>\n",
       "      <td>NaN</td>\n",
       "      <td>&lt;NA&gt;</td>\n",
       "      <td>-149.597946</td>\n",
       "      <td>68.624690</td>\n",
       "      <td>-12.5</td>\n",
       "      <td>...</td>\n",
       "      <td>&lt;NA&gt;</td>\n",
       "      <td>SWT-4</td>\n",
       "      <td>&lt;NA&gt;</td>\n",
       "      <td>6</td>\n",
       "      <td>SWT-4</td>\n",
       "      <td>&lt;NA&gt;</td>\n",
       "      <td>Donald \"Skip\" A. Walker</td>\n",
       "      <td>&lt;NA&gt;</td>\n",
       "      <td>NaN</td>\n",
       "      <td>Unknown cyanobacteria = in orig. Nostoc commun...</td>\n",
       "    </tr>\n",
       "    <tr>\n",
       "      <th>5</th>\n",
       "      <td>5</td>\n",
       "      <td>Aava</td>\n",
       "      <td>NA-US-014</td>\n",
       "      <td>False</td>\n",
       "      <td>NaN</td>\n",
       "      <td>NaN</td>\n",
       "      <td>&lt;NA&gt;</td>\n",
       "      <td>-149.595704</td>\n",
       "      <td>68.623723</td>\n",
       "      <td>-12.5</td>\n",
       "      <td>...</td>\n",
       "      <td>&lt;NA&gt;</td>\n",
       "      <td>SWT-5</td>\n",
       "      <td>&lt;NA&gt;</td>\n",
       "      <td>6</td>\n",
       "      <td>SWT-5</td>\n",
       "      <td>&lt;NA&gt;</td>\n",
       "      <td>Donald \"Skip\" A. Walker</td>\n",
       "      <td>&lt;NA&gt;</td>\n",
       "      <td>NaN</td>\n",
       "      <td>Dry Arcalp, Hiealp, dwarf-shrub, lichen tundra...</td>\n",
       "    </tr>\n",
       "  </tbody>\n",
       "</table>\n",
       "<p>5 rows × 75 columns</p>\n",
       "</div>"
      ],
      "text/plain": [
       "  PlotObservationID Dataset    GIVD_NU  RESURVEY RS_PLOT RS_OBSERV Nested_in  \\\n",
       "1                 1    Aava  NA-US-014     False     NaN       NaN      <NA>   \n",
       "2                 2    Aava  NA-US-014     False     NaN       NaN      <NA>   \n",
       "3                 3    Aava  NA-US-014     False     NaN       NaN      <NA>   \n",
       "4                 4    Aava  NA-US-014     False     NaN       NaN      <NA>   \n",
       "5                 5    Aava  NA-US-014     False     NaN       NaN      <NA>   \n",
       "\n",
       "    Longitude   Latitude  Location_uncertainty  ... MANIPTYP  \\\n",
       "1 -149.593200  68.624900                 -12.5  ...     <NA>   \n",
       "2 -149.591996  68.625311                 -12.5  ...     <NA>   \n",
       "3 -149.595261  68.624417                 -12.5  ...     <NA>   \n",
       "4 -149.597946  68.624690                 -12.5  ...     <NA>   \n",
       "5 -149.595704  68.623723                 -12.5  ...     <NA>   \n",
       "\n",
       "  Original_field_number Original_number_database Original_table  \\\n",
       "1                 SWT-1                     <NA>              6   \n",
       "2                 SWT-2                     <NA>              6   \n",
       "3                 SWT-3                     <NA>              6   \n",
       "4                 SWT-4                     <NA>              6   \n",
       "5                 SWT-5                     <NA>              6   \n",
       "\n",
       "  Original_number_table Biblioreference                   Author Project  \\\n",
       "1                 SWT-1            <NA>  Donald \"Skip\" A. Walker    <NA>   \n",
       "2                 SWT-2            <NA>  Donald \"Skip\" A. Walker    <NA>   \n",
       "3                 SWT-3            <NA>  Donald \"Skip\" A. Walker    <NA>   \n",
       "4                 SWT-4            <NA>  Donald \"Skip\" A. Walker    <NA>   \n",
       "5                 SWT-5            <NA>  Donald \"Skip\" A. Walker    <NA>   \n",
       "\n",
       "  Publication_date                                            Remarks  \n",
       "1              NaN  Moist Carpod, Salcha, Potfru sedge, forb tundr...  \n",
       "2              NaN  Moist Salala, Calcan, Astsib tall shrubland, T...  \n",
       "3              NaN  Dry Betnan, Leddec, Claarb, dwarf-shrub, liche...  \n",
       "4              NaN  Unknown cyanobacteria = in orig. Nostoc commun...  \n",
       "5              NaN  Dry Arcalp, Hiealp, dwarf-shrub, lichen tundra...  \n",
       "\n",
       "[5 rows x 75 columns]"
      ]
     },
     "execution_count": 3,
     "metadata": {},
     "output_type": "execute_result"
    }
   ],
   "source": [
    "header_df.head()"
   ]
  },
  {
   "cell_type": "markdown",
   "metadata": {},
   "source": [
    "Each row corresponds to a unique plot, so we can get a count of the total plots by simply looking at the shape.\n"
   ]
  },
  {
   "cell_type": "code",
   "execution_count": 4,
   "metadata": {},
   "outputs": [
    {
     "name": "stdout",
     "output_type": "stream",
     "text": [
      "Total plot count: 2,536,019\n"
     ]
    }
   ],
   "source": [
    "print(f\"Total plot count: {len(header_df):,}\")"
   ]
  },
  {
   "cell_type": "markdown",
   "metadata": {},
   "source": [
    "#### Check for duplicate plots\n"
   ]
  },
  {
   "cell_type": "markdown",
   "metadata": {},
   "source": [
    "Some plots have been surveyed across multiple years, or have grown (or shrunk) in size. Others may have simply been included in multiple data sources. We want to avoid counting duplicate plots when it comes time to grid the data so that we don't inflate CWM values within grid cells.\n",
    "\n",
    "Let's see if we have any duplicate plot locations.\n"
   ]
  },
  {
   "cell_type": "code",
   "execution_count": 5,
   "metadata": {},
   "outputs": [
    {
     "name": "stdout",
     "output_type": "stream",
     "text": [
      "Number of duplicated lat/lon combinations: 1,543,424 (60.86%)\n"
     ]
    }
   ],
   "source": [
    "duped_locs = header_df.duplicated(subset=[\"Longitude\", \"Latitude\"], keep=False)\n",
    "print(\n",
    "    f\"Number of duplicated lat/lon combinations: \"\n",
    "    f\"{duped_locs.sum():,} ({duped_locs.mean():.2%})\"\n",
    ")"
   ]
  },
  {
   "cell_type": "markdown",
   "metadata": {},
   "source": [
    "That's a lot of duplicate locations. Let's go ahead and separate out the non-duplicate plots and write them to disk.\n"
   ]
  },
  {
   "cell_type": "markdown",
   "metadata": {},
   "source": [
    "Almost 61% of the plots have duplicate coordinates!\n",
    "\n",
    "And what about resurveys?\n"
   ]
  },
  {
   "cell_type": "code",
   "execution_count": 6,
   "metadata": {},
   "outputs": [
    {
     "name": "stdout",
     "output_type": "stream",
     "text": [
      "Number of duplicated locations where at least one plot has resurvey as True: 55,541 (21.25%)\n"
     ]
    }
   ],
   "source": [
    "duped_plots = header_df[duped_locs].groupby(\n",
    "    [\"Longitude\", \"Latitude\"]\n",
    ")\n",
    "\n",
    "resurveyed_locs = duped_plots[\"RESURVEY\"].any().sum()\n",
    "\n",
    "print(\n",
    "    f\"Number of duplicated locations where at least one plot has resurvey as True: \"\n",
    "    f\"{resurveyed_locs:,} ({resurveyed_locs / duped_plots.ngroups:.2%})\"\n",
    ")"
   ]
  },
  {
   "cell_type": "markdown",
   "metadata": {},
   "source": [
    "Let's see if they are simply observations from different dates, or if they are duplicate collections from different data sources...\n"
   ]
  },
  {
   "cell_type": "code",
   "execution_count": 7,
   "metadata": {},
   "outputs": [
    {
     "name": "stdout",
     "output_type": "stream",
     "text": [
      "Number of duplicated lat/lon combinations that have the same date across all duplicates:\n",
      "101,702 (38.92%)\n"
     ]
    }
   ],
   "source": [
    "unique_date_counts = duped_plots[\"Date\"].nunique()\n",
    "print(\n",
    "    \"Number of duplicated lat/lon combinations that have the same date across all duplicates:\\n\"\n",
    "    f\"{(unique_date_counts == 1).sum():,} ({(unique_date_counts == 1).mean():.2%})\"\n",
    ")"
   ]
  },
  {
   "cell_type": "code",
   "execution_count": 8,
   "metadata": {},
   "outputs": [
    {
     "name": "stdout",
     "output_type": "stream",
     "text": [
      "Number of duplicated locations and dates where at least one plot has resurvey as True: 16,645 (1.47%)\n"
     ]
    }
   ],
   "source": [
    "# Create a boolean mask for the duplicated rows\n",
    "duped_locs_dates = header_df.duplicated(subset=[\"Longitude\", \"Latitude\", \"Date\"], keep=False)\n",
    "\n",
    "# Filter the DataFrame using the mask\n",
    "duped_plots_and_dates = header_df[duped_locs_dates]\n",
    "\n",
    "# Group by \"Longitude\", \"Latitude\", and \"Date\" and check if \"RESURVEY\" is True in any of the rows in each group\n",
    "resurveyed_locs_and_dates = duped_plots_and_dates.groupby([\"Longitude\", \"Latitude\", \"Date\"])[\"RESURVEY\"].any().sum()\n",
    "\n",
    "print(\n",
    "    f\"Number of duplicated locations and dates where at least one plot has resurvey as True: \"\n",
    "    f\"{resurveyed_locs_and_dates:,} ({resurveyed_locs_and_dates / len(duped_plots_and_dates):.2%})\"\n",
    ")"
   ]
  },
  {
   "cell_type": "markdown",
   "metadata": {},
   "source": [
    "~40% of the plots with identical lat/lon combinations as others also contain the same date of entry, but only ~1.5% of those are marked as resurveys. What should we do with this data? We can't be sure that plots with duplicate locations are actually the same plots, as this often occurs when researchers input only the location information of the nearest town or known point, so without more information, we can't know for sure which resurveys are of which plots."
   ]
  },
  {
   "cell_type": "markdown",
   "metadata": {},
   "source": [
    "#### Filtering plan\n",
    "\n",
    "1. Calculate CWM trait values for each plot, including those with duplicate locations\n",
    "2. For duplicate locations, take mean of traits\n",
    "\n",
    "If we assume that truly separate plots can have the same location information due to collection practices, then we cannot discard plots with duplicate locations, even if their collection dates differ, or if some are indicated as resurveys.\n",
    "\n",
    "This could theoretically be done with more sophisticated filtering, where one compares similarity in species abundances for duplicated plot locations across time, but that may also require site-specific knowledge as well as stronger domain-specific knowledge when it comes to interpreting the many descriptors for each plot.\n",
    "\n",
    "**Ultimately, since we can't know if plots with the same location are truly duplicates, and therefore we want to avoid completely discarding potentially useful trait information, we can take a simple average of all community-weighted mean trait values across plots with the same location.**\n"
   ]
  },
  {
   "cell_type": "markdown",
   "metadata": {},
   "source": [
    "#### Understanding PFT information\n"
   ]
  },
  {
   "cell_type": "markdown",
   "metadata": {},
   "source": [
    "There are a number of different habitat/ecosystem/PFT-related indicators in sPlot, and they range from very specific to very broad (vegetation type -> Naturalness land type).\n",
    "\n",
    "However, grouping plots by PFT is useful for PFT-specific modeling tasks, such as grassland species vegetation models, and so enabling at least a coarse grouping of plots by PFT will beneficial down the road.\n",
    "\n",
    "Let's start by investigating some of the information available.\n"
   ]
  },
  {
   "cell_type": "code",
   "execution_count": 9,
   "metadata": {},
   "outputs": [
    {
     "name": "stdout",
     "output_type": "stream",
     "text": [
      "Unique vegetation types: 51\n",
      "\n",
      "Top 10 vegetation types:\n",
      "FL_name\n",
      "Pasture & Hay Field Crop                                       226431\n",
      "Temperate Grassland & Shrubland                                171431\n",
      "Cool Temperate Forest & Woodland                               170880\n",
      "Temperate to Polar Bog & Fen                                   107632\n",
      "Temperate to Polar Freshwater Marsh, Wet Meadow & Shrubland     77169\n",
      "Temperate to Polar Scrub & Herb Coastal Vegetation              74302\n",
      "Boreal Forest & Woodland                                        72836\n",
      "Mediterranean Scrub & Grassland                                 47722\n",
      "Temperate & Boreal Forest & Woodland                            45384\n",
      "Temperate to Polar Freshwater Aquatic Vegetation                41368\n",
      "Name: count, dtype: int64\n"
     ]
    }
   ],
   "source": [
    "print(f\"Unique vegetation types: {header_df.FL_name.nunique()}\")\n",
    "print(f\"\\nTop 10 vegetation types:\\n{header_df.FL_name.value_counts().head(10)}\")"
   ]
  },
  {
   "cell_type": "markdown",
   "metadata": {},
   "source": [
    "We can also explore the `Grassland`, `Shrubland`, and `Forest` columns to see if enough plots contain a designation.\n"
   ]
  },
  {
   "cell_type": "code",
   "execution_count": 13,
   "metadata": {},
   "outputs": [
    {
     "name": "stdout",
     "output_type": "stream",
     "text": [
      "Number of Grassland plots: 631,387 (24.9%)\n",
      "Number of Shrubland plots: 92,928 (3.7%)\n",
      "Number of Forest plots: 547,755 (21.6%)\n"
     ]
    }
   ],
   "source": [
    "# Calculate the # of records where Grassland == True\n",
    "grass_true = header_df[header_df[\"Grassland\"] == \"True\"].shape[0]\n",
    "shrub_true = header_df[header_df[\"Shrubland\"] == \"True\"].shape[0]\n",
    "forest_true = header_df[header_df[\"Forest\"] == \"True\"].shape[0]\n",
    "\n",
    "print(\n",
    "    \"Number of Grassland plots: \"\n",
    "    f\"{grass_true:,} ({(grass_true / header_df.shape[0]) * 100:.1f}%)\"\n",
    ")\n",
    "print(\n",
    "    \"Number of Shrubland plots: \"\n",
    "    f\"{shrub_true:,} ({(shrub_true / header_df.shape[0]) * 100:.1f}%)\"\n",
    ")\n",
    "print(\n",
    "    \"Number of Forest plots: \"\n",
    "    f\"{forest_true:,} ({(forest_true / header_df.shape[0]) * 100:.1f}%)\"\n",
    ")"
   ]
  },
  {
   "cell_type": "markdown",
   "metadata": {},
   "source": [
    "Unfortunately, it seems like the general PFT information for Grass/Tree/Shrub species is pretty lacking, only ~50% of plots have this designation.\n",
    "\n",
    "**To overcome this, we can instead extract species-specific PFT information from the TRY database, link it to the species that are present in each plot, and then determine a plot-level classification based on majority-counts. E.g., the most abundant PFT determines the plot-level PFT. We will do this in the next notebook.**\n"
   ]
  },
  {
   "cell_type": "markdown",
   "metadata": {},
   "source": [
    "### `vegetation`\n"
   ]
  },
  {
   "cell_type": "markdown",
   "metadata": {},
   "source": [
    "The `vegetation` layer gives us information on species abundances per plot.\n"
   ]
  },
  {
   "cell_type": "code",
   "execution_count": 14,
   "metadata": {},
   "outputs": [
    {
     "data": {
      "text/html": [
       "<div>\n",
       "<style scoped>\n",
       "    .dataframe tbody tr th:only-of-type {\n",
       "        vertical-align: middle;\n",
       "    }\n",
       "\n",
       "    .dataframe tbody tr th {\n",
       "        vertical-align: top;\n",
       "    }\n",
       "\n",
       "    .dataframe thead th {\n",
       "        text-align: right;\n",
       "    }\n",
       "</style>\n",
       "<table border=\"1\" class=\"dataframe\">\n",
       "  <thead>\n",
       "    <tr style=\"text-align: right;\">\n",
       "      <th></th>\n",
       "      <th>PlotObservationID</th>\n",
       "      <th>Species</th>\n",
       "      <th>Abundance</th>\n",
       "      <th>Abundance_scale</th>\n",
       "      <th>Rel_Abund_Layer_Scale</th>\n",
       "      <th>Rel_Abund_Layer</th>\n",
       "      <th>Rel_Abund_Plot</th>\n",
       "      <th>Layer</th>\n",
       "      <th>Original_name</th>\n",
       "    </tr>\n",
       "  </thead>\n",
       "  <tbody>\n",
       "    <tr>\n",
       "      <th>1</th>\n",
       "      <td>631057</td>\n",
       "      <td>Agrostis capillaris</td>\n",
       "      <td>13.0</td>\n",
       "      <td>Percentage Cover</td>\n",
       "      <td>0.105691</td>\n",
       "      <td>0.105691</td>\n",
       "      <td>0.052846</td>\n",
       "      <td>6.0</td>\n",
       "      <td>Agrostis capillaris</td>\n",
       "    </tr>\n",
       "    <tr>\n",
       "      <th>2</th>\n",
       "      <td>631057</td>\n",
       "      <td>Anthoxanthum odoratum</td>\n",
       "      <td>2.0</td>\n",
       "      <td>Percentage Cover</td>\n",
       "      <td>0.016260</td>\n",
       "      <td>0.016260</td>\n",
       "      <td>0.008130</td>\n",
       "      <td>6.0</td>\n",
       "      <td>Anthoxanthum odoratum</td>\n",
       "    </tr>\n",
       "    <tr>\n",
       "      <th>3</th>\n",
       "      <td>631057</td>\n",
       "      <td>Carex arenaria</td>\n",
       "      <td>3.0</td>\n",
       "      <td>Percentage Cover</td>\n",
       "      <td>0.024390</td>\n",
       "      <td>0.024390</td>\n",
       "      <td>0.012195</td>\n",
       "      <td>6.0</td>\n",
       "      <td>Carex arenaria</td>\n",
       "    </tr>\n",
       "    <tr>\n",
       "      <th>4</th>\n",
       "      <td>631057</td>\n",
       "      <td>Carex nigra</td>\n",
       "      <td>2.0</td>\n",
       "      <td>Percentage Cover</td>\n",
       "      <td>0.016260</td>\n",
       "      <td>0.016260</td>\n",
       "      <td>0.008130</td>\n",
       "      <td>6.0</td>\n",
       "      <td>Carex nigra</td>\n",
       "    </tr>\n",
       "    <tr>\n",
       "      <th>5</th>\n",
       "      <td>631057</td>\n",
       "      <td>Carex leporina</td>\n",
       "      <td>2.0</td>\n",
       "      <td>Percentage Cover</td>\n",
       "      <td>0.016260</td>\n",
       "      <td>0.016260</td>\n",
       "      <td>0.008130</td>\n",
       "      <td>6.0</td>\n",
       "      <td>Carex ovalis</td>\n",
       "    </tr>\n",
       "  </tbody>\n",
       "</table>\n",
       "</div>"
      ],
      "text/plain": [
       "  PlotObservationID                Species  Abundance   Abundance_scale  \\\n",
       "1            631057    Agrostis capillaris       13.0  Percentage Cover   \n",
       "2            631057  Anthoxanthum odoratum        2.0  Percentage Cover   \n",
       "3            631057         Carex arenaria        3.0  Percentage Cover   \n",
       "4            631057            Carex nigra        2.0  Percentage Cover   \n",
       "5            631057         Carex leporina        2.0  Percentage Cover   \n",
       "\n",
       "   Rel_Abund_Layer_Scale  Rel_Abund_Layer  Rel_Abund_Plot  Layer  \\\n",
       "1               0.105691         0.105691        0.052846    6.0   \n",
       "2               0.016260         0.016260        0.008130    6.0   \n",
       "3               0.024390         0.024390        0.012195    6.0   \n",
       "4               0.016260         0.016260        0.008130    6.0   \n",
       "5               0.016260         0.016260        0.008130    6.0   \n",
       "\n",
       "           Original_name  \n",
       "1    Agrostis capillaris  \n",
       "2  Anthoxanthum odoratum  \n",
       "3         Carex arenaria  \n",
       "4            Carex nigra  \n",
       "5           Carex ovalis  "
      ]
     },
     "execution_count": 14,
     "metadata": {},
     "output_type": "execute_result"
    }
   ],
   "source": [
    "vegetation_df.head()"
   ]
  },
  {
   "cell_type": "code",
   "execution_count": 3,
   "metadata": {},
   "outputs": [
    {
     "data": {
      "text/plain": [
       "116086"
      ]
     },
     "execution_count": 3,
     "metadata": {},
     "output_type": "execute_result"
    }
   ],
   "source": [
    "vegetation_df.Species.nunique()"
   ]
  },
  {
   "cell_type": "markdown",
   "metadata": {},
   "source": [
    "### `trait`\n"
   ]
  },
  {
   "cell_type": "markdown",
   "metadata": {},
   "source": [
    "`trait` consist simply of species taxonomic information, the number of observations of that species, and the corresponding mean trait values and their associated standard deviation.\n"
   ]
  },
  {
   "cell_type": "code",
   "execution_count": 16,
   "metadata": {},
   "outputs": [
    {
     "data": {
      "text/html": [
       "<div>\n",
       "<style scoped>\n",
       "    .dataframe tbody tr th:only-of-type {\n",
       "        vertical-align: middle;\n",
       "    }\n",
       "\n",
       "    .dataframe tbody tr th {\n",
       "        vertical-align: top;\n",
       "    }\n",
       "\n",
       "    .dataframe thead th {\n",
       "        text-align: right;\n",
       "    }\n",
       "</style>\n",
       "<table border=\"1\" class=\"dataframe\">\n",
       "  <thead>\n",
       "    <tr style=\"text-align: right;\">\n",
       "      <th></th>\n",
       "      <th>Taxon_name</th>\n",
       "      <th>Rank_correct</th>\n",
       "      <th>n</th>\n",
       "      <th>RootingDepth_mean</th>\n",
       "      <th>LeafC.perdrymass_mean</th>\n",
       "      <th>LeafN_mean</th>\n",
       "      <th>LeafP_mean</th>\n",
       "      <th>StemDiam_mean</th>\n",
       "      <th>SeedMass_mean</th>\n",
       "      <th>Seed.length_mean</th>\n",
       "      <th>...</th>\n",
       "      <th>SpecificRootLength_sd</th>\n",
       "      <th>PlantHeight.veg_sd</th>\n",
       "      <th>PlantHeight.generative_sd</th>\n",
       "      <th>LeafArea.leaf.undef_sd</th>\n",
       "      <th>LeafArea.leaflet.undef_sd</th>\n",
       "      <th>LeafArea.undef.undef_sd</th>\n",
       "      <th>SLA.undef_sd</th>\n",
       "      <th>LeafWaterCont_sd</th>\n",
       "      <th>WoodRay.millimetre_sd</th>\n",
       "      <th>Seed.num.disp.unit_sd</th>\n",
       "    </tr>\n",
       "  </thead>\n",
       "  <tbody>\n",
       "    <tr>\n",
       "      <th>1</th>\n",
       "      <td>Aa</td>\n",
       "      <td>genus</td>\n",
       "      <td>2</td>\n",
       "      <td>9.489297</td>\n",
       "      <td>26.372218</td>\n",
       "      <td>2.792154</td>\n",
       "      <td>21.449200</td>\n",
       "      <td>6.793213</td>\n",
       "      <td>6.298046</td>\n",
       "      <td>4.738482</td>\n",
       "      <td>...</td>\n",
       "      <td>NaN</td>\n",
       "      <td>NaN</td>\n",
       "      <td>NaN</td>\n",
       "      <td>NaN</td>\n",
       "      <td>NaN</td>\n",
       "      <td>NaN</td>\n",
       "      <td>NaN</td>\n",
       "      <td>NaN</td>\n",
       "      <td>NaN</td>\n",
       "      <td>NaN</td>\n",
       "    </tr>\n",
       "    <tr>\n",
       "      <th>2</th>\n",
       "      <td>Abarema</td>\n",
       "      <td>genus</td>\n",
       "      <td>377</td>\n",
       "      <td>13.295832</td>\n",
       "      <td>29.447052</td>\n",
       "      <td>2.287095</td>\n",
       "      <td>18.234902</td>\n",
       "      <td>2.086137</td>\n",
       "      <td>2.245174</td>\n",
       "      <td>9.102780</td>\n",
       "      <td>...</td>\n",
       "      <td>1.373984</td>\n",
       "      <td>0.415483</td>\n",
       "      <td>1.303059</td>\n",
       "      <td>0.704345</td>\n",
       "      <td>2948.723670</td>\n",
       "      <td>0.074666</td>\n",
       "      <td>0.558692</td>\n",
       "      <td>4.015337</td>\n",
       "      <td>65.683368</td>\n",
       "      <td>1118.694474</td>\n",
       "    </tr>\n",
       "    <tr>\n",
       "      <th>3</th>\n",
       "      <td>Abatia</td>\n",
       "      <td>genus</td>\n",
       "      <td>10</td>\n",
       "      <td>9.209237</td>\n",
       "      <td>22.038997</td>\n",
       "      <td>2.603252</td>\n",
       "      <td>21.421231</td>\n",
       "      <td>3.259163</td>\n",
       "      <td>2.196404</td>\n",
       "      <td>NaN</td>\n",
       "      <td>...</td>\n",
       "      <td>0.293710</td>\n",
       "      <td>NaN</td>\n",
       "      <td>0.106011</td>\n",
       "      <td>NaN</td>\n",
       "      <td>142.228604</td>\n",
       "      <td>NaN</td>\n",
       "      <td>0.312916</td>\n",
       "      <td>NaN</td>\n",
       "      <td>39.558689</td>\n",
       "      <td>35.411934</td>\n",
       "    </tr>\n",
       "    <tr>\n",
       "      <th>4</th>\n",
       "      <td>Abelia</td>\n",
       "      <td>genus</td>\n",
       "      <td>20</td>\n",
       "      <td>17.399191</td>\n",
       "      <td>16.440139</td>\n",
       "      <td>1.000634</td>\n",
       "      <td>29.184835</td>\n",
       "      <td>4.317200</td>\n",
       "      <td>3.361173</td>\n",
       "      <td>21.805733</td>\n",
       "      <td>...</td>\n",
       "      <td>NaN</td>\n",
       "      <td>0.170535</td>\n",
       "      <td>0.509451</td>\n",
       "      <td>0.064139</td>\n",
       "      <td>499.664129</td>\n",
       "      <td>0.085995</td>\n",
       "      <td>0.048180</td>\n",
       "      <td>4.524915</td>\n",
       "      <td>9.652452</td>\n",
       "      <td>493.654690</td>\n",
       "    </tr>\n",
       "    <tr>\n",
       "      <th>5</th>\n",
       "      <td>Abeliophyllum</td>\n",
       "      <td>genus</td>\n",
       "      <td>6</td>\n",
       "      <td>NaN</td>\n",
       "      <td>NaN</td>\n",
       "      <td>NaN</td>\n",
       "      <td>NaN</td>\n",
       "      <td>NaN</td>\n",
       "      <td>2.778122</td>\n",
       "      <td>22.845118</td>\n",
       "      <td>...</td>\n",
       "      <td>NaN</td>\n",
       "      <td>NaN</td>\n",
       "      <td>NaN</td>\n",
       "      <td>NaN</td>\n",
       "      <td>NaN</td>\n",
       "      <td>0.037767</td>\n",
       "      <td>0.026579</td>\n",
       "      <td>NaN</td>\n",
       "      <td>24.272752</td>\n",
       "      <td>NaN</td>\n",
       "    </tr>\n",
       "  </tbody>\n",
       "</table>\n",
       "<p>5 rows × 73 columns</p>\n",
       "</div>"
      ],
      "text/plain": [
       "      Taxon_name Rank_correct    n  RootingDepth_mean  LeafC.perdrymass_mean  \\\n",
       "1             Aa        genus    2           9.489297              26.372218   \n",
       "2        Abarema        genus  377          13.295832              29.447052   \n",
       "3         Abatia        genus   10           9.209237              22.038997   \n",
       "4         Abelia        genus   20          17.399191              16.440139   \n",
       "5  Abeliophyllum        genus    6                NaN                    NaN   \n",
       "\n",
       "   LeafN_mean  LeafP_mean  StemDiam_mean  SeedMass_mean  Seed.length_mean  \\\n",
       "1    2.792154   21.449200       6.793213       6.298046          4.738482   \n",
       "2    2.287095   18.234902       2.086137       2.245174          9.102780   \n",
       "3    2.603252   21.421231       3.259163       2.196404               NaN   \n",
       "4    1.000634   29.184835       4.317200       3.361173         21.805733   \n",
       "5         NaN         NaN            NaN       2.778122         22.845118   \n",
       "\n",
       "   ...  SpecificRootLength_sd  PlantHeight.veg_sd  PlantHeight.generative_sd  \\\n",
       "1  ...                    NaN                 NaN                        NaN   \n",
       "2  ...               1.373984            0.415483                   1.303059   \n",
       "3  ...               0.293710                 NaN                   0.106011   \n",
       "4  ...                    NaN            0.170535                   0.509451   \n",
       "5  ...                    NaN                 NaN                        NaN   \n",
       "\n",
       "   LeafArea.leaf.undef_sd  LeafArea.leaflet.undef_sd  LeafArea.undef.undef_sd  \\\n",
       "1                     NaN                        NaN                      NaN   \n",
       "2                0.704345                2948.723670                 0.074666   \n",
       "3                     NaN                 142.228604                      NaN   \n",
       "4                0.064139                 499.664129                 0.085995   \n",
       "5                     NaN                        NaN                 0.037767   \n",
       "\n",
       "   SLA.undef_sd  LeafWaterCont_sd  WoodRay.millimetre_sd  \\\n",
       "1           NaN               NaN                    NaN   \n",
       "2      0.558692          4.015337              65.683368   \n",
       "3      0.312916               NaN              39.558689   \n",
       "4      0.048180          4.524915               9.652452   \n",
       "5      0.026579               NaN              24.272752   \n",
       "\n",
       "   Seed.num.disp.unit_sd  \n",
       "1                    NaN  \n",
       "2            1118.694474  \n",
       "3              35.411934  \n",
       "4             493.654690  \n",
       "5                    NaN  \n",
       "\n",
       "[5 rows x 73 columns]"
      ]
     },
     "execution_count": 16,
     "metadata": {},
     "output_type": "execute_result"
    }
   ],
   "source": [
    "trait_df.head()"
   ]
  },
  {
   "cell_type": "code",
   "execution_count": 17,
   "metadata": {},
   "outputs": [
    {
     "data": {
      "text/plain": [
       "Rank_correct\n",
       "species    74222\n",
       "genus       8669\n",
       "Name: count, dtype: Int64"
      ]
     },
     "execution_count": 17,
     "metadata": {},
     "output_type": "execute_result"
    }
   ],
   "source": [
    "trait_df.Rank_correct.value_counts()"
   ]
  },
  {
   "cell_type": "markdown",
   "metadata": {},
   "source": [
    "Around 10% of the data only has genus information. For those records we can take the median trait value across all recorded species in that genus.\n"
   ]
  },
  {
   "cell_type": "markdown",
   "metadata": {},
   "source": [
    "## Add PFT to species records"
   ]
  },
  {
   "cell_type": "markdown",
   "metadata": {},
   "source": [
    "Read the sPlot vegetation data and TRY PFT mapping."
   ]
  },
  {
   "cell_type": "code",
   "execution_count": null,
   "metadata": {},
   "outputs": [],
   "source": [
    "veg = pd.read_parquet(splot_prep_dir / \"vegetation.parquet\")\n",
    "pfts = pd.read_csv(Path(cfg.raw_dir) / cfg.trydb.raw.pfts, header=0, encoding=\"latin-1\")"
   ]
  },
  {
   "cell_type": "code",
   "execution_count": 4,
   "metadata": {},
   "outputs": [
    {
     "data": {
      "text/html": [
       "<div>\n",
       "<style scoped>\n",
       "    .dataframe tbody tr th:only-of-type {\n",
       "        vertical-align: middle;\n",
       "    }\n",
       "\n",
       "    .dataframe tbody tr th {\n",
       "        vertical-align: top;\n",
       "    }\n",
       "\n",
       "    .dataframe thead th {\n",
       "        text-align: right;\n",
       "    }\n",
       "</style>\n",
       "<table border=\"1\" class=\"dataframe\">\n",
       "  <thead>\n",
       "    <tr style=\"text-align: right;\">\n",
       "      <th></th>\n",
       "      <th>PlotObservationID</th>\n",
       "      <th>Species</th>\n",
       "      <th>Abundance</th>\n",
       "      <th>Abundance_scale</th>\n",
       "      <th>Rel_Abund_Layer_Scale</th>\n",
       "      <th>Rel_Abund_Layer</th>\n",
       "      <th>Rel_Abund_Plot</th>\n",
       "      <th>Layer</th>\n",
       "      <th>Original_name</th>\n",
       "    </tr>\n",
       "  </thead>\n",
       "  <tbody>\n",
       "    <tr>\n",
       "      <th>1</th>\n",
       "      <td>631057</td>\n",
       "      <td>Agrostis capillaris</td>\n",
       "      <td>13.0</td>\n",
       "      <td>Percentage Cover</td>\n",
       "      <td>0.105691</td>\n",
       "      <td>0.105691</td>\n",
       "      <td>0.052846</td>\n",
       "      <td>6.0</td>\n",
       "      <td>Agrostis capillaris</td>\n",
       "    </tr>\n",
       "    <tr>\n",
       "      <th>2</th>\n",
       "      <td>631057</td>\n",
       "      <td>Anthoxanthum odoratum</td>\n",
       "      <td>2.0</td>\n",
       "      <td>Percentage Cover</td>\n",
       "      <td>0.016260</td>\n",
       "      <td>0.016260</td>\n",
       "      <td>0.008130</td>\n",
       "      <td>6.0</td>\n",
       "      <td>Anthoxanthum odoratum</td>\n",
       "    </tr>\n",
       "    <tr>\n",
       "      <th>3</th>\n",
       "      <td>631057</td>\n",
       "      <td>Carex arenaria</td>\n",
       "      <td>3.0</td>\n",
       "      <td>Percentage Cover</td>\n",
       "      <td>0.024390</td>\n",
       "      <td>0.024390</td>\n",
       "      <td>0.012195</td>\n",
       "      <td>6.0</td>\n",
       "      <td>Carex arenaria</td>\n",
       "    </tr>\n",
       "    <tr>\n",
       "      <th>4</th>\n",
       "      <td>631057</td>\n",
       "      <td>Carex nigra</td>\n",
       "      <td>2.0</td>\n",
       "      <td>Percentage Cover</td>\n",
       "      <td>0.016260</td>\n",
       "      <td>0.016260</td>\n",
       "      <td>0.008130</td>\n",
       "      <td>6.0</td>\n",
       "      <td>Carex nigra</td>\n",
       "    </tr>\n",
       "    <tr>\n",
       "      <th>5</th>\n",
       "      <td>631057</td>\n",
       "      <td>Carex leporina</td>\n",
       "      <td>2.0</td>\n",
       "      <td>Percentage Cover</td>\n",
       "      <td>0.016260</td>\n",
       "      <td>0.016260</td>\n",
       "      <td>0.008130</td>\n",
       "      <td>6.0</td>\n",
       "      <td>Carex ovalis</td>\n",
       "    </tr>\n",
       "  </tbody>\n",
       "</table>\n",
       "</div>"
      ],
      "text/plain": [
       "  PlotObservationID                Species  Abundance   Abundance_scale  \\\n",
       "1            631057    Agrostis capillaris       13.0  Percentage Cover   \n",
       "2            631057  Anthoxanthum odoratum        2.0  Percentage Cover   \n",
       "3            631057         Carex arenaria        3.0  Percentage Cover   \n",
       "4            631057            Carex nigra        2.0  Percentage Cover   \n",
       "5            631057         Carex leporina        2.0  Percentage Cover   \n",
       "\n",
       "   Rel_Abund_Layer_Scale  Rel_Abund_Layer  Rel_Abund_Plot  Layer  \\\n",
       "1               0.105691         0.105691        0.052846    6.0   \n",
       "2               0.016260         0.016260        0.008130    6.0   \n",
       "3               0.024390         0.024390        0.012195    6.0   \n",
       "4               0.016260         0.016260        0.008130    6.0   \n",
       "5               0.016260         0.016260        0.008130    6.0   \n",
       "\n",
       "           Original_name  \n",
       "1    Agrostis capillaris  \n",
       "2  Anthoxanthum odoratum  \n",
       "3         Carex arenaria  \n",
       "4            Carex nigra  \n",
       "5           Carex ovalis  "
      ]
     },
     "execution_count": 4,
     "metadata": {},
     "output_type": "execute_result"
    }
   ],
   "source": [
    "veg.head()"
   ]
  },
  {
   "cell_type": "code",
   "execution_count": 5,
   "metadata": {},
   "outputs": [
    {
     "data": {
      "text/html": [
       "<div>\n",
       "<style scoped>\n",
       "    .dataframe tbody tr th:only-of-type {\n",
       "        vertical-align: middle;\n",
       "    }\n",
       "\n",
       "    .dataframe tbody tr th {\n",
       "        vertical-align: top;\n",
       "    }\n",
       "\n",
       "    .dataframe thead th {\n",
       "        text-align: right;\n",
       "    }\n",
       "</style>\n",
       "<table border=\"1\" class=\"dataframe\">\n",
       "  <thead>\n",
       "    <tr style=\"text-align: right;\">\n",
       "      <th></th>\n",
       "      <th>AccSpeciesID</th>\n",
       "      <th>AccSpeciesName</th>\n",
       "      <th>pft</th>\n",
       "    </tr>\n",
       "  </thead>\n",
       "  <tbody>\n",
       "    <tr>\n",
       "      <th>0</th>\n",
       "      <td>9228</td>\n",
       "      <td>Calamagrostis lapponica</td>\n",
       "      <td>Grass</td>\n",
       "    </tr>\n",
       "    <tr>\n",
       "      <th>1</th>\n",
       "      <td>10400</td>\n",
       "      <td>Carex capitata</td>\n",
       "      <td>Grass</td>\n",
       "    </tr>\n",
       "    <tr>\n",
       "      <th>2</th>\n",
       "      <td>10647</td>\n",
       "      <td>Carex rostrata</td>\n",
       "      <td>Grass</td>\n",
       "    </tr>\n",
       "    <tr>\n",
       "      <th>3</th>\n",
       "      <td>10654</td>\n",
       "      <td>Carex saxatilis</td>\n",
       "      <td>Grass</td>\n",
       "    </tr>\n",
       "    <tr>\n",
       "      <th>4</th>\n",
       "      <td>10701</td>\n",
       "      <td>Carex vaginata</td>\n",
       "      <td>Grass</td>\n",
       "    </tr>\n",
       "  </tbody>\n",
       "</table>\n",
       "</div>"
      ],
      "text/plain": [
       "   AccSpeciesID           AccSpeciesName    pft\n",
       "0          9228  Calamagrostis lapponica  Grass\n",
       "1         10400           Carex capitata  Grass\n",
       "2         10647           Carex rostrata  Grass\n",
       "3         10654          Carex saxatilis  Grass\n",
       "4         10701           Carex vaginata  Grass"
      ]
     },
     "execution_count": 5,
     "metadata": {},
     "output_type": "execute_result"
    }
   ],
   "source": [
    "pfts.head()"
   ]
  },
  {
   "cell_type": "markdown",
   "metadata": {},
   "source": [
    "Not all of the species in the sPlot or the PFT data are limited to two words, so let's truncate them first to improve the matching."
   ]
  },
  {
   "cell_type": "code",
   "execution_count": 16,
   "metadata": {},
   "outputs": [],
   "source": [
    "from src.utils.trait_utils import clean_species_name\n",
    "\n",
    "\n",
    "pfts = (\n",
    "    pfts.drop(columns=[\"AccSpeciesID\"])\n",
    "    .dropna(subset=[\"AccSpeciesName\"])\n",
    "    .pipe(\n",
    "        clean_species_name, \"AccSpeciesName\", \"speciesname\"\n",
    "    )\n",
    "    .drop(columns=[\"AccSpeciesName\"])\n",
    "    .dropna(subset=\"speciesname\")\n",
    "    .set_index(\"speciesname\")\n",
    ")\n",
    "\n",
    "veg = (\n",
    "    veg.drop(columns=[\"Layer\", \"Original_name\"])\n",
    "    .pipe(\n",
    "        clean_species_name, \"Species\", \"speciesname\"\n",
    "    )\n",
    "    .drop(columns=[\"Species\"])\n",
    "    .dropna(subset=[\"speciesname\"])\n",
    "    .set_index(\"speciesname\")\n",
    ")"
   ]
  },
  {
   "cell_type": "code",
   "execution_count": 14,
   "metadata": {},
   "outputs": [
    {
     "data": {
      "text/plain": [
       "3640"
      ]
     },
     "execution_count": 14,
     "metadata": {},
     "output_type": "execute_result"
    }
   ],
   "source": [
    "from src.utils.trait_utils import genus_species_caps, trim_species_name\n",
    "\n",
    "\n",
    "sp = trim_species_name(pfts.AccSpeciesName)\n",
    "\n",
    "sp.isna().sum()"
   ]
  },
  {
   "cell_type": "markdown",
   "metadata": {},
   "source": [
    "And now merge the dataframes on their indices."
   ]
  },
  {
   "cell_type": "code",
   "execution_count": 10,
   "metadata": {},
   "outputs": [],
   "source": [
    "# Merge the vegetation and PFT DataFrames on their indices\n",
    "veg_pfts = veg.join(pfts, how=\"left\")"
   ]
  },
  {
   "cell_type": "code",
   "execution_count": 12,
   "metadata": {},
   "outputs": [
    {
     "data": {
      "text/html": [
       "<div>\n",
       "<style scoped>\n",
       "    .dataframe tbody tr th:only-of-type {\n",
       "        vertical-align: middle;\n",
       "    }\n",
       "\n",
       "    .dataframe tbody tr th {\n",
       "        vertical-align: top;\n",
       "    }\n",
       "\n",
       "    .dataframe thead th {\n",
       "        text-align: right;\n",
       "    }\n",
       "</style>\n",
       "<table border=\"1\" class=\"dataframe\">\n",
       "  <thead>\n",
       "    <tr style=\"text-align: right;\">\n",
       "      <th></th>\n",
       "      <th>speciesname</th>\n",
       "      <th>PlotObservationID</th>\n",
       "      <th>Abundance</th>\n",
       "      <th>Abundance_scale</th>\n",
       "      <th>Rel_Abund_Layer_Scale</th>\n",
       "      <th>Rel_Abund_Layer</th>\n",
       "      <th>Rel_Abund_Plot</th>\n",
       "      <th>pft</th>\n",
       "    </tr>\n",
       "  </thead>\n",
       "  <tbody>\n",
       "    <tr>\n",
       "      <th>0</th>\n",
       "      <td>Agrostis capillaris</td>\n",
       "      <td>631057</td>\n",
       "      <td>13.0</td>\n",
       "      <td>Percentage Cover</td>\n",
       "      <td>0.105691</td>\n",
       "      <td>0.105691</td>\n",
       "      <td>0.052846</td>\n",
       "      <td>Grass</td>\n",
       "    </tr>\n",
       "    <tr>\n",
       "      <th>1</th>\n",
       "      <td>Anthoxanthum odoratum</td>\n",
       "      <td>631057</td>\n",
       "      <td>2.0</td>\n",
       "      <td>Percentage Cover</td>\n",
       "      <td>0.016260</td>\n",
       "      <td>0.016260</td>\n",
       "      <td>0.008130</td>\n",
       "      <td>Grass</td>\n",
       "    </tr>\n",
       "    <tr>\n",
       "      <th>2</th>\n",
       "      <td>Carex arenaria</td>\n",
       "      <td>631057</td>\n",
       "      <td>3.0</td>\n",
       "      <td>Percentage Cover</td>\n",
       "      <td>0.024390</td>\n",
       "      <td>0.024390</td>\n",
       "      <td>0.012195</td>\n",
       "      <td>Grass</td>\n",
       "    </tr>\n",
       "    <tr>\n",
       "      <th>3</th>\n",
       "      <td>Carex nigra</td>\n",
       "      <td>631057</td>\n",
       "      <td>2.0</td>\n",
       "      <td>Percentage Cover</td>\n",
       "      <td>0.016260</td>\n",
       "      <td>0.016260</td>\n",
       "      <td>0.008130</td>\n",
       "      <td>Grass</td>\n",
       "    </tr>\n",
       "    <tr>\n",
       "      <th>4</th>\n",
       "      <td>Carex leporina</td>\n",
       "      <td>631057</td>\n",
       "      <td>2.0</td>\n",
       "      <td>Percentage Cover</td>\n",
       "      <td>0.016260</td>\n",
       "      <td>0.016260</td>\n",
       "      <td>0.008130</td>\n",
       "      <td>Grass</td>\n",
       "    </tr>\n",
       "  </tbody>\n",
       "</table>\n",
       "</div>"
      ],
      "text/plain": [
       "             speciesname PlotObservationID  Abundance   Abundance_scale  \\\n",
       "0    Agrostis capillaris            631057       13.0  Percentage Cover   \n",
       "1  Anthoxanthum odoratum            631057        2.0  Percentage Cover   \n",
       "2         Carex arenaria            631057        3.0  Percentage Cover   \n",
       "3            Carex nigra            631057        2.0  Percentage Cover   \n",
       "4         Carex leporina            631057        2.0  Percentage Cover   \n",
       "\n",
       "   Rel_Abund_Layer_Scale  Rel_Abund_Layer  Rel_Abund_Plot    pft  \n",
       "0               0.105691         0.105691        0.052846  Grass  \n",
       "1               0.016260         0.016260        0.008130  Grass  \n",
       "2               0.024390         0.024390        0.012195  Grass  \n",
       "3               0.016260         0.016260        0.008130  Grass  \n",
       "4               0.016260         0.016260        0.008130  Grass  "
      ]
     },
     "execution_count": 12,
     "metadata": {},
     "output_type": "execute_result"
    }
   ],
   "source": [
    "veg_pfts.reset_index().head()"
   ]
  },
  {
   "cell_type": "markdown",
   "metadata": {},
   "source": [
    "# Notes\n",
    "\n",
    "IMPORTANT: Look for duplicate plots (same exact location but different years)\n",
    "\n",
    "- Take the most recent observation\n",
    "- Group splots into PFTs by identifying majority PFT cover.\n",
    "  DATES ARE WRONG\n",
    "- For some reason the date values don't resemble dates at all. Check in R to see if it's an R -> python thing.\n",
    "\n",
    "- NEW IDEA: For duplicate plots, still calculate trait means, and then simply take trait means across plots\n",
    "\n",
    "TRY DATA\n",
    "\n",
    "- Use mean gapf filled back transformed incl species names\n"
   ]
  }
 ],
 "metadata": {
  "kernelspec": {
   "display_name": "traits-py311",
   "language": "python",
   "name": "python3"
  },
  "language_info": {
   "codemirror_mode": {
    "name": "ipython",
    "version": 3
   },
   "file_extension": ".py",
   "mimetype": "text/x-python",
   "name": "python",
   "nbconvert_exporter": "python",
   "pygments_lexer": "ipython3",
   "version": "3.11.9"
  }
 },
 "nbformat": 4,
 "nbformat_minor": 2
}
