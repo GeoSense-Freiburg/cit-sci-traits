{
 "cells": [
  {
   "cell_type": "markdown",
   "metadata": {},
   "source": [
    "# 0.1.2: Explore and preprocess GBIF citizen science data"
   ]
  },
  {
   "cell_type": "markdown",
   "metadata": {},
   "source": [
    "## Imports and config"
   ]
  },
  {
   "cell_type": "code",
   "execution_count": 1,
   "metadata": {},
   "outputs": [],
   "source": [
    "import json\n",
    "from pathlib import Path\n",
    "from pprint import pprint\n",
    "\n",
    "import dask.dataframe as dd\n",
    "import h3\n",
    "import numpy as np\n",
    "import pandas as pd\n",
    "\n",
    "from src.conf.conf import get_config\n",
    "from src.conf.environment import log\n",
    "\n",
    "%load_ext autoreload\n",
    "%autoreload 2\n",
    "\n",
    "# Display all columns when printing a pandas DataFrame\n",
    "pd.set_option(\"display.max_columns\", None)\n",
    "\n",
    "cfg = get_config()"
   ]
  },
  {
   "cell_type": "markdown",
   "metadata": {},
   "source": [
    "Define some key paths"
   ]
  },
  {
   "cell_type": "code",
   "execution_count": 2,
   "metadata": {},
   "outputs": [],
   "source": [
    "gbif_raw_dir = Path(cfg.gbif.raw.dir)\n",
    "gbif_prep_dir = Path(cfg.interim.gbif.dir)"
   ]
  },
  {
   "cell_type": "markdown",
   "metadata": {},
   "source": [
    "## Explore the raw data structure"
   ]
  },
  {
   "cell_type": "markdown",
   "metadata": {},
   "source": [
    "First let's just browse the directory contents."
   ]
  },
  {
   "cell_type": "code",
   "execution_count": 4,
   "metadata": {},
   "outputs": [
    {
     "name": "stdout",
     "output_type": "stream",
     "text": [
      "Directory contents of the raw GBIF data:\n",
      "data/raw/all_tracheophyta_non-cult_2024-04-10/all_tracheophyta_non-cult_2024-04-10.json\n",
      "data/raw/all_tracheophyta_non-cult_2024-04-10/all_tracheophyta_non-cult_2024-04-10.parquet\n"
     ]
    }
   ],
   "source": [
    "print(\"Directory contents of the raw GBIF data:\")\n",
    "for file in gbif_raw_dir.iterdir():\n",
    "    print(file)"
   ]
  },
  {
   "cell_type": "markdown",
   "metadata": {},
   "source": [
    "Let's parse the JSON file."
   ]
  },
  {
   "cell_type": "code",
   "execution_count": 5,
   "metadata": {},
   "outputs": [
    {
     "name": "stdout",
     "output_type": "stream",
     "text": [
      "{'created': '2024-04-10T16:03:38.992+00:00',\n",
      " 'doi': '10.15468/dl.b9ptxy',\n",
      " 'downloadLink': 'https://api.gbif.org/v1/occurrence/download/request/0136703-240321170329656.zip',\n",
      " 'eraseAfter': '2024-10-10T16:03:38.940+00:00',\n",
      " 'key': '0136703-240321170329656',\n",
      " 'license': 'http://creativecommons.org/licenses/by-nc/4.0/legalcode',\n",
      " 'modified': '2024-04-10T17:02:55.607+00:00',\n",
      " 'numberDatasets': 12645,\n",
      " 'request': {'format': 'SIMPLE_PARQUET',\n",
      "             'predicate': {'predicates': [{'key': 'TAXON_KEY',\n",
      "                                           'matchCase': False,\n",
      "                                           'type': 'equals',\n",
      "                                           'value': '7707728'},\n",
      "                                          {'predicate': {'key': 'DEGREE_OF_ESTABLISHMENT',\n",
      "                                                         'matchCase': False,\n",
      "                                                         'type': 'in',\n",
      "                                                         'values': ['cultivated']},\n",
      "                                           'type': 'not'},\n",
      "                                          {'key': 'HAS_GEOSPATIAL_ISSUE',\n",
      "                                           'matchCase': False,\n",
      "                                           'type': 'equals',\n",
      "                                           'value': 'FALSE'},\n",
      "                                          {'key': 'HAS_COORDINATE',\n",
      "                                           'matchCase': False,\n",
      "                                           'type': 'equals',\n",
      "                                           'value': 'TRUE'}],\n",
      "                           'type': 'and'},\n",
      "             'sendNotification': True,\n",
      "             'type': 'OCCURRENCE',\n",
      "             'verbatimExtensions': []},\n",
      " 'size': 24330515338,\n",
      " 'status': 'SUCCEEDED',\n",
      " 'totalRecords': 386455349}\n"
     ]
    }
   ],
   "source": [
    "# parse the json file\n",
    "json_fn = \"all_tracheophyta_non-cult_2024-04-10.json\"\n",
    "with open(gbif_raw_dir / json_fn) as f:\n",
    "    data = json.load(f)\n",
    "\n",
    "pprint(data)"
   ]
  },
  {
   "cell_type": "markdown",
   "metadata": {},
   "source": [
    "We can see from the included JSON file all the metadata surrounding the data request, including the exact query, as well as other information like request date, number of datasets, and number of records."
   ]
  },
  {
   "cell_type": "code",
   "execution_count": 6,
   "metadata": {},
   "outputs": [
    {
     "name": "stdout",
     "output_type": "stream",
     "text": [
      "Number of datasets: 12,645\n",
      "Total records: 386,455,349\n"
     ]
    }
   ],
   "source": [
    "print(f\"Number of datasets: {data['numberDatasets']:,}\")\n",
    "print(f\"Total records: {data['totalRecords']:,}\")"
   ]
  },
  {
   "cell_type": "markdown",
   "metadata": {},
   "source": [
    "### Load the dataframe with Dask"
   ]
  },
  {
   "cell_type": "markdown",
   "metadata": {},
   "source": [
    "Before trying to load the parquet file directly into memory, let's print the size of the data in GB (it is provided in bytes)."
   ]
  },
  {
   "cell_type": "code",
   "execution_count": 7,
   "metadata": {},
   "outputs": [
    {
     "name": "stdout",
     "output_type": "stream",
     "text": [
      "Size of the data: 24.33 GB\n"
     ]
    }
   ],
   "source": [
    "print(f\"Size of the data: {data['size'] / 1e9:.2f} GB\")"
   ]
  },
  {
   "cell_type": "markdown",
   "metadata": {},
   "source": [
    "Depending on your system, that may be a bit too big to load all at once. Especially because the data is saved in parquet format, which supports compression, so the real size may be significantly larger than that. Luckily, we can use `dask` to load large dataframes due to its ability to only load into memory exactly what we need for our given computations."
   ]
  },
  {
   "cell_type": "code",
   "execution_count": 10,
   "metadata": {},
   "outputs": [
    {
     "data": {
      "text/html": [
       "<div>\n",
       "<style scoped>\n",
       "    .dataframe tbody tr th:only-of-type {\n",
       "        vertical-align: middle;\n",
       "    }\n",
       "\n",
       "    .dataframe tbody tr th {\n",
       "        vertical-align: top;\n",
       "    }\n",
       "\n",
       "    .dataframe thead th {\n",
       "        text-align: right;\n",
       "    }\n",
       "</style>\n",
       "<table border=\"1\" class=\"dataframe\">\n",
       "  <thead>\n",
       "    <tr style=\"text-align: right;\">\n",
       "      <th></th>\n",
       "      <th>gbifid</th>\n",
       "      <th>datasetkey</th>\n",
       "      <th>occurrenceid</th>\n",
       "      <th>kingdom</th>\n",
       "      <th>phylum</th>\n",
       "      <th>class</th>\n",
       "      <th>order</th>\n",
       "      <th>family</th>\n",
       "      <th>genus</th>\n",
       "      <th>species</th>\n",
       "      <th>infraspecificepithet</th>\n",
       "      <th>taxonrank</th>\n",
       "      <th>scientificname</th>\n",
       "      <th>verbatimscientificname</th>\n",
       "      <th>verbatimscientificnameauthorship</th>\n",
       "      <th>countrycode</th>\n",
       "      <th>locality</th>\n",
       "      <th>stateprovince</th>\n",
       "      <th>occurrencestatus</th>\n",
       "      <th>individualcount</th>\n",
       "      <th>publishingorgkey</th>\n",
       "      <th>decimallatitude</th>\n",
       "      <th>decimallongitude</th>\n",
       "      <th>coordinateuncertaintyinmeters</th>\n",
       "      <th>coordinateprecision</th>\n",
       "      <th>elevation</th>\n",
       "      <th>elevationaccuracy</th>\n",
       "      <th>depth</th>\n",
       "      <th>depthaccuracy</th>\n",
       "      <th>eventdate</th>\n",
       "      <th>day</th>\n",
       "      <th>month</th>\n",
       "      <th>year</th>\n",
       "      <th>taxonkey</th>\n",
       "      <th>specieskey</th>\n",
       "      <th>basisofrecord</th>\n",
       "      <th>institutioncode</th>\n",
       "      <th>collectioncode</th>\n",
       "      <th>catalognumber</th>\n",
       "      <th>recordnumber</th>\n",
       "      <th>identifiedby</th>\n",
       "      <th>dateidentified</th>\n",
       "      <th>license</th>\n",
       "      <th>rightsholder</th>\n",
       "      <th>recordedby</th>\n",
       "      <th>typestatus</th>\n",
       "      <th>establishmentmeans</th>\n",
       "      <th>lastinterpreted</th>\n",
       "      <th>mediatype</th>\n",
       "      <th>issue</th>\n",
       "    </tr>\n",
       "  </thead>\n",
       "  <tbody>\n",
       "    <tr>\n",
       "      <th>0</th>\n",
       "      <td>4155839127</td>\n",
       "      <td>8a863029-f435-446a-821e-275f4f641165</td>\n",
       "      <td>https://observation.org/observation/243417806</td>\n",
       "      <td>Plantae</td>\n",
       "      <td>Tracheophyta</td>\n",
       "      <td>Magnoliopsida</td>\n",
       "      <td>Asterales</td>\n",
       "      <td>Asteraceae</td>\n",
       "      <td>Silybum</td>\n",
       "      <td>Silybum marianum</td>\n",
       "      <td>&lt;NA&gt;</td>\n",
       "      <td>SPECIES</td>\n",
       "      <td>Silybum marianum (L.) Gaertn.</td>\n",
       "      <td>Silybum marianum</td>\n",
       "      <td>&lt;NA&gt;</td>\n",
       "      <td>NL</td>\n",
       "      <td>Cadier en Keer</td>\n",
       "      <td>Limburg</td>\n",
       "      <td>PRESENT</td>\n",
       "      <td>1.0</td>\n",
       "      <td>c8d737e0-2ff8-42e8-b8fc-6b805d26fc5f</td>\n",
       "      <td>50.80</td>\n",
       "      <td>5.75</td>\n",
       "      <td>5000.0</td>\n",
       "      <td>NaN</td>\n",
       "      <td>NaN</td>\n",
       "      <td>NaN</td>\n",
       "      <td>NaN</td>\n",
       "      <td>NaN</td>\n",
       "      <td>2022-05-29</td>\n",
       "      <td>29.0</td>\n",
       "      <td>5.0</td>\n",
       "      <td>2022.0</td>\n",
       "      <td>3145214</td>\n",
       "      <td>3145214.0</td>\n",
       "      <td>HUMAN_OBSERVATION</td>\n",
       "      <td>&lt;NA&gt;</td>\n",
       "      <td>Observations</td>\n",
       "      <td>OBS.243417806</td>\n",
       "      <td>&lt;NA&gt;</td>\n",
       "      <td>[]</td>\n",
       "      <td>NaT</td>\n",
       "      <td>CC_BY_NC_4_0</td>\n",
       "      <td>Stichting Observation International</td>\n",
       "      <td>[User 418761]</td>\n",
       "      <td>[]</td>\n",
       "      <td>&lt;NA&gt;</td>\n",
       "      <td>2024-01-25 12:03:49.367</td>\n",
       "      <td>[]</td>\n",
       "      <td>[OCCURRENCE_STATUS_INFERRED_FROM_INDIVIDUAL_CO...</td>\n",
       "    </tr>\n",
       "    <tr>\n",
       "      <th>1</th>\n",
       "      <td>3823408376</td>\n",
       "      <td>8a863029-f435-446a-821e-275f4f641165</td>\n",
       "      <td>https://observation.org/observation/243524281</td>\n",
       "      <td>Plantae</td>\n",
       "      <td>Tracheophyta</td>\n",
       "      <td>Liliopsida</td>\n",
       "      <td>Asparagales</td>\n",
       "      <td>Iridaceae</td>\n",
       "      <td>Iris</td>\n",
       "      <td>Iris pseudacorus</td>\n",
       "      <td>&lt;NA&gt;</td>\n",
       "      <td>SPECIES</td>\n",
       "      <td>Iris pseudacorus L.</td>\n",
       "      <td>Iris pseudacorus</td>\n",
       "      <td>&lt;NA&gt;</td>\n",
       "      <td>NL</td>\n",
       "      <td>Rotterdam - Prinsenpark</td>\n",
       "      <td>Zuid-Holland</td>\n",
       "      <td>PRESENT</td>\n",
       "      <td>1.0</td>\n",
       "      <td>c8d737e0-2ff8-42e8-b8fc-6b805d26fc5f</td>\n",
       "      <td>51.90</td>\n",
       "      <td>4.50</td>\n",
       "      <td>5000.0</td>\n",
       "      <td>NaN</td>\n",
       "      <td>NaN</td>\n",
       "      <td>NaN</td>\n",
       "      <td>NaN</td>\n",
       "      <td>NaN</td>\n",
       "      <td>2022-05-30</td>\n",
       "      <td>30.0</td>\n",
       "      <td>5.0</td>\n",
       "      <td>2022.0</td>\n",
       "      <td>5298231</td>\n",
       "      <td>5298231.0</td>\n",
       "      <td>HUMAN_OBSERVATION</td>\n",
       "      <td>&lt;NA&gt;</td>\n",
       "      <td>Observations</td>\n",
       "      <td>OBS.243524281</td>\n",
       "      <td>&lt;NA&gt;</td>\n",
       "      <td>[]</td>\n",
       "      <td>NaT</td>\n",
       "      <td>CC_BY_NC_4_0</td>\n",
       "      <td>Stichting Observation International</td>\n",
       "      <td>[User 746719]</td>\n",
       "      <td>[]</td>\n",
       "      <td>&lt;NA&gt;</td>\n",
       "      <td>2024-01-25 12:03:26.829</td>\n",
       "      <td>[StillImage]</td>\n",
       "      <td>[OCCURRENCE_STATUS_INFERRED_FROM_INDIVIDUAL_CO...</td>\n",
       "    </tr>\n",
       "    <tr>\n",
       "      <th>2</th>\n",
       "      <td>4056148605</td>\n",
       "      <td>8a863029-f435-446a-821e-275f4f641165</td>\n",
       "      <td>https://observation.org/observation/243600288</td>\n",
       "      <td>Plantae</td>\n",
       "      <td>Tracheophyta</td>\n",
       "      <td>Magnoliopsida</td>\n",
       "      <td>Fabales</td>\n",
       "      <td>Fabaceae</td>\n",
       "      <td>Vicia</td>\n",
       "      <td>&lt;NA&gt;</td>\n",
       "      <td>&lt;NA&gt;</td>\n",
       "      <td>GENUS</td>\n",
       "      <td>Vicia L.</td>\n",
       "      <td>Vicia spec.</td>\n",
       "      <td>&lt;NA&gt;</td>\n",
       "      <td>NL</td>\n",
       "      <td>Amstelveen - Keizer Karelpark</td>\n",
       "      <td>Noord-Holland</td>\n",
       "      <td>PRESENT</td>\n",
       "      <td>1.0</td>\n",
       "      <td>c8d737e0-2ff8-42e8-b8fc-6b805d26fc5f</td>\n",
       "      <td>52.25</td>\n",
       "      <td>4.85</td>\n",
       "      <td>5000.0</td>\n",
       "      <td>NaN</td>\n",
       "      <td>NaN</td>\n",
       "      <td>NaN</td>\n",
       "      <td>NaN</td>\n",
       "      <td>NaN</td>\n",
       "      <td>2022-05-31</td>\n",
       "      <td>31.0</td>\n",
       "      <td>5.0</td>\n",
       "      <td>2022.0</td>\n",
       "      <td>2974751</td>\n",
       "      <td>NaN</td>\n",
       "      <td>HUMAN_OBSERVATION</td>\n",
       "      <td>&lt;NA&gt;</td>\n",
       "      <td>Observations</td>\n",
       "      <td>OBS.243600288</td>\n",
       "      <td>&lt;NA&gt;</td>\n",
       "      <td>[]</td>\n",
       "      <td>NaT</td>\n",
       "      <td>CC_BY_NC_4_0</td>\n",
       "      <td>Stichting Observation International</td>\n",
       "      <td>[User 753446]</td>\n",
       "      <td>[]</td>\n",
       "      <td>&lt;NA&gt;</td>\n",
       "      <td>2024-01-25 11:57:47.679</td>\n",
       "      <td>[StillImage]</td>\n",
       "      <td>[OCCURRENCE_STATUS_INFERRED_FROM_INDIVIDUAL_CO...</td>\n",
       "    </tr>\n",
       "    <tr>\n",
       "      <th>3</th>\n",
       "      <td>3904214750</td>\n",
       "      <td>8a863029-f435-446a-821e-275f4f641165</td>\n",
       "      <td>https://observation.org/observation/243760126</td>\n",
       "      <td>Plantae</td>\n",
       "      <td>Tracheophyta</td>\n",
       "      <td>Liliopsida</td>\n",
       "      <td>Asparagales</td>\n",
       "      <td>Orchidaceae</td>\n",
       "      <td>Neottia</td>\n",
       "      <td>Neottia ovata</td>\n",
       "      <td>&lt;NA&gt;</td>\n",
       "      <td>SPECIES</td>\n",
       "      <td>Neottia ovata (L.) Bluff &amp; Fingerh.</td>\n",
       "      <td>Neottia ovata</td>\n",
       "      <td>&lt;NA&gt;</td>\n",
       "      <td>NL</td>\n",
       "      <td>Bunnik - Oud Amelisweerd</td>\n",
       "      <td>Utrecht</td>\n",
       "      <td>PRESENT</td>\n",
       "      <td>1.0</td>\n",
       "      <td>c8d737e0-2ff8-42e8-b8fc-6b805d26fc5f</td>\n",
       "      <td>52.05</td>\n",
       "      <td>5.15</td>\n",
       "      <td>5000.0</td>\n",
       "      <td>NaN</td>\n",
       "      <td>NaN</td>\n",
       "      <td>NaN</td>\n",
       "      <td>NaN</td>\n",
       "      <td>NaN</td>\n",
       "      <td>2022-06-01</td>\n",
       "      <td>1.0</td>\n",
       "      <td>6.0</td>\n",
       "      <td>2022.0</td>\n",
       "      <td>2816250</td>\n",
       "      <td>2816250.0</td>\n",
       "      <td>HUMAN_OBSERVATION</td>\n",
       "      <td>&lt;NA&gt;</td>\n",
       "      <td>Observations</td>\n",
       "      <td>OBS.243760126</td>\n",
       "      <td>&lt;NA&gt;</td>\n",
       "      <td>[]</td>\n",
       "      <td>NaT</td>\n",
       "      <td>CC_BY_NC_4_0</td>\n",
       "      <td>Stichting Observation International</td>\n",
       "      <td>[User 153271]</td>\n",
       "      <td>[]</td>\n",
       "      <td>&lt;NA&gt;</td>\n",
       "      <td>2024-01-25 12:04:37.647</td>\n",
       "      <td>[StillImage]</td>\n",
       "      <td>[OCCURRENCE_STATUS_INFERRED_FROM_INDIVIDUAL_CO...</td>\n",
       "    </tr>\n",
       "    <tr>\n",
       "      <th>4</th>\n",
       "      <td>3905757702</td>\n",
       "      <td>8a863029-f435-446a-821e-275f4f641165</td>\n",
       "      <td>https://observation.org/observation/243801621</td>\n",
       "      <td>Plantae</td>\n",
       "      <td>Tracheophyta</td>\n",
       "      <td>Magnoliopsida</td>\n",
       "      <td>Dipsacales</td>\n",
       "      <td>Caprifoliaceae</td>\n",
       "      <td>Lonicera</td>\n",
       "      <td>Lonicera periclymenum</td>\n",
       "      <td>&lt;NA&gt;</td>\n",
       "      <td>SPECIES</td>\n",
       "      <td>Lonicera periclymenum L.</td>\n",
       "      <td>Lonicera periclymenum</td>\n",
       "      <td>&lt;NA&gt;</td>\n",
       "      <td>NL</td>\n",
       "      <td>Haskerhornerpolder</td>\n",
       "      <td>Friesland</td>\n",
       "      <td>PRESENT</td>\n",
       "      <td>1.0</td>\n",
       "      <td>c8d737e0-2ff8-42e8-b8fc-6b805d26fc5f</td>\n",
       "      <td>52.90</td>\n",
       "      <td>5.80</td>\n",
       "      <td>5000.0</td>\n",
       "      <td>NaN</td>\n",
       "      <td>NaN</td>\n",
       "      <td>NaN</td>\n",
       "      <td>NaN</td>\n",
       "      <td>NaN</td>\n",
       "      <td>2022-06-01</td>\n",
       "      <td>1.0</td>\n",
       "      <td>6.0</td>\n",
       "      <td>2022.0</td>\n",
       "      <td>5334277</td>\n",
       "      <td>5334277.0</td>\n",
       "      <td>HUMAN_OBSERVATION</td>\n",
       "      <td>&lt;NA&gt;</td>\n",
       "      <td>Observations</td>\n",
       "      <td>OBS.243801621</td>\n",
       "      <td>&lt;NA&gt;</td>\n",
       "      <td>[]</td>\n",
       "      <td>NaT</td>\n",
       "      <td>CC_BY_NC_4_0</td>\n",
       "      <td>Stichting Observation International</td>\n",
       "      <td>[User 93322]</td>\n",
       "      <td>[]</td>\n",
       "      <td>&lt;NA&gt;</td>\n",
       "      <td>2024-01-25 11:57:59.972</td>\n",
       "      <td>[]</td>\n",
       "      <td>[OCCURRENCE_STATUS_INFERRED_FROM_INDIVIDUAL_CO...</td>\n",
       "    </tr>\n",
       "  </tbody>\n",
       "</table>\n",
       "</div>"
      ],
      "text/plain": [
       "       gbifid                            datasetkey  \\\n",
       "0  4155839127  8a863029-f435-446a-821e-275f4f641165   \n",
       "1  3823408376  8a863029-f435-446a-821e-275f4f641165   \n",
       "2  4056148605  8a863029-f435-446a-821e-275f4f641165   \n",
       "3  3904214750  8a863029-f435-446a-821e-275f4f641165   \n",
       "4  3905757702  8a863029-f435-446a-821e-275f4f641165   \n",
       "\n",
       "                                    occurrenceid  kingdom        phylum  \\\n",
       "0  https://observation.org/observation/243417806  Plantae  Tracheophyta   \n",
       "1  https://observation.org/observation/243524281  Plantae  Tracheophyta   \n",
       "2  https://observation.org/observation/243600288  Plantae  Tracheophyta   \n",
       "3  https://observation.org/observation/243760126  Plantae  Tracheophyta   \n",
       "4  https://observation.org/observation/243801621  Plantae  Tracheophyta   \n",
       "\n",
       "           class        order          family     genus  \\\n",
       "0  Magnoliopsida    Asterales      Asteraceae   Silybum   \n",
       "1     Liliopsida  Asparagales       Iridaceae      Iris   \n",
       "2  Magnoliopsida      Fabales        Fabaceae     Vicia   \n",
       "3     Liliopsida  Asparagales     Orchidaceae   Neottia   \n",
       "4  Magnoliopsida   Dipsacales  Caprifoliaceae  Lonicera   \n",
       "\n",
       "                 species infraspecificepithet taxonrank  \\\n",
       "0       Silybum marianum                 <NA>   SPECIES   \n",
       "1       Iris pseudacorus                 <NA>   SPECIES   \n",
       "2                   <NA>                 <NA>     GENUS   \n",
       "3          Neottia ovata                 <NA>   SPECIES   \n",
       "4  Lonicera periclymenum                 <NA>   SPECIES   \n",
       "\n",
       "                        scientificname verbatimscientificname  \\\n",
       "0        Silybum marianum (L.) Gaertn.       Silybum marianum   \n",
       "1                  Iris pseudacorus L.       Iris pseudacorus   \n",
       "2                             Vicia L.            Vicia spec.   \n",
       "3  Neottia ovata (L.) Bluff & Fingerh.          Neottia ovata   \n",
       "4             Lonicera periclymenum L.  Lonicera periclymenum   \n",
       "\n",
       "  verbatimscientificnameauthorship countrycode                       locality  \\\n",
       "0                             <NA>          NL                 Cadier en Keer   \n",
       "1                             <NA>          NL        Rotterdam - Prinsenpark   \n",
       "2                             <NA>          NL  Amstelveen - Keizer Karelpark   \n",
       "3                             <NA>          NL       Bunnik - Oud Amelisweerd   \n",
       "4                             <NA>          NL             Haskerhornerpolder   \n",
       "\n",
       "   stateprovince occurrencestatus  individualcount  \\\n",
       "0        Limburg          PRESENT              1.0   \n",
       "1   Zuid-Holland          PRESENT              1.0   \n",
       "2  Noord-Holland          PRESENT              1.0   \n",
       "3        Utrecht          PRESENT              1.0   \n",
       "4      Friesland          PRESENT              1.0   \n",
       "\n",
       "                       publishingorgkey  decimallatitude  decimallongitude  \\\n",
       "0  c8d737e0-2ff8-42e8-b8fc-6b805d26fc5f            50.80              5.75   \n",
       "1  c8d737e0-2ff8-42e8-b8fc-6b805d26fc5f            51.90              4.50   \n",
       "2  c8d737e0-2ff8-42e8-b8fc-6b805d26fc5f            52.25              4.85   \n",
       "3  c8d737e0-2ff8-42e8-b8fc-6b805d26fc5f            52.05              5.15   \n",
       "4  c8d737e0-2ff8-42e8-b8fc-6b805d26fc5f            52.90              5.80   \n",
       "\n",
       "   coordinateuncertaintyinmeters  coordinateprecision  elevation  \\\n",
       "0                         5000.0                  NaN        NaN   \n",
       "1                         5000.0                  NaN        NaN   \n",
       "2                         5000.0                  NaN        NaN   \n",
       "3                         5000.0                  NaN        NaN   \n",
       "4                         5000.0                  NaN        NaN   \n",
       "\n",
       "   elevationaccuracy  depth  depthaccuracy   eventdate   day  month    year  \\\n",
       "0                NaN    NaN            NaN  2022-05-29  29.0    5.0  2022.0   \n",
       "1                NaN    NaN            NaN  2022-05-30  30.0    5.0  2022.0   \n",
       "2                NaN    NaN            NaN  2022-05-31  31.0    5.0  2022.0   \n",
       "3                NaN    NaN            NaN  2022-06-01   1.0    6.0  2022.0   \n",
       "4                NaN    NaN            NaN  2022-06-01   1.0    6.0  2022.0   \n",
       "\n",
       "   taxonkey  specieskey      basisofrecord institutioncode collectioncode  \\\n",
       "0   3145214   3145214.0  HUMAN_OBSERVATION            <NA>   Observations   \n",
       "1   5298231   5298231.0  HUMAN_OBSERVATION            <NA>   Observations   \n",
       "2   2974751         NaN  HUMAN_OBSERVATION            <NA>   Observations   \n",
       "3   2816250   2816250.0  HUMAN_OBSERVATION            <NA>   Observations   \n",
       "4   5334277   5334277.0  HUMAN_OBSERVATION            <NA>   Observations   \n",
       "\n",
       "   catalognumber recordnumber identifiedby dateidentified       license  \\\n",
       "0  OBS.243417806         <NA>           []            NaT  CC_BY_NC_4_0   \n",
       "1  OBS.243524281         <NA>           []            NaT  CC_BY_NC_4_0   \n",
       "2  OBS.243600288         <NA>           []            NaT  CC_BY_NC_4_0   \n",
       "3  OBS.243760126         <NA>           []            NaT  CC_BY_NC_4_0   \n",
       "4  OBS.243801621         <NA>           []            NaT  CC_BY_NC_4_0   \n",
       "\n",
       "                          rightsholder     recordedby typestatus  \\\n",
       "0  Stichting Observation International  [User 418761]         []   \n",
       "1  Stichting Observation International  [User 746719]         []   \n",
       "2  Stichting Observation International  [User 753446]         []   \n",
       "3  Stichting Observation International  [User 153271]         []   \n",
       "4  Stichting Observation International   [User 93322]         []   \n",
       "\n",
       "  establishmentmeans         lastinterpreted     mediatype  \\\n",
       "0               <NA> 2024-01-25 12:03:49.367            []   \n",
       "1               <NA> 2024-01-25 12:03:26.829  [StillImage]   \n",
       "2               <NA> 2024-01-25 11:57:47.679  [StillImage]   \n",
       "3               <NA> 2024-01-25 12:04:37.647  [StillImage]   \n",
       "4               <NA> 2024-01-25 11:57:59.972            []   \n",
       "\n",
       "                                               issue  \n",
       "0  [OCCURRENCE_STATUS_INFERRED_FROM_INDIVIDUAL_CO...  \n",
       "1  [OCCURRENCE_STATUS_INFERRED_FROM_INDIVIDUAL_CO...  \n",
       "2  [OCCURRENCE_STATUS_INFERRED_FROM_INDIVIDUAL_CO...  \n",
       "3  [OCCURRENCE_STATUS_INFERRED_FROM_INDIVIDUAL_CO...  \n",
       "4  [OCCURRENCE_STATUS_INFERRED_FROM_INDIVIDUAL_CO...  "
      ]
     },
     "execution_count": 10,
     "metadata": {},
     "output_type": "execute_result"
    }
   ],
   "source": [
    "ddf = dd.read_parquet(gbif_raw_dir / \"all_tracheophyta_non-cult_2024-04-10.parquet/*\")\n",
    "ddf.head()"
   ]
  },
  {
   "cell_type": "markdown",
   "metadata": {},
   "source": [
    "## TODO: Analyze data\n",
    "- global distribution\n",
    "- Num. with images\n",
    "- coordinate uncertainty\n",
    "- dataset information\n",
    "- issues\n",
    "- collection date"
   ]
  },
  {
   "cell_type": "markdown",
   "metadata": {},
   "source": [
    "### Occurrence status"
   ]
  },
  {
   "cell_type": "markdown",
   "metadata": {},
   "source": [
    "The data gives us occurence status (whether or not the species is present or absent in the observation). This could potentially be pretty valuable, as absence data information can be just as useful as presence information."
   ]
  },
  {
   "cell_type": "code",
   "execution_count": 12,
   "metadata": {},
   "outputs": [
    {
     "data": {
      "text/plain": [
       "occurrencestatus\n",
       "ABSENT       3389108\n",
       "PRESENT    383066241\n",
       "Name: count, dtype: int64[pyarrow]"
      ]
     },
     "execution_count": 12,
     "metadata": {},
     "output_type": "execute_result"
    }
   ],
   "source": [
    "ddf.occurrencestatus.value_counts().compute()"
   ]
  },
  {
   "cell_type": "markdown",
   "metadata": {},
   "source": [
    "## Select relevant data"
   ]
  },
  {
   "cell_type": "markdown",
   "metadata": {},
   "source": [
    "While there is a ton of interesting information in the GBIF data, we're primarily interested in present species, their official names, their locations, and their corresponding PFTs. Let's reload the data with only that information to reduce the memory footprint before we merge with our PFT information in TRY."
   ]
  },
  {
   "cell_type": "code",
   "execution_count": 12,
   "metadata": {},
   "outputs": [],
   "source": [
    "columns = [\n",
    "    \"species\",\n",
    "    \"taxonrank\",\n",
    "    \"decimallatitude\",\n",
    "    \"decimallongitude\",\n",
    "]\n",
    "ddf = dd.read_parquet(\n",
    "    gbif_raw_dir / \"all_tracheophyta_non-cult_2024-04-10.parquet/*\",\n",
    "    columns=columns,\n",
    "    npartitions=60,\n",
    ")\n",
    "\n",
    "ddf = ddf[ddf[\"taxonrank\"] == \"SPECIES\"].drop(columns=[\"taxonrank\"])"
   ]
  },
  {
   "cell_type": "markdown",
   "metadata": {},
   "source": [
    "## Load TRY PFTs"
   ]
  },
  {
   "cell_type": "code",
   "execution_count": 13,
   "metadata": {},
   "outputs": [],
   "source": [
    "pfts = dd.read_csv(Path(cfg.trydb.raw.pfts), encoding=\"latin-1\").drop(\n",
    "    columns=[\"AccSpeciesID\"]\n",
    ")"
   ]
  },
  {
   "cell_type": "code",
   "execution_count": 11,
   "metadata": {},
   "outputs": [
    {
     "data": {
      "text/html": [
       "<div>\n",
       "<style scoped>\n",
       "    .dataframe tbody tr th:only-of-type {\n",
       "        vertical-align: middle;\n",
       "    }\n",
       "\n",
       "    .dataframe tbody tr th {\n",
       "        vertical-align: top;\n",
       "    }\n",
       "\n",
       "    .dataframe thead th {\n",
       "        text-align: right;\n",
       "    }\n",
       "</style>\n",
       "<table border=\"1\" class=\"dataframe\">\n",
       "  <thead>\n",
       "    <tr style=\"text-align: right;\">\n",
       "      <th></th>\n",
       "      <th>AccSpeciesName</th>\n",
       "      <th>pft</th>\n",
       "    </tr>\n",
       "  </thead>\n",
       "  <tbody>\n",
       "    <tr>\n",
       "      <th>0</th>\n",
       "      <td>Calamagrostis lapponica</td>\n",
       "      <td>Grass</td>\n",
       "    </tr>\n",
       "    <tr>\n",
       "      <th>1</th>\n",
       "      <td>Carex capitata</td>\n",
       "      <td>Grass</td>\n",
       "    </tr>\n",
       "    <tr>\n",
       "      <th>2</th>\n",
       "      <td>Carex rostrata</td>\n",
       "      <td>Grass</td>\n",
       "    </tr>\n",
       "    <tr>\n",
       "      <th>3</th>\n",
       "      <td>Carex saxatilis</td>\n",
       "      <td>Grass</td>\n",
       "    </tr>\n",
       "    <tr>\n",
       "      <th>4</th>\n",
       "      <td>Carex vaginata</td>\n",
       "      <td>Grass</td>\n",
       "    </tr>\n",
       "  </tbody>\n",
       "</table>\n",
       "</div>"
      ],
      "text/plain": [
       "            AccSpeciesName    pft\n",
       "0  Calamagrostis lapponica  Grass\n",
       "1           Carex capitata  Grass\n",
       "2           Carex rostrata  Grass\n",
       "3          Carex saxatilis  Grass\n",
       "4           Carex vaginata  Grass"
      ]
     },
     "execution_count": 11,
     "metadata": {},
     "output_type": "execute_result"
    }
   ],
   "source": [
    "pfts.head()"
   ]
  },
  {
   "cell_type": "markdown",
   "metadata": {},
   "source": [
    "Before matching, make sure we're dealing only with common, 2-word species names."
   ]
  },
  {
   "cell_type": "code",
   "execution_count": 5,
   "metadata": {},
   "outputs": [
    {
     "data": {
      "text/plain": [
       "AccSpeciesName\n",
       "1       3548\n",
       "2     109849\n",
       "3        719\n",
       "4       6157\n",
       "5         64\n",
       "6         54\n",
       "7         21\n",
       "8         10\n",
       "9          3\n",
       "10         2\n",
       "14         1\n",
       "Name: count, dtype: int64"
      ]
     },
     "execution_count": 5,
     "metadata": {},
     "output_type": "execute_result"
    }
   ],
   "source": [
    "pfts.AccSpeciesName.str.split().str.len().value_counts().compute()"
   ]
  },
  {
   "cell_type": "markdown",
   "metadata": {},
   "source": [
    "PFTs and GBIF species columns (not shown here due to extensive computation time) both have a number of records with species names longer than two words. We can truncate each record to only the first two words in hopes that this makes matching simpler."
   ]
  },
  {
   "cell_type": "code",
   "execution_count": 5,
   "metadata": {},
   "outputs": [],
   "source": [
    "ddf[\"speciesname\"] = ddf[\"species\"].str.extract(\"([A-Za-z]+ [A-Za-z]+)\", expand=False)\n",
    "pfts[\"speciesname\"] = pfts[\"AccSpeciesName\"].str.extract(\n",
    "    \"([A-Za-z]+ [A-Za-z]+)\", expand=False\n",
    ")"
   ]
  },
  {
   "cell_type": "markdown",
   "metadata": {},
   "source": [
    "To improve merge efficiency, we'll drop missing values and set speciesname as the index."
   ]
  },
  {
   "cell_type": "code",
   "execution_count": 6,
   "metadata": {},
   "outputs": [],
   "source": [
    "ddf = (\n",
    "    ddf.dropna(subset=\"speciesname\").drop(columns=[\"species\"]).set_index(\"speciesname\")\n",
    ")\n",
    "pfts = (\n",
    "    pfts.dropna(subset=\"speciesname\")\n",
    "    .drop(columns=[\"AccSpeciesName\"])\n",
    "    .set_index(\"speciesname\")\n",
    ")"
   ]
  },
  {
   "cell_type": "markdown",
   "metadata": {},
   "source": [
    "Now we can merge the PFT information into the GBIF data and then reset the index."
   ]
  },
  {
   "cell_type": "code",
   "execution_count": 7,
   "metadata": {},
   "outputs": [],
   "source": [
    "# Merge pfts into ddf on speciesname index\n",
    "ddf = dd.merge(ddf, pfts, left_index=True, right_index=True).reset_index()"
   ]
  },
  {
   "cell_type": "markdown",
   "metadata": {},
   "source": [
    "And save the results directly to disk to avoid memory issues."
   ]
  },
  {
   "cell_type": "code",
   "execution_count": 8,
   "metadata": {},
   "outputs": [],
   "source": [
    "ddf.to_parquet(gbif_prep_dir / \"gbif_pfts.parquet\", write_index=False)"
   ]
  },
  {
   "cell_type": "markdown",
   "metadata": {},
   "source": [
    "(Took about 33 mins)"
   ]
  },
  {
   "cell_type": "markdown",
   "metadata": {},
   "source": [
    "## Inspect matched GBIF / PFT data"
   ]
  },
  {
   "cell_type": "code",
   "execution_count": 8,
   "metadata": {},
   "outputs": [
    {
     "data": {
      "text/html": [
       "<div>\n",
       "<style scoped>\n",
       "    .dataframe tbody tr th:only-of-type {\n",
       "        vertical-align: middle;\n",
       "    }\n",
       "\n",
       "    .dataframe tbody tr th {\n",
       "        vertical-align: top;\n",
       "    }\n",
       "\n",
       "    .dataframe thead th {\n",
       "        text-align: right;\n",
       "    }\n",
       "</style>\n",
       "<table border=\"1\" class=\"dataframe\">\n",
       "  <thead>\n",
       "    <tr style=\"text-align: right;\">\n",
       "      <th></th>\n",
       "      <th>speciesname</th>\n",
       "      <th>decimallatitude</th>\n",
       "      <th>decimallongitude</th>\n",
       "      <th>pft</th>\n",
       "    </tr>\n",
       "  </thead>\n",
       "  <tbody>\n",
       "    <tr>\n",
       "      <th>0</th>\n",
       "      <td>Aa argyrolepis</td>\n",
       "      <td>-0.66600</td>\n",
       "      <td>-78.50000</td>\n",
       "      <td>Grass</td>\n",
       "    </tr>\n",
       "    <tr>\n",
       "      <th>1</th>\n",
       "      <td>Aa argyrolepis</td>\n",
       "      <td>-2.60000</td>\n",
       "      <td>-78.66600</td>\n",
       "      <td>Grass</td>\n",
       "    </tr>\n",
       "    <tr>\n",
       "      <th>2</th>\n",
       "      <td>Aa argyrolepis</td>\n",
       "      <td>-0.18389</td>\n",
       "      <td>-78.72889</td>\n",
       "      <td>Grass</td>\n",
       "    </tr>\n",
       "    <tr>\n",
       "      <th>3</th>\n",
       "      <td>Aa argyrolepis</td>\n",
       "      <td>-0.18389</td>\n",
       "      <td>-78.72889</td>\n",
       "      <td>Grass</td>\n",
       "    </tr>\n",
       "    <tr>\n",
       "      <th>4</th>\n",
       "      <td>Aa calceata</td>\n",
       "      <td>-14.82278</td>\n",
       "      <td>-68.19111</td>\n",
       "      <td>Shrub</td>\n",
       "    </tr>\n",
       "  </tbody>\n",
       "</table>\n",
       "</div>"
      ],
      "text/plain": [
       "      speciesname  decimallatitude  decimallongitude    pft\n",
       "0  Aa argyrolepis         -0.66600         -78.50000  Grass\n",
       "1  Aa argyrolepis         -2.60000         -78.66600  Grass\n",
       "2  Aa argyrolepis         -0.18389         -78.72889  Grass\n",
       "3  Aa argyrolepis         -0.18389         -78.72889  Grass\n",
       "4     Aa calceata        -14.82278         -68.19111  Shrub"
      ]
     },
     "execution_count": 8,
     "metadata": {},
     "output_type": "execute_result"
    }
   ],
   "source": [
    "gbif_pfts = dd.read_parquet(gbif_prep_dir / \"gbif_pfts.parquet\")\n",
    "gbif_pfts.head()"
   ]
  },
  {
   "cell_type": "code",
   "execution_count": 17,
   "metadata": {},
   "outputs": [
    {
     "name": "stdout",
     "output_type": "stream",
     "text": [
      "Species matched from GBIF: 28.17%\n",
      "Species matched from PFTS: 80.00%\n"
     ]
    }
   ],
   "source": [
    "unique_species_gbif_pfts = gbif_pfts.speciesname.nunique().compute()\n",
    "unique_species_gbif = ddf.species.str.extract(\n",
    "    \"([A-Za-z]+ [A-Za-z]+)\", expand=False\n",
    ").nunique().compute()\n",
    "unique_species_pfts = pfts.AccSpeciesName.str.extract(\n",
    "    \"([A-Za-z]+ [A-Za-z]+)\", expand=False\n",
    ").nunique().compute()\n",
    "\n",
    "print(\n",
    "    f\"Species matched from GBIF: {unique_species_gbif_pfts / unique_species_gbif:.2%}\"\n",
    ")\n",
    "print(\n",
    "    f\"Species matched from PFTS: {unique_species_gbif_pfts / unique_species_pfts:.2%}\"\n",
    ")"
   ]
  },
  {
   "cell_type": "code",
   "execution_count": 18,
   "metadata": {},
   "outputs": [
    {
     "name": "stdout",
     "output_type": "stream",
     "text": [
      "Total number of species: 88,516\n"
     ]
    }
   ],
   "source": [
    "print(f\"Total number of species: {unique_species_gbif_pfts:,}\")"
   ]
  },
  {
   "cell_type": "markdown",
   "metadata": {},
   "source": [
    "## Subsample GBIF data with a regular hexagonal grid"
   ]
  },
  {
   "cell_type": "markdown",
   "metadata": {},
   "source": [
    "One issue with the GBIF data is that species occurrences are obtained opportunistically and [tend to be clustered toward the global north](https://www.gbif.org/occurrence/map?occurrence_status=present). To reduce this sampling bias such that our GBIF data is more spatially balanced, we can subsampled the data by first binning it into equally spaced hexagons and then selecting a maximum number of observations from each hexagon."
   ]
  },
  {
   "cell_type": "code",
   "execution_count": 9,
   "metadata": {},
   "outputs": [],
   "source": [
    "def lat_lon_to_hex(lat: float, lon: float, resolution: int | float = 0.5):\n",
    "    return h3.geo_to_h3(lat, lon, resolution)\n",
    "\n",
    "\n",
    "def apply_hex_to_partition(df):\n",
    "    return df.assign(\n",
    "        hex=lat_lon_to_hex_vectorized(\n",
    "            df.decimallatitude, df.decimallongitude, resolution=4\n",
    "        )\n",
    "    )\n",
    "\n",
    "def sample_partition(df, n_samples=10000):\n",
    "    return df.groupby(level=0).apply(\n",
    "        lambda group: group if len(group) <= n_samples else group.sample(n_samples)\n",
    "    )\n",
    "\n",
    "# subsample the data first for testing\n",
    "gbif_pfts = gbif_pfts.sample(frac=0.1)\n",
    "\n",
    "# Vectorize the function\n",
    "lat_lon_to_hex_vectorized = np.vectorize(lat_lon_to_hex)\n",
    "\n",
    "meta = gbif_pfts._meta.assign(hex=pd.Series(dtype=\"object\"))\n",
    "\n",
    "# Apply the function to each partition\n",
    "gbif_pfts = gbif_pfts.map_partitions(apply_hex_to_partition, meta=meta).persist()\n",
    "\n",
    "\n",
    "gbif_pfts = gbif_pfts.set_index(\"hex\", npartitions=180)\n",
    "\n",
    "meta = gbif_pfts._meta_nonempty.sample(0)\n",
    "\n",
    "subsampled_gbif_pfts = gbif_pfts.map_partitions(\n",
    "    sample_partition, n_samples=1000, meta=meta\n",
    ").compute()"
   ]
  },
  {
   "cell_type": "markdown",
   "metadata": {},
   "source": [
    "As we can see, with a grid size of 4 degrees and a sample size of 1,000 occurrences per grid cell, we've reduced the number of occurrences to ~19%.  If everything went well, we should have the same number of hex cells in the original gbif_pfts dataframe as in the subsampled dataframe. We should also see a maximum of 1,000 occurrences in the hex bins."
   ]
  },
  {
   "cell_type": "code",
   "execution_count": 15,
   "metadata": {},
   "outputs": [
    {
     "data": {
      "text/plain": [
       "0.18786533327592"
      ]
     },
     "execution_count": 15,
     "metadata": {},
     "output_type": "execute_result"
    }
   ],
   "source": [
    "subsampled_gbif_pfts.reset_index(drop=True).shape[0] / gbif_pfts.shape[0].compute()"
   ]
  },
  {
   "cell_type": "code",
   "execution_count": 19,
   "metadata": {},
   "outputs": [
    {
     "data": {
      "text/plain": [
       "59641"
      ]
     },
     "execution_count": 19,
     "metadata": {},
     "output_type": "execute_result"
    }
   ],
   "source": [
    "gbif_pfts.reset_index().hex.nunique().compute() "
   ]
  },
  {
   "cell_type": "code",
   "execution_count": 30,
   "metadata": {},
   "outputs": [
    {
     "data": {
      "text/plain": [
       "59641"
      ]
     },
     "execution_count": 30,
     "metadata": {},
     "output_type": "execute_result"
    }
   ],
   "source": [
    "subsampled_gbif_pfts.reset_index(level=0).reset_index(drop=True).hex.nunique()"
   ]
  },
  {
   "cell_type": "code",
   "execution_count": 39,
   "metadata": {},
   "outputs": [
    {
     "name": "stdout",
     "output_type": "stream",
     "text": [
      "Average number of occurrences per hex bin: 139.94\n",
      "Maximum number of occurrences per hex bin: 1,000\n"
     ]
    }
   ],
   "source": [
    "print(\n",
    "    \"Average number of occurrences per hex bin: \"\n",
    "    f\"{subsampled_gbif_pfts.reset_index(level=0).groupby(level=0).size().mean():.2f}\"\n",
    ")\n",
    "\n",
    "print(\n",
    "    \"Maximum number of occurrences per hex bin: \"\n",
    "    f\"{subsampled_gbif_pfts.reset_index(level=0).groupby(level=0).size().max():,}\"\n",
    ")"
   ]
  }
 ],
 "metadata": {
  "kernelspec": {
   "display_name": "Python 3",
   "language": "python",
   "name": "python3"
  },
  "language_info": {
   "codemirror_mode": {
    "name": "ipython",
    "version": 3
   },
   "file_extension": ".py",
   "mimetype": "text/x-python",
   "name": "python",
   "nbconvert_exporter": "python",
   "pygments_lexer": "ipython3",
   "version": "3.12.2"
  }
 },
 "nbformat": 4,
 "nbformat_minor": 2
}
