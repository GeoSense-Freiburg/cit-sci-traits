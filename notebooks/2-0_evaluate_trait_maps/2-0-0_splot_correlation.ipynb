{
 "cells": [
  {
   "cell_type": "markdown",
   "metadata": {},
   "source": [
    "# 2.0.0: Trait map correlation with sPlot sparse grids"
   ]
  },
  {
   "cell_type": "markdown",
   "metadata": {},
   "source": [
    "On a global scale, sPlot is one of the best benchmarks we have when evaluating the accuracy of trait extrapolations. A simple way of evaluating the quality of our models is to calculate the correlation between the extrapolated trait values and the corresponding gridded sPlot trait values using Pearson's correlation coefficient. However, since our values are stored in geographic coordinates, we should make sure to weight each value according to its grid cell's actual area on Earth."
   ]
  },
  {
   "cell_type": "markdown",
   "metadata": {},
   "source": [
    "## Imports and config"
   ]
  },
  {
   "cell_type": "code",
   "execution_count": 1,
   "metadata": {},
   "outputs": [],
   "source": [
    "from pathlib import Path\n",
    "\n",
    "import pandas as pd\n",
    "import rioxarray as riox\n",
    "import statsmodels.api as sm\n",
    "import xarray as xr\n",
    "from pyproj import Proj\n",
    "from shapely.geometry import shape\n",
    "\n",
    "from src.conf.conf import get_config\n",
    "from src.conf.environment import log\n",
    "\n",
    "cfg = get_config()"
   ]
  },
  {
   "cell_type": "markdown",
   "metadata": {},
   "source": [
    "## Define latitude weights"
   ]
  },
  {
   "cell_type": "code",
   "execution_count": 7,
   "metadata": {},
   "outputs": [],
   "source": [
    "def lat_weights(lat_unique: pd.Series, deg: int | float) -> dict:\n",
    "    \"\"\"Calculate weights for each latitude band based on area of grid cells.\"\"\"\n",
    "\n",
    "    weights = {}\n",
    "\n",
    "    for j in lat_unique:\n",
    "        p1 = (0, j + (deg / 2))\n",
    "        p2 = (deg, j + (deg / 2))\n",
    "        p3 = (deg, j - (deg / 2))\n",
    "        p4 = (0, j - (deg / 2))\n",
    "        co = {\"type\": \"Polygon\", \"coordinates\": [[p1, p2, p3, p4]]}\n",
    "\n",
    "        lat_1 = p1[1]\n",
    "        lat_2 = p3[1] if abs(p1[1] + p3[1]) >= abs(p1[1]) + abs(p3[1]) else 0\n",
    "        lat_0 = (lat_1 + lat_2) / 2\n",
    "        lon_0 = deg / 2\n",
    "\n",
    "        print(lat_1, lat_2, lat_0, lon_0)\n",
    "\n",
    "        projection_string = (\n",
    "            f\"+proj=aea +lat_1={lat_1} +lat_2={lat_2} +lat_0={lat_0} +lon_0={lon_0}\"\n",
    "        )\n",
    "        pa = Proj(projection_string)\n",
    "        lon, lat = zip(*co[\"coordinates\"][0])\n",
    "        x, y = pa(lon, lat)\n",
    "        cop = {\"type\": \"Polygon\", \"coordinates\": [list(zip(x, y))]}\n",
    "\n",
    "        area = shape(cop).area / 1000000  # Convert to square kilometers\n",
    "        weights[j] = area\n",
    "\n",
    "    max_area = max(weights.values())\n",
    "    weights = {k: v / max_area for k, v in weights.items()}\n",
    "\n",
    "    return weights"
   ]
  },
  {
   "cell_type": "code",
   "execution_count": 11,
   "metadata": {},
   "outputs": [],
   "source": [
    "def lat_weights(lat_unique: pd.Series, deg: int | float) -> dict:\n",
    "    \"\"\"Calculate weights for each latitude band based on area of grid cells.\"\"\"\n",
    "    weights = {}\n",
    "\n",
    "    for j in lat_unique:\n",
    "        # Define the corners of the grid cell\n",
    "        p1 = (0, j + (deg / 2))\n",
    "        p2 = (deg, j + (deg / 2))\n",
    "        p3 = (deg, j - (deg / 2))\n",
    "        p4 = (0, j - (deg / 2))\n",
    "        co = {\"type\": \"Polygon\", \"coordinates\": [[p1, p2, p3, p4]]}\n",
    "\n",
    "        # Use the average latitude for the projection's central latitude\n",
    "        lat_0 = j\n",
    "        lon_0 = deg / 2\n",
    "\n",
    "        # Define the projection string using the average latitude\n",
    "        projection_string = (\n",
    "            f\"+proj=aea +lat_1={p1[1]} +lat_2={p3[1]} +lat_0={lat_0} +lon_0={lon_0}\"\n",
    "        )\n",
    "        pa = Proj(projection_string)\n",
    "        lon, lat = zip(*co[\"coordinates\"][0])\n",
    "        x, y = pa(lon, lat)\n",
    "        cop = {\"type\": \"Polygon\", \"coordinates\": [list(zip(x, y))]}\n",
    "\n",
    "        # Calculate the area of the grid cell in square kilometers\n",
    "        area = shape(cop).area / 1000000\n",
    "        weights[j] = area\n",
    "\n",
    "    # Normalize the weights by the maximum area\n",
    "    max_area = max(weights.values())\n",
    "    weights = {k: v / max_area for k, v in weights.items()}\n",
    "\n",
    "    return weights"
   ]
  },
  {
   "cell_type": "markdown",
   "metadata": {},
   "source": [
    "## Calculate weighted $r$"
   ]
  },
  {
   "cell_type": "code",
   "execution_count": 3,
   "metadata": {},
   "outputs": [],
   "source": [
    "def weighted_pearson_r(df: pd.DataFrame, weights: dict) -> float:\n",
    "    \"\"\"Calculate the weighted Pearson correlation coefficient between two DataFrames.\"\"\"\n",
    "\n",
    "    df[\"weights\"] = df.index.get_level_values(\"y\").map(weights)\n",
    "\n",
    "    model = sm.stats.DescrStatsW(df.iloc[:, :2], df[\"weights\"])\n",
    "    return model.corrcoef[0, 1]"
   ]
  },
  {
   "cell_type": "markdown",
   "metadata": {},
   "source": [
    "## Load the data"
   ]
  },
  {
   "cell_type": "code",
   "execution_count": 4,
   "metadata": {},
   "outputs": [],
   "source": [
    "splot_fns = sorted(\n",
    "    list(\n",
    "        Path(\n",
    "            cfg.interim_dir,\n",
    "            cfg.splot.interim.dir,\n",
    "            cfg.splot.interim.traits,\n",
    "            cfg.PFT,\n",
    "            cfg.model_res,\n",
    "        ).glob(\"*.tif\")\n",
    "    ),\n",
    "    key=lambda x: int(x.stem.split(\"X\")[-1]),\n",
    ")\n",
    "extrap_fns = sorted(\n",
    "    list(\n",
    "        Path(\n",
    "            cfg.processed.dir,\n",
    "            cfg.PFT,\n",
    "            cfg.model_res,\n",
    "            cfg.datasets.Y.use,\n",
    "            cfg.processed.predict_dir,\n",
    "        ).glob(\"*.tif\")\n",
    "    ),\n",
    "    key=lambda x: int(x.stem.split(\"_\")[0].split(\"X\")[-1]),\n",
    ")"
   ]
  },
  {
   "cell_type": "code",
   "execution_count": 12,
   "metadata": {},
   "outputs": [
    {
     "name": "stderr",
     "output_type": "stream",
     "text": [
      "2024-06-17 14:43:21 UTC - src.conf.environment - INFO - Loading and filtering data...\n"
     ]
    },
    {
     "name": "stderr",
     "output_type": "stream",
     "text": [
      "2024-06-17 14:43:48 UTC - src.conf.environment - INFO - Joining dataframes...\n",
      "2024-06-17 14:44:20 UTC - src.conf.environment - INFO - Calculating weights...\n",
      "2024-06-17 14:44:23 UTC - src.conf.environment - INFO - Calculating weighted Pearson correlation coefficient...\n",
      "2024-06-17 14:44:23 UTC - src.conf.environment - INFO - Weighted Pearson correlation coefficient: 0.5984358563948847\n"
     ]
    }
   ],
   "source": [
    "# nchunks = 6\n",
    "# x_chunks = (360 / cfg.target_resolution) // nchunks\n",
    "# y_chunks = (180 / cfg.target_resolution) // nchunks\n",
    "# chunks = {\"x\": x_chunks, \"y\": y_chunks}\n",
    "\n",
    "for splot_fn, extrap_fn in zip(splot_fns[:1], extrap_fns[:1]):\n",
    "    log.info(\"Loading and filtering data...\")\n",
    "    splot = (\n",
    "        riox.open_rasterio(splot_fn)\n",
    "        .sel(band=1)\n",
    "        .to_dataframe(name=f\"splot_{splot_fn.stem}\")\n",
    "        .drop(columns=[\"band\", \"spatial_ref\"])\n",
    "        .dropna()\n",
    "    )\n",
    "    extrap = (\n",
    "        riox.open_rasterio(extrap_fn)\n",
    "        .sel(band=1)\n",
    "        .to_dataframe(name=f\"extrap_{extrap_fn.stem}\")\n",
    "        .drop(columns=[\"band\", \"spatial_ref\"])\n",
    "        .dropna()\n",
    "    )\n",
    "    log.info(\"Joining dataframes...\")\n",
    "    df = splot.join(extrap, how=\"inner\")\n",
    "\n",
    "    lat_unique = df.index.get_level_values(\"y\").unique().values()\n",
    "\n",
    "    log.info(\"Calculating weights...\")\n",
    "    weights = lat_weights(lat_unique, cfg.target_resolution)\n",
    "\n",
    "    log.info(\"Calculating weighted Pearson correlation coefficient...\")\n",
    "    r = weighted_pearson_r(df, weights)\n",
    "    log.info(f\"Weighted Pearson correlation coefficient: {r}\")"
   ]
  }
 ],
 "metadata": {
  "kernelspec": {
   "display_name": "Python 3",
   "language": "python",
   "name": "python3"
  },
  "language_info": {
   "codemirror_mode": {
    "name": "ipython",
    "version": 3
   },
   "file_extension": ".py",
   "mimetype": "text/x-python",
   "name": "python",
   "nbconvert_exporter": "python",
   "pygments_lexer": "ipython3",
   "version": "3.11.9"
  }
 },
 "nbformat": 4,
 "nbformat_minor": 2
}
