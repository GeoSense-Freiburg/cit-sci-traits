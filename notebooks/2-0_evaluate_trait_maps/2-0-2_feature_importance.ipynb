{
 "cells": [
  {
   "cell_type": "markdown",
   "metadata": {},
   "source": [
    "# 2.0.2: Feature importances"
   ]
  },
  {
   "cell_type": "markdown",
   "metadata": {},
   "source": [
    "To understand the influence of certain predictors and datasets on model success, we can retrieve the feature importances from trained models. Knowing feature importance is also crucial when assessing the Area of Applicabilty (Meyer and Pebesma, 2022)."
   ]
  },
  {
   "cell_type": "markdown",
   "metadata": {},
   "source": [
    "## Imports and config"
   ]
  },
  {
   "cell_type": "code",
   "execution_count": 36,
   "metadata": {},
   "outputs": [],
   "source": [
    "import joblib\n",
    "from pathlib import Path\n",
    "\n",
    "import dask.dataframe as dd\n",
    "import pandas as pd\n",
    "from autogluon.tabular import TabularDataset, TabularPredictor\n",
    "\n",
    "from src.conf.conf import get_config\n",
    "from src.conf.environment import log\n",
    "from src.utils.autogluon_utils import get_best_model_ag\n",
    "from src.utils.dataset_utils import (\n",
    "    get_models_dir,\n",
    "    get_cv_models_dir,\n",
    "    get_train_fn,\n",
    "    get_cv_splits,\n",
    ")\n",
    "\n",
    "cfg = get_config()"
   ]
  },
  {
   "cell_type": "markdown",
   "metadata": {},
   "source": [
    "In order to retrieve feature importances (FI) from an Autogluon `TabularPredictor`, we can simply call `TabularPredictor.feature_importance()`. However, we must take two considerations when calculating FI:\n",
    "\n",
    "1. FI should be calculated from data not seen during model training to avoid bias due to overfitting.\n",
    "1. To properly assess FI with cross-validation, FI scores should be taken from each cross-validation fold model and calculated from the respective held-out folds."
   ]
  },
  {
   "cell_type": "markdown",
   "metadata": {},
   "source": [
    "## Prepare the cross-validation models"
   ]
  },
  {
   "cell_type": "code",
   "execution_count": 14,
   "metadata": {},
   "outputs": [],
   "source": [
    "models_dir: Path = get_models_dir(cfg)\n",
    "model_runs_dir: Path = [d for d in models_dir.iterdir() if d.is_dir()][0]\n",
    "model_dir = get_best_model_ag(model_runs_dir)\n",
    "model = TabularPredictor.load(str(model_dir))\n",
    "\n",
    "cv_models = get_cv_models_dir(model)"
   ]
  },
  {
   "cell_type": "markdown",
   "metadata": {},
   "source": [
    "## Load train data and CV splits"
   ]
  },
  {
   "cell_type": "markdown",
   "metadata": {},
   "source": [
    "Load full training data and drop all Y columns except that of the current model."
   ]
  },
  {
   "cell_type": "code",
   "execution_count": 30,
   "metadata": {},
   "outputs": [],
   "source": [
    "full_train = dd.read_parquet(get_train_fn(cfg)).drop(columns=[\"x\", \"y\"])\n",
    "y_cols = full_train.columns[full_train.columns.str.startswith(\"X\")].to_list()\n",
    "# Select y col that matches current model\n",
    "y_col = [y for y in y_cols if y == model.label][0]\n",
    "\n",
    "if y_col is None:\n",
    "    raise ValueError(f\"Could not find y column for model {model.label}\")\n",
    "\n",
    "x_cols = full_train.columns[~full_train.columns.str.startswith(\"X\")].to_list()\n",
    "full_train = full_train[x_cols + [y_col]].compute().reset_index(drop=True)"
   ]
  },
  {
   "cell_type": "markdown",
   "metadata": {},
   "source": [
    "Load the CV splits and apply them to `full_train`."
   ]
  },
  {
   "cell_type": "code",
   "execution_count": 34,
   "metadata": {},
   "outputs": [],
   "source": [
    "cv_splits = get_cv_splits(cfg, model.label)\n",
    "\n",
    "for i, (_, valid_idx) in enumerate(cv_splits):\n",
    "    full_train.loc[valid_idx, \"split\"] = i"
   ]
  },
  {
   "cell_type": "markdown",
   "metadata": {},
   "source": [
    "## Get feature importances from the held-out fold for each split"
   ]
  },
  {
   "cell_type": "code",
   "execution_count": 39,
   "metadata": {},
   "outputs": [],
   "source": [
    "for i in range(len(cv_splits)):\n",
    "    fold_model_fn = cv_models / f\"S1F{i + 1}\" / \"model.pkl\"\n",
    "    if not Path(fold_model_fn).exists():\n",
    "        raise ValueError(f\"Model {fold_model_fn} does not exist\")\n",
    "    \n",
    "    fold_model = joblib.load(fold_model_fn)\n",
    "\n",
    "    held_out = full_train[full_train[\"split\"] == i]\n",
    "\n",
    "    fold_fi = fold_model.compute_feature_importance(X=held_out[x_cols], y=held_out[y_col])\n",
    "    break"
   ]
  }
 ],
 "metadata": {
  "kernelspec": {
   "display_name": "traits-py311",
   "language": "python",
   "name": "python3"
  },
  "language_info": {
   "codemirror_mode": {
    "name": "ipython",
    "version": 3
   },
   "file_extension": ".py",
   "mimetype": "text/x-python",
   "name": "python",
   "nbconvert_exporter": "python",
   "pygments_lexer": "ipython3",
   "version": "3.11.9"
  }
 },
 "nbformat": 4,
 "nbformat_minor": 2
}
