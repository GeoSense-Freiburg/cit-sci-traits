{
 "cells": [
  {
   "cell_type": "markdown",
   "metadata": {},
   "source": [
    "# 2.0.4: Assessing the effect of sample weights on model performance"
   ]
  },
  {
   "cell_type": "markdown",
   "metadata": {},
   "source": [
    "Previously we generated sample weights based on the source of our training data (sPlot vs GBIF) to address GBIF's disportionate size in the training pool. Below we perform some rudimentary testing to examine the performance impact of including sample weights during model training."
   ]
  },
  {
   "cell_type": "markdown",
   "metadata": {},
   "source": [
    "## Imports and config"
   ]
  },
  {
   "cell_type": "code",
   "execution_count": 1,
   "metadata": {},
   "outputs": [
    {
     "name": "stdout",
     "output_type": "stream",
     "text": [
      "The autoreload extension is already loaded. To reload it, use:\n",
      "  %reload_ext autoreload\n"
     ]
    }
   ],
   "source": [
    "from autogluon.tabular import TabularPredictor\n",
    "import pandas as pd\n",
    "import dask.dataframe as dd\n",
    "\n",
    "from src.conf.conf import get_config\n",
    "from src.conf.environment import log\n",
    "from src.utils.autogluon_utils import get_best_model_ag\n",
    "from src.utils.dataset_utils import get_models_dir, get_predict_dir, get_train_fn, get_weights_fn, get_trait_maps_dir\n",
    "from src.utils.df_utils import grid_df_to_raster\n",
    "from src.utils.raster_utils import open_raster\n",
    "from src.utils.spatial_utils import weighted_pearson_r, lat_weights\n",
    "from src.utils.spatial_utils import lat_weights\n",
    "\n",
    "\n",
    "cfg = get_config()\n",
    "\n",
    "%load_ext autoreload\n",
    "%autoreload 2"
   ]
  },
  {
   "cell_type": "markdown",
   "metadata": {},
   "source": [
    "## Load model"
   ]
  },
  {
   "cell_type": "markdown",
   "metadata": {},
   "source": [
    "We will load a model that was trained on only a small fraction of the data due to time constraints."
   ]
  },
  {
   "cell_type": "code",
   "execution_count": 2,
   "metadata": {},
   "outputs": [
    {
     "name": "stdout",
     "output_type": "stream",
     "text": [
      "Using model:  models/Shrub_Tree_Grass/001/splot_gbif/autogluon/debug/X11_mean/high_20240802_080920\n"
     ]
    }
   ],
   "source": [
    "models_dir = get_models_dir(cfg) / \"debug\"\n",
    "trait_models = models_dir.glob(\"*\")\n",
    "model_fn = next(trait_models)\n",
    "model_fn = model_fn if model_fn.is_dir() else next(trait_models)\n",
    "\n",
    "model = get_best_model_ag(model_fn)\n",
    "print(\"Using model: \", model)\n",
    "predictor = TabularPredictor.load(str(model))"
   ]
  },
  {
   "cell_type": "code",
   "execution_count": 3,
   "metadata": {},
   "outputs": [
    {
     "data": {
      "text/html": [
       "<div>\n",
       "<style scoped>\n",
       "    .dataframe tbody tr th:only-of-type {\n",
       "        vertical-align: middle;\n",
       "    }\n",
       "\n",
       "    .dataframe tbody tr th {\n",
       "        vertical-align: top;\n",
       "    }\n",
       "\n",
       "    .dataframe thead th {\n",
       "        text-align: right;\n",
       "    }\n",
       "</style>\n",
       "<table border=\"1\" class=\"dataframe\">\n",
       "  <thead>\n",
       "    <tr style=\"text-align: right;\">\n",
       "      <th></th>\n",
       "      <th>model</th>\n",
       "      <th>score_val</th>\n",
       "      <th>eval_metric</th>\n",
       "      <th>pred_time_val</th>\n",
       "      <th>fit_time</th>\n",
       "      <th>pred_time_val_marginal</th>\n",
       "      <th>fit_time_marginal</th>\n",
       "      <th>stack_level</th>\n",
       "      <th>can_infer</th>\n",
       "      <th>fit_order</th>\n",
       "    </tr>\n",
       "  </thead>\n",
       "  <tbody>\n",
       "    <tr>\n",
       "      <th>0</th>\n",
       "      <td>LightGBMXT_BAG_L1</td>\n",
       "      <td>-6.726490</td>\n",
       "      <td>root_mean_squared_error</td>\n",
       "      <td>39.585630</td>\n",
       "      <td>1387.272156</td>\n",
       "      <td>39.585630</td>\n",
       "      <td>1387.272156</td>\n",
       "      <td>1</td>\n",
       "      <td>True</td>\n",
       "      <td>1</td>\n",
       "    </tr>\n",
       "    <tr>\n",
       "      <th>1</th>\n",
       "      <td>WeightedEnsemble_L2</td>\n",
       "      <td>-6.726490</td>\n",
       "      <td>root_mean_squared_error</td>\n",
       "      <td>39.630754</td>\n",
       "      <td>1387.828670</td>\n",
       "      <td>0.045125</td>\n",
       "      <td>0.556515</td>\n",
       "      <td>2</td>\n",
       "      <td>True</td>\n",
       "      <td>3</td>\n",
       "    </tr>\n",
       "    <tr>\n",
       "      <th>2</th>\n",
       "      <td>WeightedEnsemble_L3</td>\n",
       "      <td>-6.726490</td>\n",
       "      <td>root_mean_squared_error</td>\n",
       "      <td>39.631998</td>\n",
       "      <td>1387.965950</td>\n",
       "      <td>0.046368</td>\n",
       "      <td>0.693794</td>\n",
       "      <td>3</td>\n",
       "      <td>True</td>\n",
       "      <td>6</td>\n",
       "    </tr>\n",
       "    <tr>\n",
       "      <th>3</th>\n",
       "      <td>LightGBM_BAG_L2</td>\n",
       "      <td>-6.742515</td>\n",
       "      <td>root_mean_squared_error</td>\n",
       "      <td>51.854211</td>\n",
       "      <td>1852.947598</td>\n",
       "      <td>5.637207</td>\n",
       "      <td>208.342802</td>\n",
       "      <td>2</td>\n",
       "      <td>True</td>\n",
       "      <td>5</td>\n",
       "    </tr>\n",
       "    <tr>\n",
       "      <th>4</th>\n",
       "      <td>LightGBMXT_BAG_L2</td>\n",
       "      <td>-6.745320</td>\n",
       "      <td>root_mean_squared_error</td>\n",
       "      <td>60.750352</td>\n",
       "      <td>2115.974113</td>\n",
       "      <td>14.533347</td>\n",
       "      <td>471.369317</td>\n",
       "      <td>2</td>\n",
       "      <td>True</td>\n",
       "      <td>4</td>\n",
       "    </tr>\n",
       "    <tr>\n",
       "      <th>5</th>\n",
       "      <td>LightGBM_BAG_L1</td>\n",
       "      <td>-6.831939</td>\n",
       "      <td>root_mean_squared_error</td>\n",
       "      <td>6.631375</td>\n",
       "      <td>257.332640</td>\n",
       "      <td>6.631375</td>\n",
       "      <td>257.332640</td>\n",
       "      <td>1</td>\n",
       "      <td>True</td>\n",
       "      <td>2</td>\n",
       "    </tr>\n",
       "  </tbody>\n",
       "</table>\n",
       "</div>"
      ],
      "text/plain": [
       "                 model  score_val              eval_metric  pred_time_val  \\\n",
       "0    LightGBMXT_BAG_L1  -6.726490  root_mean_squared_error      39.585630   \n",
       "1  WeightedEnsemble_L2  -6.726490  root_mean_squared_error      39.630754   \n",
       "2  WeightedEnsemble_L3  -6.726490  root_mean_squared_error      39.631998   \n",
       "3      LightGBM_BAG_L2  -6.742515  root_mean_squared_error      51.854211   \n",
       "4    LightGBMXT_BAG_L2  -6.745320  root_mean_squared_error      60.750352   \n",
       "5      LightGBM_BAG_L1  -6.831939  root_mean_squared_error       6.631375   \n",
       "\n",
       "      fit_time  pred_time_val_marginal  fit_time_marginal  stack_level  \\\n",
       "0  1387.272156               39.585630        1387.272156            1   \n",
       "1  1387.828670                0.045125           0.556515            2   \n",
       "2  1387.965950                0.046368           0.693794            3   \n",
       "3  1852.947598                5.637207         208.342802            2   \n",
       "4  2115.974113               14.533347         471.369317            2   \n",
       "5   257.332640                6.631375         257.332640            1   \n",
       "\n",
       "   can_infer  fit_order  \n",
       "0       True          1  \n",
       "1       True          3  \n",
       "2       True          6  \n",
       "3       True          5  \n",
       "4       True          4  \n",
       "5       True          2  "
      ]
     },
     "execution_count": 3,
     "metadata": {},
     "output_type": "execute_result"
    }
   ],
   "source": [
    "predictor.leaderboard(silent=True)"
   ]
  },
  {
   "cell_type": "markdown",
   "metadata": {},
   "source": [
    "## Load inference data\n",
    "\n",
    "We will now load the inference data. Since our first concern is whether or not sample weights improve correlation with sPlot sparse trait data, we will only load inference data where we know we also had sPlot observations."
   ]
  },
  {
   "cell_type": "code",
   "execution_count": 4,
   "metadata": {},
   "outputs": [],
   "source": [
    "weights = dd.from_pandas(pd.read_parquet(get_weights_fn(cfg)).reset_index()).pipe(\n",
    "    lambda _ddf: _ddf[_ddf.weights == 1]  # this selects only sPlot weights\n",
    ")\n",
    "feats = dd.read_parquet(get_train_fn(cfg))\n",
    "\n",
    "inference = (\n",
    "    dd.merge(feats, weights, on=[\"x\", \"y\"], how=\"inner\")\n",
    "    .drop(columns=[\"weights\"])\n",
    "    .compute()\n",
    "    .reset_index(drop=True)\n",
    ")"
   ]
  },
  {
   "cell_type": "code",
   "execution_count": 5,
   "metadata": {},
   "outputs": [
    {
     "data": {
      "text/html": [
       "<div>\n",
       "<style scoped>\n",
       "    .dataframe tbody tr th:only-of-type {\n",
       "        vertical-align: middle;\n",
       "    }\n",
       "\n",
       "    .dataframe tbody tr th {\n",
       "        vertical-align: top;\n",
       "    }\n",
       "\n",
       "    .dataframe thead th {\n",
       "        text-align: right;\n",
       "    }\n",
       "</style>\n",
       "<table border=\"1\" class=\"dataframe\">\n",
       "  <thead>\n",
       "    <tr style=\"text-align: right;\">\n",
       "      <th></th>\n",
       "      <th>x</th>\n",
       "      <th>y</th>\n",
       "      <th>ETH_GlobalCanopyHeightSD_2020_v1</th>\n",
       "      <th>ETH_GlobalCanopyHeight_2020_v1</th>\n",
       "      <th>sur_refl_b01_2001-2024_m10_mean</th>\n",
       "      <th>sur_refl_b01_2001-2024_m11_mean</th>\n",
       "      <th>sur_refl_b01_2001-2024_m12_mean</th>\n",
       "      <th>sur_refl_b01_2001-2024_m1_mean</th>\n",
       "      <th>sur_refl_b01_2001-2024_m2_mean</th>\n",
       "      <th>sur_refl_b01_2001-2024_m3_mean</th>\n",
       "      <th>...</th>\n",
       "      <th>X224_mean</th>\n",
       "      <th>X237_mean</th>\n",
       "      <th>X281_mean</th>\n",
       "      <th>X282_mean</th>\n",
       "      <th>X289_mean</th>\n",
       "      <th>X1080_mean</th>\n",
       "      <th>X3112_mean</th>\n",
       "      <th>X3113_mean</th>\n",
       "      <th>X3114_mean</th>\n",
       "      <th>X3120_mean</th>\n",
       "    </tr>\n",
       "  </thead>\n",
       "  <tbody>\n",
       "    <tr>\n",
       "      <th>0</th>\n",
       "      <td>-175.345</td>\n",
       "      <td>-21.085</td>\n",
       "      <td>8.0</td>\n",
       "      <td>11.0</td>\n",
       "      <td>417.0</td>\n",
       "      <td>458.0</td>\n",
       "      <td>427.0</td>\n",
       "      <td>365.0</td>\n",
       "      <td>420.0</td>\n",
       "      <td>305.0</td>\n",
       "      <td>...</td>\n",
       "      <td>3.107818</td>\n",
       "      <td>13.240777</td>\n",
       "      <td>65.441620</td>\n",
       "      <td>555.043266</td>\n",
       "      <td>1538.228803</td>\n",
       "      <td>2005.007386</td>\n",
       "      <td>5243.341098</td>\n",
       "      <td>6803.984017</td>\n",
       "      <td>13709.344606</td>\n",
       "      <td>3.359820</td>\n",
       "    </tr>\n",
       "    <tr>\n",
       "      <th>1</th>\n",
       "      <td>-175.335</td>\n",
       "      <td>-21.105</td>\n",
       "      <td>9.0</td>\n",
       "      <td>15.0</td>\n",
       "      <td>545.0</td>\n",
       "      <td>564.0</td>\n",
       "      <td>667.0</td>\n",
       "      <td>575.0</td>\n",
       "      <td>530.0</td>\n",
       "      <td>465.0</td>\n",
       "      <td>...</td>\n",
       "      <td>2.840519</td>\n",
       "      <td>4.320474</td>\n",
       "      <td>41.475360</td>\n",
       "      <td>420.203514</td>\n",
       "      <td>939.411140</td>\n",
       "      <td>2959.057511</td>\n",
       "      <td>4245.471626</td>\n",
       "      <td>3023.614783</td>\n",
       "      <td>2894.802195</td>\n",
       "      <td>3.333049</td>\n",
       "    </tr>\n",
       "    <tr>\n",
       "      <th>2</th>\n",
       "      <td>-175.315</td>\n",
       "      <td>-21.165</td>\n",
       "      <td>10.0</td>\n",
       "      <td>14.0</td>\n",
       "      <td>431.0</td>\n",
       "      <td>567.0</td>\n",
       "      <td>468.0</td>\n",
       "      <td>482.0</td>\n",
       "      <td>434.0</td>\n",
       "      <td>286.0</td>\n",
       "      <td>...</td>\n",
       "      <td>3.258127</td>\n",
       "      <td>10.030351</td>\n",
       "      <td>54.316275</td>\n",
       "      <td>534.522312</td>\n",
       "      <td>1276.222195</td>\n",
       "      <td>2943.860841</td>\n",
       "      <td>4755.826745</td>\n",
       "      <td>4371.802828</td>\n",
       "      <td>7896.880415</td>\n",
       "      <td>3.755575</td>\n",
       "    </tr>\n",
       "    <tr>\n",
       "      <th>3</th>\n",
       "      <td>-175.305</td>\n",
       "      <td>-21.145</td>\n",
       "      <td>7.0</td>\n",
       "      <td>12.0</td>\n",
       "      <td>505.0</td>\n",
       "      <td>515.0</td>\n",
       "      <td>571.0</td>\n",
       "      <td>465.0</td>\n",
       "      <td>459.0</td>\n",
       "      <td>454.0</td>\n",
       "      <td>...</td>\n",
       "      <td>3.339594</td>\n",
       "      <td>11.461425</td>\n",
       "      <td>63.559805</td>\n",
       "      <td>492.361070</td>\n",
       "      <td>1299.387527</td>\n",
       "      <td>2077.620478</td>\n",
       "      <td>5787.809759</td>\n",
       "      <td>6588.912343</td>\n",
       "      <td>11914.602533</td>\n",
       "      <td>3.559118</td>\n",
       "    </tr>\n",
       "    <tr>\n",
       "      <th>4</th>\n",
       "      <td>-175.295</td>\n",
       "      <td>-21.155</td>\n",
       "      <td>7.0</td>\n",
       "      <td>7.0</td>\n",
       "      <td>511.0</td>\n",
       "      <td>570.0</td>\n",
       "      <td>567.0</td>\n",
       "      <td>480.0</td>\n",
       "      <td>457.0</td>\n",
       "      <td>436.0</td>\n",
       "      <td>...</td>\n",
       "      <td>3.150806</td>\n",
       "      <td>7.828414</td>\n",
       "      <td>51.288306</td>\n",
       "      <td>417.311839</td>\n",
       "      <td>932.916827</td>\n",
       "      <td>2347.639714</td>\n",
       "      <td>5849.237594</td>\n",
       "      <td>5938.183091</td>\n",
       "      <td>10485.350612</td>\n",
       "      <td>3.523358</td>\n",
       "    </tr>\n",
       "  </tbody>\n",
       "</table>\n",
       "<p>5 rows × 185 columns</p>\n",
       "</div>"
      ],
      "text/plain": [
       "         x       y  ETH_GlobalCanopyHeightSD_2020_v1  \\\n",
       "0 -175.345 -21.085                               8.0   \n",
       "1 -175.335 -21.105                               9.0   \n",
       "2 -175.315 -21.165                              10.0   \n",
       "3 -175.305 -21.145                               7.0   \n",
       "4 -175.295 -21.155                               7.0   \n",
       "\n",
       "   ETH_GlobalCanopyHeight_2020_v1  sur_refl_b01_2001-2024_m10_mean  \\\n",
       "0                            11.0                            417.0   \n",
       "1                            15.0                            545.0   \n",
       "2                            14.0                            431.0   \n",
       "3                            12.0                            505.0   \n",
       "4                             7.0                            511.0   \n",
       "\n",
       "   sur_refl_b01_2001-2024_m11_mean  sur_refl_b01_2001-2024_m12_mean  \\\n",
       "0                            458.0                            427.0   \n",
       "1                            564.0                            667.0   \n",
       "2                            567.0                            468.0   \n",
       "3                            515.0                            571.0   \n",
       "4                            570.0                            567.0   \n",
       "\n",
       "   sur_refl_b01_2001-2024_m1_mean  sur_refl_b01_2001-2024_m2_mean  \\\n",
       "0                           365.0                           420.0   \n",
       "1                           575.0                           530.0   \n",
       "2                           482.0                           434.0   \n",
       "3                           465.0                           459.0   \n",
       "4                           480.0                           457.0   \n",
       "\n",
       "   sur_refl_b01_2001-2024_m3_mean  ...  X224_mean  X237_mean  X281_mean  \\\n",
       "0                           305.0  ...   3.107818  13.240777  65.441620   \n",
       "1                           465.0  ...   2.840519   4.320474  41.475360   \n",
       "2                           286.0  ...   3.258127  10.030351  54.316275   \n",
       "3                           454.0  ...   3.339594  11.461425  63.559805   \n",
       "4                           436.0  ...   3.150806   7.828414  51.288306   \n",
       "\n",
       "    X282_mean    X289_mean   X1080_mean   X3112_mean   X3113_mean  \\\n",
       "0  555.043266  1538.228803  2005.007386  5243.341098  6803.984017   \n",
       "1  420.203514   939.411140  2959.057511  4245.471626  3023.614783   \n",
       "2  534.522312  1276.222195  2943.860841  4755.826745  4371.802828   \n",
       "3  492.361070  1299.387527  2077.620478  5787.809759  6588.912343   \n",
       "4  417.311839   932.916827  2347.639714  5849.237594  5938.183091   \n",
       "\n",
       "     X3114_mean  X3120_mean  \n",
       "0  13709.344606    3.359820  \n",
       "1   2894.802195    3.333049  \n",
       "2   7896.880415    3.755575  \n",
       "3  11914.602533    3.559118  \n",
       "4  10485.350612    3.523358  \n",
       "\n",
       "[5 rows x 185 columns]"
      ]
     },
     "execution_count": 5,
     "metadata": {},
     "output_type": "execute_result"
    }
   ],
   "source": [
    "inference.head()"
   ]
  },
  {
   "cell_type": "markdown",
   "metadata": {},
   "source": [
    "## Make prediction"
   ]
  },
  {
   "cell_type": "code",
   "execution_count": 6,
   "metadata": {},
   "outputs": [],
   "source": [
    "xy = inference[[\"x\", \"y\"]]\n",
    "prediction = predictor.predict(inference, as_pandas=True)\n",
    "prediction = pd.concat([xy, prediction], axis=1).set_index([\"y\", \"x\"])"
   ]
  },
  {
   "cell_type": "markdown",
   "metadata": {},
   "source": [
    "## Rasterize prediction"
   ]
  },
  {
   "cell_type": "code",
   "execution_count": 7,
   "metadata": {},
   "outputs": [],
   "source": [
    "out_dir = get_predict_dir(cfg) / \"debug\"\n",
    "out_dir.mkdir(exist_ok=True, parents=True)\n",
    "\n",
    "out_fn = out_dir / f\"{model.parent.stem}.tif\"\n",
    "\n",
    "raster = grid_df_to_raster(\n",
    "    prediction, res=cfg.target_resolution, out=out_fn\n",
    ")"
   ]
  },
  {
   "cell_type": "markdown",
   "metadata": {},
   "source": [
    "## Compare weighted vs unweighted predictions"
   ]
  },
  {
   "cell_type": "markdown",
   "metadata": {},
   "source": [
    "Load **original sparse sPlot traits**."
   ]
  },
  {
   "cell_type": "code",
   "execution_count": 8,
   "metadata": {},
   "outputs": [],
   "source": [
    "dropcols = [\"band\", \"spatial_ref\"]"
   ]
  },
  {
   "cell_type": "code",
   "execution_count": 9,
   "metadata": {},
   "outputs": [],
   "source": [
    "splot_fn = get_trait_maps_dir(cfg, \"splot\") / f\"{model_fn.stem.split('_')[0]}.tif\"\n",
    "splot = (\n",
    "    open_raster(splot_fn)\n",
    "    .sel(band=cfg.datasets.Y.trait_stat)\n",
    "    .to_dataframe(name=\"splot\")\n",
    "    .drop(columns=dropcols)\n",
    "    .dropna()\n",
    ")"
   ]
  },
  {
   "cell_type": "markdown",
   "metadata": {},
   "source": [
    "Load prediction made with **unweighted samples**."
   ]
  },
  {
   "cell_type": "code",
   "execution_count": 10,
   "metadata": {},
   "outputs": [],
   "source": [
    "unweighted = (\n",
    "    open_raster(get_predict_dir(cfg) / f\"{model_fn.stem}.tif\")\n",
    "    .sel(band=1)\n",
    "    .to_dataframe(name=\"unweighted\")\n",
    "    .drop(columns=dropcols)\n",
    "    .dropna()\n",
    ")"
   ]
  },
  {
   "cell_type": "markdown",
   "metadata": {},
   "source": [
    "Load prediction made with **weighted samples**."
   ]
  },
  {
   "cell_type": "code",
   "execution_count": 11,
   "metadata": {},
   "outputs": [],
   "source": [
    "weighted = (\n",
    "    open_raster(out_fn)\n",
    "    .sel(band=1)\n",
    "    .to_dataframe(name=\"weighted\")\n",
    "    .drop(columns=dropcols)\n",
    "    .dropna()\n",
    ")"
   ]
  },
  {
   "cell_type": "markdown",
   "metadata": {},
   "source": [
    "### Calculate sPlot correlations using Pearson's *r*."
   ]
  },
  {
   "cell_type": "markdown",
   "metadata": {},
   "source": [
    "Join splot and unweighted."
   ]
  },
  {
   "cell_type": "code",
   "execution_count": 12,
   "metadata": {},
   "outputs": [],
   "source": [
    "splot_unweighted = splot.join(unweighted, how=\"inner\")\n",
    "splot_weighted = splot.join(weighted, how=\"inner\")"
   ]
  },
  {
   "cell_type": "markdown",
   "metadata": {},
   "source": [
    "Calculate latitude weights."
   ]
  },
  {
   "cell_type": "code",
   "execution_count": 13,
   "metadata": {},
   "outputs": [],
   "source": [
    "lat_unique = splot_unweighted.index.get_level_values(\"y\").unique()\n",
    "weights = lat_weights(lat_unique, cfg.target_resolution)"
   ]
  },
  {
   "cell_type": "markdown",
   "metadata": {},
   "source": [
    "And finally calculate and compare the weighted Pearson correlation coefficients."
   ]
  },
  {
   "cell_type": "code",
   "execution_count": 14,
   "metadata": {},
   "outputs": [
    {
     "name": "stdout",
     "output_type": "stream",
     "text": [
      "r (unweighted): 0.6013233545903542\n",
      "r (weighted): 0.6573193892105225\n"
     ]
    }
   ],
   "source": [
    "r_unweighted = weighted_pearson_r(splot_unweighted, weights)\n",
    "r_weighted = weighted_pearson_r(splot_weighted, weights)\n",
    "\n",
    "print(f\"r (unweighted): {r_unweighted}\")\n",
    "print(f\"r (weighted): {r_weighted}\")"
   ]
  },
  {
   "cell_type": "markdown",
   "metadata": {},
   "source": [
    "## Compare other performance metrics"
   ]
  },
  {
   "cell_type": "code",
   "execution_count": 15,
   "metadata": {},
   "outputs": [
    {
     "data": {
      "text/html": [
       "<div>\n",
       "<style scoped>\n",
       "    .dataframe tbody tr th:only-of-type {\n",
       "        vertical-align: middle;\n",
       "    }\n",
       "\n",
       "    .dataframe tbody tr th {\n",
       "        vertical-align: top;\n",
       "    }\n",
       "\n",
       "    .dataframe thead th {\n",
       "        text-align: right;\n",
       "    }\n",
       "</style>\n",
       "<table border=\"1\" class=\"dataframe\">\n",
       "  <thead>\n",
       "    <tr style=\"text-align: right;\">\n",
       "      <th></th>\n",
       "      <th>root_mean_squared_error</th>\n",
       "      <th>mean_squared_error</th>\n",
       "      <th>mean_absolute_error</th>\n",
       "      <th>r2</th>\n",
       "      <th>pearsonr</th>\n",
       "      <th>median_absolute_error</th>\n",
       "      <th>norm_root_mean_squared_error</th>\n",
       "    </tr>\n",
       "    <tr>\n",
       "      <th>idx</th>\n",
       "      <th></th>\n",
       "      <th></th>\n",
       "      <th></th>\n",
       "      <th></th>\n",
       "      <th></th>\n",
       "      <th></th>\n",
       "      <th></th>\n",
       "    </tr>\n",
       "  </thead>\n",
       "  <tbody>\n",
       "    <tr>\n",
       "      <th>unw_mean</th>\n",
       "      <td>-6.559402</td>\n",
       "      <td>-43.043923</td>\n",
       "      <td>-4.826946</td>\n",
       "      <td>0.246041</td>\n",
       "      <td>0.496308</td>\n",
       "      <td>-3.716623</td>\n",
       "      <td>-0.111703</td>\n",
       "    </tr>\n",
       "    <tr>\n",
       "      <th>w_mean</th>\n",
       "      <td>-5.905897</td>\n",
       "      <td>-34.911147</td>\n",
       "      <td>-4.306712</td>\n",
       "      <td>0.262391</td>\n",
       "      <td>0.466459</td>\n",
       "      <td>-3.276779</td>\n",
       "      <td>-0.100575</td>\n",
       "    </tr>\n",
       "    <tr>\n",
       "      <th>unw_std</th>\n",
       "      <td>0.142945</td>\n",
       "      <td>1.868891</td>\n",
       "      <td>0.127109</td>\n",
       "      <td>0.025733</td>\n",
       "      <td>0.026194</td>\n",
       "      <td>0.133616</td>\n",
       "      <td>0.002434</td>\n",
       "    </tr>\n",
       "    <tr>\n",
       "      <th>w_std</th>\n",
       "      <td>0.187178</td>\n",
       "      <td>2.233136</td>\n",
       "      <td>0.143684</td>\n",
       "      <td>0.029128</td>\n",
       "      <td>0.018593</td>\n",
       "      <td>0.139431</td>\n",
       "      <td>0.003188</td>\n",
       "    </tr>\n",
       "  </tbody>\n",
       "</table>\n",
       "</div>"
      ],
      "text/plain": [
       "          root_mean_squared_error  mean_squared_error  mean_absolute_error  \\\n",
       "idx                                                                          \n",
       "unw_mean                -6.559402          -43.043923            -4.826946   \n",
       "w_mean                  -5.905897          -34.911147            -4.306712   \n",
       "unw_std                  0.142945            1.868891             0.127109   \n",
       "w_std                    0.187178            2.233136             0.143684   \n",
       "\n",
       "                r2  pearsonr  median_absolute_error  \\\n",
       "idx                                                   \n",
       "unw_mean  0.246041  0.496308              -3.716623   \n",
       "w_mean    0.262391  0.466459              -3.276779   \n",
       "unw_std   0.025733  0.026194               0.133616   \n",
       "w_std     0.029128  0.018593               0.139431   \n",
       "\n",
       "          norm_root_mean_squared_error  \n",
       "idx                                     \n",
       "unw_mean                     -0.111703  \n",
       "w_mean                       -0.100575  \n",
       "unw_std                       0.002434  \n",
       "w_std                         0.003188  "
      ]
     },
     "execution_count": 15,
     "metadata": {},
     "output_type": "execute_result"
    }
   ],
   "source": [
    "unweighted_perf = (\n",
    "    pd.read_csv(\n",
    "        get_best_model_ag(get_models_dir(cfg) / model_fn.name) / cfg.train.eval_results\n",
    "    )\n",
    "    .assign(idx=[\"unw_mean\", \"unw_std\"])\n",
    "    .set_index(\"idx\")\n",
    ")\n",
    "\n",
    "weighted_perf = (\n",
    "    pd.read_csv(model / cfg.train.eval_results, index_col=0)\n",
    "    .reset_index(drop=True)\n",
    "    .assign(idx=[\"w_mean\", \"w_std\"])\n",
    "    .set_index(\"idx\")\n",
    ")\n",
    "\n",
    "pd.concat([unweighted_perf, weighted_perf]).sort_index(\n",
    "    key=lambda x: x.str.split(\"_\").str[1]\n",
    ")"
   ]
  }
 ],
 "metadata": {
  "kernelspec": {
   "display_name": "traits-py311",
   "language": "python",
   "name": "python3"
  },
  "language_info": {
   "codemirror_mode": {
    "name": "ipython",
    "version": 3
   },
   "file_extension": ".py",
   "mimetype": "text/x-python",
   "name": "python",
   "nbconvert_exporter": "python",
   "pygments_lexer": "ipython3",
   "version": "3.11.9"
  }
 },
 "nbformat": 4,
 "nbformat_minor": 2
}
